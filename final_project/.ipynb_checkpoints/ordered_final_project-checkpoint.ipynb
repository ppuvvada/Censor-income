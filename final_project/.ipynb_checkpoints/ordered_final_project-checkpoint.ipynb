{
 "cells": [
  {
   "cell_type": "code",
   "execution_count": 6,
   "metadata": {},
   "outputs": [],
   "source": [
    "import pandas as pd\n",
    "import numpy as np\n",
    "from scipy.stats import zscore\n",
    "from sklearn import linear_model\n",
    "import matplotlib.pyplot as plt\n",
    "\n",
    "%matplotlib inline"
   ]
  },
  {
   "cell_type": "markdown",
   "metadata": {},
   "source": [
    "### READ IN DATA AND ADD COLUMNS"
   ]
  },
  {
   "cell_type": "code",
   "execution_count": 12,
   "metadata": {},
   "outputs": [],
   "source": [
    "df = pd.read_csv(\"census-income.data.csv\", sep=\",\", names=['age', 'workclass', 'fnlwgt', 'education', 'educational-num', 'marital-status','occupation', 'relationship', 'race', 'gender', 'capital-gain', 'capital-loss', 'hours-per-week', 'native-country', 'income'])"
   ]
  },
  {
   "cell_type": "markdown",
   "metadata": {},
   "source": [
    "### REMOVE WHITESPACE FROM COLUMN VALUES"
   ]
  },
  {
   "cell_type": "code",
   "execution_count": 13,
   "metadata": {},
   "outputs": [],
   "source": [
    "df.replace(' ?', np.nan, inplace=True)\n",
    "df.replace(' <=50K', '<=50K', inplace=True)\n",
    "df.replace(' >50K', '>50K', inplace=True)"
   ]
  },
  {
   "cell_type": "markdown",
   "metadata": {},
   "source": [
    "### REMOVE MISSING VALUES\n"
   ]
  },
  {
   "cell_type": "code",
   "execution_count": 14,
   "metadata": {},
   "outputs": [
    {
     "data": {
      "text/plain": [
       "age                   0\n",
       "workclass          1836\n",
       "fnlwgt                0\n",
       "education             0\n",
       "educational-num       0\n",
       "marital-status        0\n",
       "occupation         1843\n",
       "relationship          0\n",
       "race                  0\n",
       "gender                0\n",
       "capital-gain          0\n",
       "capital-loss          0\n",
       "hours-per-week        0\n",
       "native-country      583\n",
       "income                0\n",
       "dtype: int64"
      ]
     },
     "execution_count": 14,
     "metadata": {},
     "output_type": "execute_result"
    }
   ],
   "source": [
    "df.isnull().sum()\n"
   ]
  },
  {
   "cell_type": "code",
   "execution_count": 15,
   "metadata": {},
   "outputs": [
    {
     "data": {
      "text/plain": [
       "age                0.0\n",
       "workclass          0.0\n",
       "fnlwgt             0.0\n",
       "education          0.0\n",
       "educational-num    0.0\n",
       "marital-status     0.0\n",
       "occupation         0.0\n",
       "relationship       0.0\n",
       "race               0.0\n",
       "gender             0.0\n",
       "capital-gain       0.0\n",
       "capital-loss       0.0\n",
       "hours-per-week     0.0\n",
       "native-country     0.0\n",
       "income             0.0\n",
       "dtype: float64"
      ]
     },
     "execution_count": 15,
     "metadata": {},
     "output_type": "execute_result"
    }
   ],
   "source": [
    "df = df[df['workclass'].notnull()]\n",
    "df = df[df['occupation'].notnull()]\n",
    "df = df[df['native-country'].notnull()]\n",
    "\n",
    "100* df.isnull().sum() / len(df)"
   ]
  },
  {
   "cell_type": "code",
   "execution_count": null,
   "metadata": {},
   "outputs": [],
   "source": []
  },
  {
   "cell_type": "markdown",
   "metadata": {},
   "source": [
    "### BALANCE THE DATA"
   ]
  },
  {
   "cell_type": "code",
   "execution_count": 16,
   "metadata": {},
   "outputs": [],
   "source": [
    "below_50 = df[df['income'] == '<=50K']\n",
    "above_50 = df[df['income'] == '>50K']\n",
    "frames = [below_50.head(10000), above_50]\n",
    "df_balanced = pd.concat(frames)"
   ]
  },
  {
   "cell_type": "code",
   "execution_count": 48,
   "metadata": {},
   "outputs": [
    {
     "data": {
      "text/plain": [
       "7508"
      ]
     },
     "execution_count": 48,
     "metadata": {},
     "output_type": "execute_result"
    }
   ],
   "source": [
    "len(df_balanced[df_balanced['income'] == '>50K'])"
   ]
  },
  {
   "cell_type": "markdown",
   "metadata": {},
   "source": [
    "### CONVERT NON NUMERIC DATA TO NUMERIC DATA AND REMOVE IRRELEVANT ROWS"
   ]
  },
  {
   "cell_type": "code",
   "execution_count": 49,
   "metadata": {},
   "outputs": [],
   "source": [
    "gender_split = pd.get_dummies(df_balanced['gender'])\n",
    "occupation_split = pd.get_dummies(df_balanced['occupation'])\n",
    "rel_split = pd.get_dummies(df_balanced['relationship'])\n",
    "race_split = pd.get_dummies(df_balanced['race'])\n",
    "work_split = pd.get_dummies(df_balanced['workclass'])\n",
    "country_split = pd.get_dummies(df_balanced['native-country'])"
   ]
  },
  {
   "cell_type": "code",
   "execution_count": 50,
   "metadata": {},
   "outputs": [],
   "source": [
    "df_balanced_dummies = pd.concat([df_balanced,gender_split, occupation_split, rel_split,race_split, work_split, country_split], axis=1)"
   ]
  },
  {
   "cell_type": "code",
   "execution_count": 51,
   "metadata": {},
   "outputs": [],
   "source": [
    "col_names = list(df_balanced_dummies.columns)\n",
    "col_names_strip = [a.strip() for a in col_names]\n",
    "df_balanced_dummies.columns = col_names_strip\n",
    "df_balanced_dummies['income'] = df_balanced_dummies['income'].map({'<=50K':0, '>50K':1})\n",
    "df_balanced_dummies = df_balanced_dummies.select_dtypes(['number'])\n"
   ]
  },
  {
   "cell_type": "markdown",
   "metadata": {},
   "source": [
    "### NORMALIZE THE DATASET"
   ]
  },
  {
   "cell_type": "code",
   "execution_count": 52,
   "metadata": {},
   "outputs": [],
   "source": [
    "df_balanced_dummies['fnlwgt'] = df_balanced_dummies['fnlwgt'].pipe(zscore)\n",
    "df_balanced_dummies['age'] = df_balanced_dummies['age'].pipe(zscore)\n",
    "df_balanced_dummies['hours-per-week'] = df_balanced_dummies['hours-per-week'].pipe(zscore)"
   ]
  },
  {
   "cell_type": "markdown",
   "metadata": {},
   "source": [
    "### RUN FEATURE SELECTION AND SELECT BEST FEATURES"
   ]
  },
  {
   "cell_type": "code",
   "execution_count": null,
   "metadata": {},
   "outputs": [],
   "source": []
  },
  {
   "cell_type": "markdown",
   "metadata": {},
   "source": [
    "### RUN MODELS"
   ]
  },
  {
   "cell_type": "code",
   "execution_count": null,
   "metadata": {},
   "outputs": [],
   "source": []
  }
 ],
 "metadata": {
  "kernelspec": {
   "display_name": "Python 3",
   "language": "python",
   "name": "python3"
  },
  "language_info": {
   "codemirror_mode": {
    "name": "ipython",
    "version": 3
   },
   "file_extension": ".py",
   "mimetype": "text/x-python",
   "name": "python",
   "nbconvert_exporter": "python",
   "pygments_lexer": "ipython3",
   "version": "3.6.3"
  }
 },
 "nbformat": 4,
 "nbformat_minor": 2
}
