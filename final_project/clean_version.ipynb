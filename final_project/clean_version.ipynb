{
 "cells": [
  {
   "cell_type": "code",
   "execution_count": 124,
   "metadata": {},
   "outputs": [],
   "source": [
    "# Feature Extraction with Univariate Statistical Tests (Chi-squared for classification)\n",
    "import pandas as pd\n",
    "import numpy as np\n",
    "from sklearn.feature_selection import SelectKBest\n",
    "from sklearn.feature_selection import chi2, SelectFpr, f_classif\n",
    "from DataPreprocessor import DataPreprocessor\n",
    "from sklearn.preprocessing import MinMaxScaler\n",
    "from FeatureSelection import FeatureSelection\n",
    "from sklearn.linear_model import LogisticRegression\n",
    "from sklearn import metrics\n",
    "from sklearn.neighbors import KNeighborsClassifier\n",
    "from sklearn.model_selection import cross_val_score\n",
    "from pandas_ml import ConfusionMatrix\n",
    "from sklearn.metrics import confusion_matrix\n",
    "from sklearn.ensemble import RandomForestClassifier\n",
    "from sklearn import svm\n",
    "from sklearn.naive_bayes import GaussianNB\n",
    "from sklearn.tree import DecisionTreeClassifier\n",
    "import sys\n",
    "\n",
    "import matplotlib.pyplot as plt\n",
    "%matplotlib inline"
   ]
  },
  {
   "cell_type": "code",
   "execution_count": 125,
   "metadata": {
    "collapsed": true
   },
   "outputs": [],
   "source": [
    "def update_progress(job_title, progress):\n",
    "    length = 20 # modify this to change the length\n",
    "    block = int(round(length*progress))\n",
    "    msg = \"\\r{0}: [{1}] {2}%\".format(job_title, \"#\"*block + \"-\"*(length-block), round(progress*100, 2))\n",
    "    if progress >= 1: msg += \" DONE\\r\\n\"\n",
    "    sys.stdout.write(msg)\n",
    "    sys.stdout.flush()"
   ]
  },
  {
   "cell_type": "markdown",
   "metadata": {},
   "source": [
    "### READ IN TRAINING AND TEST DATA FROM FILE"
   ]
  },
  {
   "cell_type": "code",
   "execution_count": 126,
   "metadata": {
    "collapsed": true
   },
   "outputs": [],
   "source": [
    "test_df = pd.read_csv(\"census-income.test.csv\", sep=\",\", names=['age', 'workclass', 'fnlwgt', 'education', 'educational-num', 'marital-status','occupation', 'relationship', 'race', 'gender', 'capital-gain', 'capital-loss', 'hours-per-week', 'native-country', 'income'])"
   ]
  },
  {
   "cell_type": "code",
   "execution_count": 127,
   "metadata": {
    "collapsed": true
   },
   "outputs": [],
   "source": [
    "df = pd.read_csv(\"census-income.data.csv\", sep=\",\", names=['age', 'workclass', 'fnlwgt', 'education', 'educational-num', 'marital-status','occupation', 'relationship', 'race', 'gender', 'capital-gain', 'capital-loss', 'hours-per-week', 'native-country', 'income'])"
   ]
  },
  {
   "cell_type": "code",
   "execution_count": 128,
   "metadata": {},
   "outputs": [
    {
     "data": {
      "text/plain": [
       "(32561, 15)"
      ]
     },
     "execution_count": 128,
     "metadata": {},
     "output_type": "execute_result"
    }
   ],
   "source": [
    "df.shape"
   ]
  },
  {
   "cell_type": "code",
   "execution_count": 129,
   "metadata": {},
   "outputs": [
    {
     "data": {
      "text/plain": [
       "(16281, 15)"
      ]
     },
     "execution_count": 129,
     "metadata": {},
     "output_type": "execute_result"
    }
   ],
   "source": [
    "test_df.shape"
   ]
  },
  {
   "cell_type": "code",
   "execution_count": null,
   "metadata": {
    "collapsed": true
   },
   "outputs": [],
   "source": []
  },
  {
   "cell_type": "code",
   "execution_count": null,
   "metadata": {
    "collapsed": true
   },
   "outputs": [],
   "source": []
  },
  {
   "cell_type": "markdown",
   "metadata": {},
   "source": [
    "#### Preprocess test data and training data by deleting missing values, removing leading and trailing white spaces as well as converting the categorical fields to numeric fields"
   ]
  },
  {
   "cell_type": "code",
   "execution_count": 130,
   "metadata": {
    "collapsed": true
   },
   "outputs": [],
   "source": [
    "dp = DataPreprocessor(test_df)\n",
    "test_df = dp.runTestSetPreprocessor()"
   ]
  },
  {
   "cell_type": "code",
   "execution_count": null,
   "metadata": {
    "collapsed": true
   },
   "outputs": [],
   "source": []
  },
  {
   "cell_type": "code",
   "execution_count": 131,
   "metadata": {
    "collapsed": true
   },
   "outputs": [],
   "source": [
    "dpp = DataPreprocessor(df)\n",
    "train_df = dpp.runProjectPreprocessor()"
   ]
  },
  {
   "cell_type": "code",
   "execution_count": 132,
   "metadata": {},
   "outputs": [
    {
     "data": {
      "text/plain": [
       "Index(['age', 'fnlwgt', 'educational-num', 'capital-gain', 'capital-loss',\n",
       "       'hours-per-week', 'income', 'Female', 'Male', 'Adm-clerical',\n",
       "       'Armed-Forces', 'Craft-repair', 'Exec-managerial', 'Farming-fishing',\n",
       "       'Handlers-cleaners', 'Machine-op-inspct', 'Other-service',\n",
       "       'Priv-house-serv', 'Prof-specialty', 'Protective-serv', 'Sales',\n",
       "       'Tech-support', 'Transport-moving', 'Husband', 'Not-in-family',\n",
       "       'Other-relative', 'Own-child', 'Unmarried', 'Wife',\n",
       "       'Amer-Indian-Eskimo', 'Asian-Pac-Islander', 'Black', 'Other', 'White',\n",
       "       'Gov', 'Private', 'Self-emp', 'Without-pay', 'Cambodia', 'Canada',\n",
       "       'China', 'Columbia', 'Cuba', 'Dominican-Republic', 'Ecuador',\n",
       "       'El-Salvador', 'England', 'France', 'Germany', 'Greece', 'Guatemala',\n",
       "       'Haiti', 'Honduras', 'Hong', 'Hungary', 'India', 'Iran', 'Ireland',\n",
       "       'Italy', 'Jamaica', 'Japan', 'Laos', 'Mexico', 'Nicaragua',\n",
       "       'Outlying-US(Guam-USVI-etc)', 'Peru', 'Philippines', 'Poland',\n",
       "       'Portugal', 'Puerto-Rico', 'Scotland', 'South', 'Taiwan', 'Thailand',\n",
       "       'Trinadad&Tobago', 'United-States', 'Vietnam', 'Yugoslavia', 'married',\n",
       "       'not married'],\n",
       "      dtype='object')"
      ]
     },
     "execution_count": 132,
     "metadata": {},
     "output_type": "execute_result"
    }
   ],
   "source": [
    "train_df.columns"
   ]
  },
  {
   "cell_type": "markdown",
   "metadata": {},
   "source": [
    "#### Remove prediction class from both the training data and test data, and convert both to numpy arrays in preparation for feature selection"
   ]
  },
  {
   "cell_type": "code",
   "execution_count": 133,
   "metadata": {
    "collapsed": true
   },
   "outputs": [],
   "source": [
    "Y = train_df['income'].values\n",
    "train_df = train_df.drop('income', axis=1)\n",
    "X = train_df.values"
   ]
  },
  {
   "cell_type": "code",
   "execution_count": 134,
   "metadata": {
    "collapsed": true
   },
   "outputs": [],
   "source": [
    "Y_test = test_df['income'].values\n",
    "test_df = test_df.drop('income', axis=1)\n",
    "X_test = test_df.values"
   ]
  },
  {
   "cell_type": "code",
   "execution_count": null,
   "metadata": {
    "collapsed": true
   },
   "outputs": [],
   "source": []
  },
  {
   "cell_type": "markdown",
   "metadata": {},
   "source": [
    "### FEATURE SELECTION\n"
   ]
  },
  {
   "cell_type": "code",
   "execution_count": 135,
   "metadata": {
    "collapsed": true
   },
   "outputs": [],
   "source": [
    "def extractRFEFeatureColumns(data):\n",
    "    outt = []\n",
    "    for i,j in enumerate(data):\n",
    "        if j == True:\n",
    "            outt.append(i)\n",
    "    return outt   \n",
    "\n",
    "fs = FeatureSelection()\n",
    "features_range = list(range(1,81))\n",
    "chi2_features = {}\n",
    "rfe_features = {}\n",
    "rfe_forest_features = {}\n",
    "rfe_dt_features= {}\n",
    "rfe_svm_features = {}\n",
    "rfe_nb_features = {}\n",
    "rfe_knn_features ={}"
   ]
  },
  {
   "cell_type": "markdown",
   "metadata": {},
   "source": [
    "#### Run Feature selection algorithms for range provided above in order to select the best features within said range"
   ]
  },
  {
   "cell_type": "code",
   "execution_count": 136,
   "metadata": {},
   "outputs": [
    {
     "name": "stdout",
     "output_type": "stream",
     "text": [
      "Feature Selection Process: [####################] 100% DONE\n"
     ]
    }
   ],
   "source": [
    "for i,feat in enumerate(features_range):\n",
    "    if feat == 80:\n",
    "        fit, features_list = fs.runUnivariateSelectionMethod(X,Y,'chi2', 'all')\n",
    "    else:\n",
    "        fit, features_list = fs.runUnivariateSelectionMethod(X,Y,'chi2', feat)\n",
    "\n",
    "    fit2 = fs.runRFESelectionMethod(X,Y,feat)\n",
    "    fit3 = fs.runRFESelectionMethodRF(X,Y,feat)\n",
    "    fit4 = fs.runRFESelectionMethodDT(X,Y,feat)\n",
    "\n",
    "    #fit6 = fs.runRFESelectionMethodNB(X,Y,feat)\n",
    "    #fit7 = fs.runRFESelectionMethodKNN(X,Y,feat)\n",
    "    \n",
    "    chi2_features[feat] = features_list\n",
    "    rfe_features[feat] = extractRFEFeatureColumns(fit2.support_)\n",
    "    rfe_forest_features[feat] = extractRFEFeatureColumns(fit3.support_)\n",
    "    rfe_dt_features[feat] = extractRFEFeatureColumns(fit4.support_)\n",
    "\n",
    "    #rfe_nb_features[feat] = extractRFEFeatureColumns(fit6.support_)\n",
    "    #rfe_knn_features[feat] = extractRFEFeatureColumns(fit7.support_)\n",
    "    \n",
    "    #fit5 = fs.runRFESelectionMethodSVM(X,Y,2)\n",
    "    #rfe_svm_features[feat] = extractRFEFeatureColumns(fit5.support_)\n",
    "    \n",
    "    update_progress(\"Feature Selection Process\", i/len(features_range))\n",
    "update_progress(\"Feature Selection Process\", 1)\n",
    "\n",
    "\n"
   ]
  },
  {
   "cell_type": "code",
   "execution_count": null,
   "metadata": {
    "collapsed": true
   },
   "outputs": [],
   "source": []
  },
  {
   "cell_type": "code",
   "execution_count": 137,
   "metadata": {
    "collapsed": true
   },
   "outputs": [],
   "source": [
    "def plotAccuracyForModelFeatures(models):\n",
    "    plot_list = [v['to_plot'] for k,v in models.items()]\n",
    "    plot_list\n",
    "    x = list(zip(*plot_list))[0]\n",
    "    y = list(zip(*plot_list))[1]\n",
    "    plt.plot(x, y)\n",
    "    \n",
    "    \n",
    "def getMaximumAccuracyFeatures(data):\n",
    "    plot_list = [v['to_plot'] for k,v in data.items()]\n",
    "    \n",
    "    return max(plot_list, key=lambda item:item[1])"
   ]
  },
  {
   "cell_type": "markdown",
   "metadata": {},
   "source": [
    "# DATA MODELLING SECTION"
   ]
  },
  {
   "cell_type": "code",
   "execution_count": null,
   "metadata": {
    "collapsed": true
   },
   "outputs": [],
   "source": []
  },
  {
   "cell_type": "markdown",
   "metadata": {},
   "source": [
    "## LOGISTIC REGRESSION\n"
   ]
  },
  {
   "cell_type": "code",
   "execution_count": 138,
   "metadata": {
    "collapsed": true
   },
   "outputs": [],
   "source": [
    "def runLogisticRegressionModel(train_x, train_y, test_x, test_y):\n",
    "    model = LogisticRegression()\n",
    "    model.fit(train_x, train_y)\n",
    "    predicted = model.predict(test_x)\n",
    "    report = \"-- CLASSIFICATION REPORT -- \\n\", metrics.classification_report(test_y, predicted), \"-- CONFUSION MATRIX --  \\n\", confusion_matrix(Y_test, predicted), \"\\n\", \"-- ACCURACY SCORE -- \\n \", metrics.accuracy_score(Y_test, predicted), \"\\n\"\n",
    "    accuracy_score = metrics.accuracy_score(Y_test, predicted)\n",
    "    cm = ConfusionMatrix(Y_test, predicted)\n",
    "    return cm, report,accuracy_score\n",
    "\n",
    "def automateLogisticRegressionWithChi2():\n",
    "    models = {}\n",
    "    for k,v in chi2_features.items():\n",
    "        #print(\"******Chi2 LOGISTIC REGRESSION with \"+ str(k)+ \" Features!****** \\n\")\n",
    "        train_selected = X[:, v]\n",
    "        test_selected = X_test[:, v]\n",
    "        cm, report, score = runLogisticRegressionModel(train_selected, Y, test_selected, Y_test)\n",
    "        models[k] = {\"cm\":cm, \"report\":report, \"accuracy\":score, \"to_plot\":(k,score)}\n",
    "        #print(\"Accuracy: \", score*100, \"%\\n\")\n",
    "    return models\n",
    "\n",
    "def automateLogisticRegressionWithRFE():\n",
    "    models = {}\n",
    "    for k,v in rfe_features.items():\n",
    "        #print(\"******RFE LOGISTIC REGRESSION with \"+ str(k)+ \" Features!****** \\n\")\n",
    "        train_selected = X[:, v]\n",
    "        test_selected = X_test[:, v]\n",
    "        cm, report, score = runLogisticRegressionModel(train_selected, Y, test_selected, Y_test)\n",
    "        models[k] = {\"cm\":cm, \"report\":report, \"accuracy\":score, \"to_plot\":(k,score)}\n",
    "        #print(\"Accuracy: \", score*100, \"%\\n\")\n",
    "    return models\n",
    "\n",
    "def logisticRegressioinTrainSet(train_x, train_y):\n",
    "    \n",
    "    model = LogisticRegression()\n",
    "    model.fit(train_x, train_y)\n",
    "    predicted = model.predict(train_x)\n",
    "    report = \"-- CLASSIFICATION REPORT -- \\n\", metrics.classification_report(train_y, predicted), \"-- CONFUSION MATRIX --  \\n\", confusion_matrix(train_y, predicted), \"\\n\", \"-- ACCURACY SCORE -- \\n \", metrics.accuracy_score(train_y, predicted), \"\\n\"\n",
    "    accuracy_score = metrics.accuracy_score(train_y, predicted)\n",
    "    cm = ConfusionMatrix(train_y, predicted)\n",
    "    return cm, report,accuracy_score\n",
    "\n",
    "def automateLogisticRegressionWithRFEForest():\n",
    "    models = {}\n",
    "    for k,v in rfe_forest_features.items():\n",
    "        #print(\"******RFE LOGISTIC REGRESSION with \"+ str(k)+ \" Features!****** \\n\")\n",
    "        train_selected = X[:, v]\n",
    "        test_selected = X_test[:, v]\n",
    "        cm, report, score = runLogisticRegressionModel(train_selected, Y, test_selected, Y_test)\n",
    "        models[k] = {\"cm\":cm, \"report\":report, \"accuracy\":score, \"to_plot\":(k,score)}\n",
    "        #print(\"Accuracy: \", score*100, \"%\\n\")\n",
    "    return models\n"
   ]
  },
  {
   "cell_type": "code",
   "execution_count": null,
   "metadata": {
    "collapsed": true
   },
   "outputs": [],
   "source": []
  },
  {
   "cell_type": "markdown",
   "metadata": {},
   "source": [
    "#### LOGISTIC REGRESSION USING ALL FEATURES (80)"
   ]
  },
  {
   "cell_type": "code",
   "execution_count": 139,
   "metadata": {},
   "outputs": [
    {
     "name": "stdout",
     "output_type": "stream",
     "text": [
      "(Test SET)Accuracy when all features are used is:  82.1314741036 %\n",
      "population: 15060\n",
      "P: 3700\n",
      "N: 11360\n",
      "PositiveTest: 4573\n",
      "NegativeTest: 10487\n",
      "TP: 2791\n",
      "TN: 9578\n",
      "FP: 1782\n",
      "FN: 909\n",
      "TPR: 0.754324324324\n",
      "TNR: 0.843133802817\n",
      "PPV: 0.610321452001\n",
      "NPV: 0.913321254887\n",
      "FPR: 0.156866197183\n",
      "FDR: 0.389678547999\n",
      "FNR: 0.245675675676\n",
      "ACC: 0.821314741036\n",
      "F1_score: 0.674725009066\n",
      "MCC: 0.559334060243\n",
      "informedness: 0.597458127141\n",
      "markedness: 0.523642706888\n",
      "prevalence: 0.245683930943\n",
      "LRP: 4.80871174205\n",
      "LRN: 0.29138397115\n",
      "DOR: 16.5030070908\n",
      "FOR: 0.086678745113\n",
      "None\n"
     ]
    }
   ],
   "source": [
    "lr_cm, lr_report, lr_acc = runLogisticRegressionModel(X,Y,X_test,Y_test)\n",
    "print(\"(Test SET)Accuracy when all features are used is: \", lr_acc*100, \"%\")\n",
    "print(lr_cm.print_stats())"
   ]
  },
  {
   "cell_type": "code",
   "execution_count": 140,
   "metadata": {},
   "outputs": [
    {
     "name": "stdout",
     "output_type": "stream",
     "text": [
      "(Training SET) Accuracy when all features are used is:  79.8949051862 %\n",
      "population: 17508\n",
      "P: 7508\n",
      "N: 10000\n",
      "PositiveTest: 7252\n",
      "NegativeTest: 10256\n",
      "TP: 5620\n",
      "TN: 8368\n",
      "FP: 1632\n",
      "FN: 1888\n",
      "TPR: 0.748534896111\n",
      "TNR: 0.8368\n",
      "PPV: 0.774958632101\n",
      "NPV: 0.815912636505\n",
      "FPR: 0.1632\n",
      "FDR: 0.225041367899\n",
      "FNR: 0.251465103889\n",
      "ACC: 0.798949051862\n",
      "F1_score: 0.761517615176\n",
      "MCC: 0.588096567432\n",
      "informedness: 0.585334896111\n",
      "markedness: 0.590871268607\n",
      "prevalence: 0.428832533699\n",
      "LRP: 4.58661088303\n",
      "LRN: 0.30050801134\n",
      "DOR: 15.2628572615\n",
      "FOR: 0.184087363495\n",
      "None\n"
     ]
    }
   ],
   "source": [
    "lrt_cw, lrt_rep, lrt_acc = logisticRegressioinTrainSet(X,Y)\n",
    "print(\"(Training SET) Accuracy when all features are used is: \", lrt_acc*100, \"%\")\n",
    "print(lrt_cw.print_stats())"
   ]
  },
  {
   "cell_type": "code",
   "execution_count": 141,
   "metadata": {},
   "outputs": [
    {
     "name": "stderr",
     "output_type": "stream",
     "text": [
      "/Users/ibrahimdawha/anaconda/lib/python3.6/site-packages/sklearn/metrics/classification.py:1113: UndefinedMetricWarning: Precision and F-score are ill-defined and being set to 0.0 in labels with no predicted samples.\n",
      "  'precision', 'predicted', average, warn_for)\n"
     ]
    }
   ],
   "source": [
    "lr_rfe_models = automateLogisticRegressionWithRFE()\n",
    "lr_chi2_models = automateLogisticRegressionWithChi2()\n",
    "lr_rfe_forest = automateLogisticRegressionWithRFEForest()"
   ]
  },
  {
   "cell_type": "code",
   "execution_count": 142,
   "metadata": {},
   "outputs": [
    {
     "data": {
      "image/png": "[encoded data removed]",
      "text/plain": [
       "<matplotlib.figure.Figure at 0x115824e48>"
      ]
     },
     "metadata": {},
     "output_type": "display_data"
    }
   ],
   "source": [
    "plotAccuracyForModelFeatures(lr_rfe_models)"
   ]
  },
  {
   "cell_type": "code",
   "execution_count": 143,
   "metadata": {},
   "outputs": [
    {
     "name": "stdout",
     "output_type": "stream",
     "text": [
      "The best accuracy for rfe is:  0.821314741036  with  79  features\n"
     ]
    }
   ],
   "source": [
    "print(\"The best accuracy for rfe is: \", getMaximumAccuracyFeatures(lr_rfe_models)[1], \" with \", getMaximumAccuracyFeatures(lr_rfe_models)[0], \" features\")"
   ]
  },
  {
   "cell_type": "code",
   "execution_count": 144,
   "metadata": {},
   "outputs": [
    {
     "name": "stdout",
     "output_type": "stream",
     "text": [
      "population: 15060\n",
      "P: 3700\n",
      "N: 11360\n",
      "PositiveTest: 4573\n",
      "NegativeTest: 10487\n",
      "TP: 2791\n",
      "TN: 9578\n",
      "FP: 1782\n",
      "FN: 909\n",
      "TPR: 0.754324324324\n",
      "TNR: 0.843133802817\n",
      "PPV: 0.610321452001\n",
      "NPV: 0.913321254887\n",
      "FPR: 0.156866197183\n",
      "FDR: 0.389678547999\n",
      "FNR: 0.245675675676\n",
      "ACC: 0.821314741036\n",
      "F1_score: 0.674725009066\n",
      "MCC: 0.559334060243\n",
      "informedness: 0.597458127141\n",
      "markedness: 0.523642706888\n",
      "prevalence: 0.245683930943\n",
      "LRP: 4.80871174205\n",
      "LRN: 0.29138397115\n",
      "DOR: 16.5030070908\n",
      "FOR: 0.086678745113\n"
     ]
    }
   ],
   "source": [
    "best_feats = getMaximumAccuracyFeatures(lr_rfe_models)[0]\n",
    "lr_rfe_models[best_feats]['cm'].print_stats()"
   ]
  },
  {
   "cell_type": "code",
   "execution_count": 145,
   "metadata": {},
   "outputs": [
    {
     "data": {
      "image/png": "[encoded data removed]",
      "text/plain": [
       "<matplotlib.figure.Figure at 0x1158750b8>"
      ]
     },
     "metadata": {},
     "output_type": "display_data"
    }
   ],
   "source": [
    "plotAccuracyForModelFeatures(lr_chi2_models)"
   ]
  },
  {
   "cell_type": "code",
   "execution_count": 146,
   "metadata": {},
   "outputs": [
    {
     "name": "stdout",
     "output_type": "stream",
     "text": [
      "The best accuracy for chi2 is:  0.824634794157  with  50  features\n",
      "population: 15060\n",
      "P: 3700\n",
      "N: 11360\n",
      "PositiveTest: 4441\n",
      "NegativeTest: 10619\n",
      "TP: 2750\n",
      "TN: 9669\n",
      "FP: 1691\n",
      "FN: 950\n",
      "TPR: 0.743243243243\n",
      "TNR: 0.851144366197\n",
      "PPV: 0.619229903175\n",
      "NPV: 0.910537715416\n",
      "FPR: 0.148855633803\n",
      "FDR: 0.380770096825\n",
      "FNR: 0.256756756757\n",
      "ACC: 0.824634794157\n",
      "F1_score: 0.675592679032\n",
      "MCC: 0.561148205355\n",
      "informedness: 0.59438760944\n",
      "markedness: 0.529767618591\n",
      "prevalence: 0.245683930943\n",
      "LRP: 4.99304745313\n",
      "LRN: 0.301660642958\n",
      "DOR: 16.551869028\n",
      "FOR: 0.0894622845842\n"
     ]
    }
   ],
   "source": [
    "print(\"The best accuracy for chi2 is: \", getMaximumAccuracyFeatures(lr_chi2_models)[1], \" with \", getMaximumAccuracyFeatures(lr_chi2_models)[0], \" features\")\n",
    "best_feats = getMaximumAccuracyFeatures(lr_chi2_models)[0]\n",
    "lr_chi2_models[best_feats]['cm'].print_stats()"
   ]
  },
  {
   "cell_type": "code",
   "execution_count": 147,
   "metadata": {},
   "outputs": [
    {
     "data": {
      "image/png": "[encoded data removed]",
      "text/plain": [
       "<matplotlib.figure.Figure at 0x1158894a8>"
      ]
     },
     "metadata": {},
     "output_type": "display_data"
    }
   ],
   "source": [
    "plotAccuracyForModelFeatures(lr_rfe_forest)"
   ]
  },
  {
   "cell_type": "code",
   "execution_count": 148,
   "metadata": {},
   "outputs": [
    {
     "name": "stdout",
     "output_type": "stream",
     "text": [
      "The best accuracy for RFE (FOREST) is:  0.825630810093  with  11  features\n",
      "population: 15060\n",
      "P: 3700\n",
      "N: 11360\n",
      "PositiveTest: 4050\n",
      "NegativeTest: 11010\n",
      "TP: 2562\n",
      "TN: 9872\n",
      "FP: 1488\n",
      "FN: 1138\n",
      "TPR: 0.692432432432\n",
      "TNR: 0.869014084507\n",
      "PPV: 0.632592592593\n",
      "NPV: 0.89663941871\n",
      "FPR: 0.130985915493\n",
      "FDR: 0.367407407407\n",
      "FNR: 0.307567567568\n",
      "ACC: 0.825630810093\n",
      "F1_score: 0.661161290323\n",
      "MCC: 0.545101338651\n",
      "informedness: 0.561446516939\n",
      "markedness: 0.529232011303\n",
      "prevalence: 0.245683930943\n",
      "LRP: 5.28631211857\n",
      "LRN: 0.353927022647\n",
      "DOR: 14.9361641816\n",
      "FOR: 0.10336058129\n"
     ]
    }
   ],
   "source": [
    "print(\"The best accuracy for RFE (FOREST) is: \", getMaximumAccuracyFeatures(lr_rfe_forest)[1], \" with \", getMaximumAccuracyFeatures(lr_rfe_forest)[0], \" features\")\n",
    "best_feats = getMaximumAccuracyFeatures(lr_rfe_forest)[0]\n",
    "lr_rfe_forest[best_feats]['cm'].print_stats()"
   ]
  },
  {
   "cell_type": "markdown",
   "metadata": {},
   "source": [
    "## KNN ALGORITHM"
   ]
  },
  {
   "cell_type": "code",
   "execution_count": 149,
   "metadata": {
    "collapsed": true
   },
   "outputs": [],
   "source": [
    "def runKNNAlgorithmModel(train_x, train_y, test_x, test_y, neighbors=10):\n",
    "    knn = KNeighborsClassifier(n_neighbors=neighbors)\n",
    "    knn.fit(train_x, train_y)\n",
    "    predicted = knn.predict(test_x)\n",
    "    report = \"-- CLASSIFICATION REPORT -- \\n\", metrics.classification_report(test_y, predicted), \"-- CONFUSION MATRIX --  \\n\", confusion_matrix(Y_test, predicted), \"\\n\", \"-- ACCURACY SCORE -- \\n \", metrics.accuracy_score(Y_test, predicted), \"\\n\"\n",
    "    accuracy_score = metrics.accuracy_score(Y_test, predicted)\n",
    "    cm = ConfusionMatrix(Y_test, predicted)\n",
    "    return cm, report,accuracy_score\n",
    "\n",
    "\n",
    "def automateKNNAlgorithmModelWithChi2():\n",
    "    models = {}\n",
    "    for k,v in chi2_features.items():\n",
    "        #print(\"******Chi2 KNN model with \"+ str(k)+ \" Features!****** \\n\")\n",
    "        train_selected = X[:, v]\n",
    "        test_selected = X_test[:, v]\n",
    "        cm, report, score = runKNNAlgorithmModel(train_selected, Y, test_selected, Y_test)\n",
    "        models[k] = {\"cm\":cm, \"report\":report, \"accuracy\":score, \"to_plot\":(k,score)}\n",
    "        #print(\"Accuracy: \", score*100, \"%\\n\")\n",
    "    return models\n",
    "\n",
    "def automateKNNAlgorithmModelWithRFE():\n",
    "    models = {}\n",
    "    for k,v in rfe_features.items():\n",
    "        #print(\"******RFE KNN Model with \"+ str(k)+ \" Features!****** \\n\")\n",
    "        train_selected = X[:, v]\n",
    "        test_selected = X_test[:, v]\n",
    "        cm, report, score = runKNNAlgorithmModel(train_selected, Y, test_selected, Y_test)\n",
    "        models[k] = {\"cm\":cm, \"report\":report, \"accuracy\":score, \"to_plot\":(k,score)}\n",
    "        #print(\"Accuracy: \", score*100, \"%\\n\")\n",
    "    return models\n",
    "\n",
    "def knnOnTrainSet(train_x, train_y, neighbors=10):\n",
    "    model = KNeighborsClassifier(n_neighbors=neighbors)\n",
    "    model.fit(train_x, train_y)\n",
    "    predicted = model.predict(train_x)\n",
    "    report = \"-- CLASSIFICATION REPORT -- \\n\", metrics.classification_report(train_y, predicted), \"-- CONFUSION MATRIX --  \\n\", confusion_matrix(train_y, predicted), \"\\n\", \"-- ACCURACY SCORE -- \\n \", metrics.accuracy_score(train_y, predicted), \"\\n\"\n",
    "    accuracy_score = metrics.accuracy_score(train_y, predicted)\n",
    "    cm = ConfusionMatrix(train_y, predicted)\n",
    "    return cm, report,accuracy_score\n",
    "def automateKNNAlgorithmModelWithRFEForest():\n",
    "    models = {}\n",
    "    for k,v in rfe_forest_features.items():\n",
    "        #print(\"******RFE KNN Model with \"+ str(k)+ \" Features!****** \\n\")\n",
    "        train_selected = X[:, v]\n",
    "        test_selected = X_test[:, v]\n",
    "        cm, report, score = runKNNAlgorithmModel(train_selected, Y, test_selected, Y_test)\n",
    "        models[k] = {\"cm\":cm, \"report\":report, \"accuracy\":score, \"to_plot\":(k,score)}\n",
    "        #print(\"Accuracy: \", score*100, \"%\\n\")\n",
    "    return models"
   ]
  },
  {
   "cell_type": "code",
   "execution_count": null,
   "metadata": {
    "collapsed": true
   },
   "outputs": [],
   "source": []
  },
  {
   "cell_type": "markdown",
   "metadata": {},
   "source": [
    "#### KNN CROSS VALIDATION (Finding best value for K)"
   ]
  },
  {
   "cell_type": "code",
   "execution_count": 150,
   "metadata": {
    "collapsed": true
   },
   "outputs": [],
   "source": [
    "def knnFindBestValueK(train_x, train_y, k_len):\n",
    "    mylist = list(range(1,k_len))\n",
    "    neigh = filter(lambda x: x % 2 != 0, mylist) ## IT HELPS TO HAVE ODD NUMBER FOR K'S\n",
    "    cv_scores = {}\n",
    "    for k in neigh:\n",
    "        knn = KNeighborsClassifier(n_neighbors=k)\n",
    "        scores = cross_val_score(knn, train_x, train_y, cv=10, scoring='accuracy')\n",
    "        cv_scores[k] = scores.mean() \n",
    "    \n",
    "    best_k=list(cv_scores.items())\n",
    "    plt.plot(*zip(*best_k))\n",
    "    plt.show()\n",
    "    return cv_scores\n",
    "    "
   ]
  },
  {
   "cell_type": "markdown",
   "metadata": {},
   "source": [
    "#### RUN KNN WITH ALL FEATURES (80)"
   ]
  },
  {
   "cell_type": "code",
   "execution_count": 151,
   "metadata": {},
   "outputs": [
    {
     "name": "stdout",
     "output_type": "stream",
     "text": [
      "(TEST SET) Accuracy when all features are used is:  83.8911022576 %\n",
      "population: 15060\n",
      "P: 3700\n",
      "N: 11360\n",
      "PositiveTest: 4470\n",
      "NegativeTest: 10590\n",
      "TP: 2872\n",
      "TN: 9762\n",
      "FP: 1598\n",
      "FN: 828\n",
      "TPR: 0.776216216216\n",
      "TNR: 0.859330985915\n",
      "PPV: 0.642505592841\n",
      "NPV: 0.921813031161\n",
      "FPR: 0.140669014085\n",
      "FDR: 0.357494407159\n",
      "FNR: 0.223783783784\n",
      "ACC: 0.838911022576\n",
      "F1_score: 0.70305997552\n",
      "MCC: 0.598874880585\n",
      "informedness: 0.635547202132\n",
      "markedness: 0.564318624003\n",
      "prevalence: 0.245683930943\n",
      "LRP: 5.51803267598\n",
      "LRN: 0.260416285985\n",
      "DOR: 21.1892764506\n",
      "FOR: 0.0781869688385\n"
     ]
    }
   ],
   "source": [
    "knn_cm, knn_report, knn_acc = runKNNAlgorithmModel(X,Y,X_test,Y_test)\n",
    "print(\"(TEST SET) Accuracy when all features are used is: \", knn_acc*100, \"%\")\n",
    "knn_cm.print_stats()"
   ]
  },
  {
   "cell_type": "code",
   "execution_count": 152,
   "metadata": {},
   "outputs": [
    {
     "name": "stdout",
     "output_type": "stream",
     "text": [
      "(TRAINING SET) Accuracy when all features are used is:  85.3609778387 %\n",
      "population: 17508\n",
      "P: 7508\n",
      "N: 10000\n",
      "PositiveTest: 7259\n",
      "NegativeTest: 10249\n",
      "TP: 6102\n",
      "TN: 8843\n",
      "FP: 1157\n",
      "FN: 1406\n",
      "TPR: 0.81273308471\n",
      "TNR: 0.8843\n",
      "PPV: 0.840611654498\n",
      "NPV: 0.862815884477\n",
      "FPR: 0.1157\n",
      "FDR: 0.159388345502\n",
      "FNR: 0.18726691529\n",
      "ACC: 0.853609778387\n",
      "F1_score: 0.826437326471\n",
      "MCC: 0.70022301259\n",
      "informedness: 0.69703308471\n",
      "markedness: 0.703427538974\n",
      "prevalence: 0.428832533699\n",
      "LRP: 7.02448647113\n",
      "LRN: 0.211768534762\n",
      "DOR: 33.1705863622\n",
      "FOR: 0.137184115523\n"
     ]
    }
   ],
   "source": [
    "knn_cmt, knn_reportt, knn_acct = knnOnTrainSet(X,Y)\n",
    "print(\"(TRAINING SET) Accuracy when all features are used is: \", knn_acct*100, \"%\")\n",
    "knn_cmt.print_stats()"
   ]
  },
  {
   "cell_type": "code",
   "execution_count": 153,
   "metadata": {
    "collapsed": true
   },
   "outputs": [],
   "source": [
    "knn_model = automateKNNAlgorithmModelWithChi2()\n"
   ]
  },
  {
   "cell_type": "code",
   "execution_count": 154,
   "metadata": {},
   "outputs": [
    {
     "data": {
      "image/png": "[encoded data removed]",
      "text/plain": [
       "<matplotlib.figure.Figure at 0x11c2fb400>"
      ]
     },
     "metadata": {},
     "output_type": "display_data"
    }
   ],
   "source": [
    "plotAccuracyForModelFeatures(knn_model)"
   ]
  },
  {
   "cell_type": "code",
   "execution_count": 155,
   "metadata": {},
   "outputs": [
    {
     "name": "stdout",
     "output_type": "stream",
     "text": [
      "The best accuracy for chi2 is:  0.845019920319  with  25  features\n"
     ]
    }
   ],
   "source": [
    "print(\"The best accuracy for chi2 is: \", getMaximumAccuracyFeatures(knn_model)[1], \" with \", getMaximumAccuracyFeatures(knn_model)[0], \" features\")"
   ]
  },
  {
   "cell_type": "code",
   "execution_count": 156,
   "metadata": {},
   "outputs": [
    {
     "name": "stdout",
     "output_type": "stream",
     "text": [
      "population: 15060\n",
      "P: 3700\n",
      "N: 11360\n",
      "PositiveTest: 3918\n",
      "NegativeTest: 11142\n",
      "TP: 2642\n",
      "TN: 10084\n",
      "FP: 1276\n",
      "FN: 1058\n",
      "TPR: 0.714054054054\n",
      "TNR: 0.887676056338\n",
      "PPV: 0.674323634507\n",
      "NPV: 0.905043977742\n",
      "FPR: 0.112323943662\n",
      "FDR: 0.325676365493\n",
      "FNR: 0.285945945946\n",
      "ACC: 0.845019920319\n",
      "F1_score: 0.693620372801\n",
      "MCC: 0.59044300087\n",
      "informedness: 0.601730110392\n",
      "markedness: 0.579367612249\n",
      "prevalence: 0.245683930943\n",
      "LRP: 6.35709565365\n",
      "LRN: 0.322128713402\n",
      "DOR: 19.7346445354\n",
      "FOR: 0.0949560222581\n"
     ]
    }
   ],
   "source": [
    "best_feats = getMaximumAccuracyFeatures(knn_model)[0]\n",
    "knn_model[best_feats]['cm'].print_stats()"
   ]
  },
  {
   "cell_type": "code",
   "execution_count": 157,
   "metadata": {},
   "outputs": [
    {
     "data": {
      "image/png": "[encoded data removed]",
      "text/plain": [
       "<matplotlib.figure.Figure at 0x11c2daf98>"
      ]
     },
     "metadata": {},
     "output_type": "display_data"
    }
   ],
   "source": [
    "knn_model2 = automateKNNAlgorithmModelWithRFE()\n",
    "plotAccuracyForModelFeatures(knn_model2)"
   ]
  },
  {
   "cell_type": "code",
   "execution_count": 158,
   "metadata": {},
   "outputs": [
    {
     "name": "stdout",
     "output_type": "stream",
     "text": [
      "The best accuracy for rfe is:  0.838911022576  with  79  features\n"
     ]
    }
   ],
   "source": [
    "print(\"The best accuracy for rfe is: \", getMaximumAccuracyFeatures(knn_model2)[1], \" with \", getMaximumAccuracyFeatures(knn_model2)[0], \" features\")"
   ]
  },
  {
   "cell_type": "code",
   "execution_count": 159,
   "metadata": {},
   "outputs": [
    {
     "name": "stdout",
     "output_type": "stream",
     "text": [
      "population: 15060\n",
      "P: 3700\n",
      "N: 11360\n",
      "PositiveTest: 4470\n",
      "NegativeTest: 10590\n",
      "TP: 2872\n",
      "TN: 9762\n",
      "FP: 1598\n",
      "FN: 828\n",
      "TPR: 0.776216216216\n",
      "TNR: 0.859330985915\n",
      "PPV: 0.642505592841\n",
      "NPV: 0.921813031161\n",
      "FPR: 0.140669014085\n",
      "FDR: 0.357494407159\n",
      "FNR: 0.223783783784\n",
      "ACC: 0.838911022576\n",
      "F1_score: 0.70305997552\n",
      "MCC: 0.598874880585\n",
      "informedness: 0.635547202132\n",
      "markedness: 0.564318624003\n",
      "prevalence: 0.245683930943\n",
      "LRP: 5.51803267598\n",
      "LRN: 0.260416285985\n",
      "DOR: 21.1892764506\n",
      "FOR: 0.0781869688385\n"
     ]
    }
   ],
   "source": [
    "best_feats = getMaximumAccuracyFeatures(knn_model2)[0]\n",
    "knn_model2[best_feats]['cm'].print_stats()"
   ]
  },
  {
   "cell_type": "code",
   "execution_count": 160,
   "metadata": {},
   "outputs": [],
   "source": [
    "knn_model3 = automateKNNAlgorithmModelWithRFEForest()"
   ]
  },
  {
   "cell_type": "code",
   "execution_count": 161,
   "metadata": {},
   "outputs": [
    {
     "data": {
      "image/png": "[encoded data removed]",
      "text/plain": [
       "<matplotlib.figure.Figure at 0x11c5b2978>"
      ]
     },
     "metadata": {},
     "output_type": "display_data"
    }
   ],
   "source": [
    "plotAccuracyForModelFeatures(knn_model3)\n"
   ]
  },
  {
   "cell_type": "code",
   "execution_count": 162,
   "metadata": {},
   "outputs": [
    {
     "name": "stdout",
     "output_type": "stream",
     "text": [
      "The best accuracy for rfe forest is:  0.841235059761  with  29  features\n"
     ]
    }
   ],
   "source": [
    "print(\"The best accuracy for rfe forest is: \", getMaximumAccuracyFeatures(knn_model3)[1], \" with \", getMaximumAccuracyFeatures(knn_model3)[0], \" features\")"
   ]
  },
  {
   "cell_type": "code",
   "execution_count": 163,
   "metadata": {},
   "outputs": [
    {
     "name": "stdout",
     "output_type": "stream",
     "text": [
      "population: 15060\n",
      "P: 3700\n",
      "N: 11360\n",
      "PositiveTest: 4399\n",
      "NegativeTest: 10661\n",
      "TP: 2854\n",
      "TN: 9815\n",
      "FP: 1545\n",
      "FN: 846\n",
      "TPR: 0.771351351351\n",
      "TNR: 0.863996478873\n",
      "PPV: 0.648783814503\n",
      "NPV: 0.920645342838\n",
      "FPR: 0.136003521127\n",
      "FDR: 0.351216185497\n",
      "FNR: 0.228648648649\n",
      "ACC: 0.841235059761\n",
      "F1_score: 0.7047783677\n",
      "MCC: 0.60148614247\n",
      "informedness: 0.635347830225\n",
      "markedness: 0.569429157342\n",
      "prevalence: 0.245683930943\n",
      "LRP: 5.67155427272\n",
      "LRN: 0.264640718151\n",
      "DOR: 21.4311475284\n",
      "FOR: 0.0793546571616\n"
     ]
    }
   ],
   "source": [
    "best_feats = getMaximumAccuracyFeatures(knn_model3)[0]\n",
    "knn_model3[best_feats]['cm'].print_stats()"
   ]
  },
  {
   "cell_type": "markdown",
   "metadata": {},
   "source": [
    "## RANDOM FOREST"
   ]
  },
  {
   "cell_type": "code",
   "execution_count": 164,
   "metadata": {
    "collapsed": true
   },
   "outputs": [],
   "source": [
    "def runRandomForestModel(train_x, train_y, test_x, test_y):\n",
    "    rf_model = RandomForestClassifier(n_jobs=2)\n",
    "    rf_model.fit(train_x, train_y)\n",
    "    predicted = rf_model.predict(test_x)\n",
    "    report = \"-- CLASSIFICATION REPORT -- \\n\", metrics.classification_report(test_y, predicted), \"-- CONFUSION MATRIX --  \\n\", confusion_matrix(Y_test, predicted), \"\\n\", \"-- ACCURACY SCORE -- \\n \", metrics.accuracy_score(Y_test, predicted), \"\\n\"\n",
    "    accuracy_score = metrics.accuracy_score(Y_test, predicted)\n",
    "    cm = ConfusionMatrix(Y_test, predicted)\n",
    "    return cm, report,accuracy_score\n",
    "\n",
    "def automateRandomForestModelWithChi2():\n",
    "    models = {}\n",
    "    for k,v in chi2_features.items():\n",
    "        #print(\"******Chi2 Random Forest model with \"+ str(k)+ \" Features!****** \\n\")\n",
    "        train_selected = X[:, v]\n",
    "        test_selected = X_test[:, v]\n",
    "        cm, report, score = runRandomForestModel(train_selected, Y, test_selected, Y_test)\n",
    "        models[k] = {\"cm\":cm, \"report\":report, \"accuracy\":score, \"to_plot\":(k,score)}\n",
    "        #print(\"Accuracy: \", score*100, \"%\\n\")\n",
    "    return models\n",
    "\n",
    "def automateRandomForestModelWithRFE():\n",
    "    models = {}\n",
    "    for k,v in rfe_features.items():\n",
    "        #print(\"******RFE Random Forest Model with \"+ str(k)+ \" Features!****** \\n\")\n",
    "        train_selected = X[:, v]\n",
    "        test_selected = X_test[:, v]\n",
    "        cm, report, score = runRandomForestModel(train_selected, Y, test_selected, Y_test)\n",
    "        models[k] = {\"cm\":cm, \"report\":report, \"accuracy\":score, \"to_plot\":(k,score)}\n",
    "        #print(\"Accuracy: \", score*100, \"%\\n\")\n",
    "    return models\n",
    "\n",
    "def randomForestOnTrainSet(train_x, train_y):\n",
    "    model = RandomForestClassifier(n_jobs=2)\n",
    "    model.fit(train_x, train_y)\n",
    "    predicted = model.predict(train_x)\n",
    "    report = \"-- CLASSIFICATION REPORT -- \\n\", metrics.classification_report(train_y, predicted), \"-- CONFUSION MATRIX --  \\n\", confusion_matrix(train_y, predicted), \"\\n\", \"-- ACCURACY SCORE -- \\n \", metrics.accuracy_score(train_y, predicted), \"\\n\"\n",
    "    accuracy_score = metrics.accuracy_score(train_y, predicted)\n",
    "    cm = ConfusionMatrix(train_y, predicted)\n",
    "    return cm, report,accuracy_score\n",
    "\n",
    "\n",
    "def automateRandomForestModelWithRFEForest():\n",
    "    models = {}\n",
    "    for k,v in rfe_forest_features.items():\n",
    "        #print(\"******RFE Random Forest Model with \"+ str(k)+ \" Features!****** \\n\")\n",
    "        train_selected = X[:, v]\n",
    "        test_selected = X_test[:, v]\n",
    "        cm, report, score = runRandomForestModel(train_selected, Y, test_selected, Y_test)\n",
    "        models[k] = {\"cm\":cm, \"report\":report, \"accuracy\":score, \"to_plot\":(k,score)}\n",
    "        #print(\"Accuracy: \", score*100, \"%\\n\")\n",
    "    return models\n"
   ]
  },
  {
   "cell_type": "markdown",
   "metadata": {},
   "source": [
    "#### RANDOM FOREST USING ALL AVAILABLE FEATURES (80)"
   ]
  },
  {
   "cell_type": "code",
   "execution_count": 165,
   "metadata": {},
   "outputs": [
    {
     "name": "stdout",
     "output_type": "stream",
     "text": [
      "(TEST SET) -- Accuracy when all features are used is:  82.3240371846 %\n",
      "population: 15060\n",
      "P: 3700\n",
      "N: 11360\n",
      "PositiveTest: 4354\n",
      "NegativeTest: 10706\n",
      "TP: 2696\n",
      "TN: 9702\n",
      "FP: 1658\n",
      "FN: 1004\n",
      "TPR: 0.728648648649\n",
      "TNR: 0.854049295775\n",
      "PPV: 0.619200734956\n",
      "NPV: 0.90622081076\n",
      "FPR: 0.145950704225\n",
      "FDR: 0.380799265044\n",
      "FNR: 0.271351351351\n",
      "ACC: 0.823240371846\n",
      "F1_score: 0.669481003228\n",
      "MCC: 0.553319125501\n",
      "informedness: 0.582697944423\n",
      "markedness: 0.525421545717\n",
      "prevalence: 0.245683930943\n",
      "LRP: 4.99242982428\n",
      "LRN: 0.317723289152\n",
      "DOR: 15.7131377986\n",
      "FOR: 0.0937791892397\n"
     ]
    }
   ],
   "source": [
    "rf_cm, rf_report, rf_acc = runRandomForestModel(X,Y,X_test,Y_test)\n",
    "print(\"(TEST SET) -- Accuracy when all features are used is: \", rf_acc*100, \"%\")\n",
    "rf_cm.print_stats()"
   ]
  },
  {
   "cell_type": "code",
   "execution_count": 166,
   "metadata": {},
   "outputs": [
    {
     "name": "stdout",
     "output_type": "stream",
     "text": [
      "(TRAINING SET) -- Accuracy when all features are used is:  98.7834132968 %\n",
      "population: 17508\n",
      "P: 7508\n",
      "N: 10000\n",
      "PositiveTest: 7383\n",
      "NegativeTest: 10125\n",
      "TP: 7339\n",
      "TN: 9956\n",
      "FP: 44\n",
      "FN: 169\n",
      "TPR: 0.977490676612\n",
      "TNR: 0.9956\n",
      "PPV: 0.994040362996\n",
      "NPV: 0.983308641975\n",
      "FPR: 0.0044\n",
      "FDR: 0.00595963700393\n",
      "FNR: 0.0225093233884\n",
      "ACC: 0.987834132968\n",
      "F1_score: 0.985696058022\n",
      "MCC: 0.975217516523\n",
      "informedness: 0.973090676612\n",
      "markedness: 0.977349004971\n",
      "prevalence: 0.428832533699\n",
      "LRP: 222.156971957\n",
      "LRN: 0.0226088021177\n",
      "DOR: 9826.1274879\n",
      "FOR: 0.0166913580247\n"
     ]
    }
   ],
   "source": [
    "rft_cm, rft_report, rft_acc = randomForestOnTrainSet(X,Y)\n",
    "print(\"(TRAINING SET) -- Accuracy when all features are used is: \", rft_acc*100, \"%\")\n",
    "rft_cm.print_stats()"
   ]
  },
  {
   "cell_type": "code",
   "execution_count": 167,
   "metadata": {},
   "outputs": [
    {
     "data": {
      "image/png": "[encoded data removed]",
      "text/plain": [
       "<matplotlib.figure.Figure at 0x11c6e7390>"
      ]
     },
     "metadata": {},
     "output_type": "display_data"
    }
   ],
   "source": [
    "rf_chi2 = automateRandomForestModelWithChi2()\n",
    "plotAccuracyForModelFeatures(rf_chi2)"
   ]
  },
  {
   "cell_type": "code",
   "execution_count": 168,
   "metadata": {},
   "outputs": [
    {
     "name": "stdout",
     "output_type": "stream",
     "text": [
      "The best accuracy for chi2 is:  0.832602921647  with  8  features\n"
     ]
    }
   ],
   "source": [
    "print(\"The best accuracy for chi2 is: \", getMaximumAccuracyFeatures(rf_chi2)[1], \" with \", getMaximumAccuracyFeatures(rf_chi2)[0], \" features\")"
   ]
  },
  {
   "cell_type": "code",
   "execution_count": 169,
   "metadata": {},
   "outputs": [
    {
     "name": "stdout",
     "output_type": "stream",
     "text": [
      "population: 15060\n",
      "P: 3700\n",
      "N: 11360\n",
      "PositiveTest: 4359\n",
      "NegativeTest: 10701\n",
      "TP: 2769\n",
      "TN: 9770\n",
      "FP: 1590\n",
      "FN: 931\n",
      "TPR: 0.748378378378\n",
      "TNR: 0.860035211268\n",
      "PPV: 0.63523743978\n",
      "NPV: 0.91299878516\n",
      "FPR: 0.139964788732\n",
      "FDR: 0.36476256022\n",
      "FNR: 0.251621621622\n",
      "ACC: 0.832602921647\n",
      "F1_score: 0.68718203251\n",
      "MCC: 0.57754166048\n",
      "informedness: 0.608413589646\n",
      "markedness: 0.54823622494\n",
      "prevalence: 0.245683930943\n",
      "LRP: 5.34690464049\n",
      "LRN: 0.292571302111\n",
      "DOR: 18.2755608698\n",
      "FOR: 0.0870012148397\n"
     ]
    }
   ],
   "source": [
    "best_feats = getMaximumAccuracyFeatures(rf_chi2)[0]\n",
    "rf_chi2[best_feats]['cm'].print_stats()"
   ]
  },
  {
   "cell_type": "code",
   "execution_count": 170,
   "metadata": {},
   "outputs": [
    {
     "data": {
      "image/png": "[encoded data removed]",
      "text/plain": [
       "<matplotlib.figure.Figure at 0x11c2edda0>"
      ]
     },
     "metadata": {},
     "output_type": "display_data"
    }
   ],
   "source": [
    "rf_rfe = automateRandomForestModelWithRFE()\n",
    "plotAccuracyForModelFeatures(rf_rfe)"
   ]
  },
  {
   "cell_type": "code",
   "execution_count": 171,
   "metadata": {},
   "outputs": [
    {
     "name": "stdout",
     "output_type": "stream",
     "text": [
      "The best accuracy for rfe is:  0.824966799469  with  80  features\n"
     ]
    }
   ],
   "source": [
    "print(\"The best accuracy for rfe is: \", getMaximumAccuracyFeatures(rf_rfe)[1], \" with \", getMaximumAccuracyFeatures(rf_rfe)[0], \" features\")"
   ]
  },
  {
   "cell_type": "code",
   "execution_count": 172,
   "metadata": {},
   "outputs": [
    {
     "name": "stdout",
     "output_type": "stream",
     "text": [
      "population: 15060\n",
      "P: 3700\n",
      "N: 11360\n",
      "PositiveTest: 4332\n",
      "NegativeTest: 10728\n",
      "TP: 2698\n",
      "TN: 9726\n",
      "FP: 1634\n",
      "FN: 1002\n",
      "TPR: 0.729189189189\n",
      "TNR: 0.856161971831\n",
      "PPV: 0.622807017544\n",
      "NPV: 0.906599552573\n",
      "FPR: 0.143838028169\n",
      "FDR: 0.377192982456\n",
      "FNR: 0.270810810811\n",
      "ACC: 0.824966799469\n",
      "F1_score: 0.671812749004\n",
      "MCC: 0.55667652229\n",
      "informedness: 0.58535116102\n",
      "markedness: 0.529406570117\n",
      "prevalence: 0.245683930943\n",
      "LRP: 5.06951602766\n",
      "LRN: 0.316307918035\n",
      "DOR: 16.0271549923\n",
      "FOR: 0.0934004474273\n"
     ]
    }
   ],
   "source": [
    "best_feats = getMaximumAccuracyFeatures(rf_rfe)[0]\n",
    "rf_rfe[best_feats]['cm'].print_stats()"
   ]
  },
  {
   "cell_type": "code",
   "execution_count": 173,
   "metadata": {},
   "outputs": [
    {
     "data": {
      "image/png": "[encoded data removed]",
      "text/plain": [
       "<matplotlib.figure.Figure at 0x114c014e0>"
      ]
     },
     "metadata": {},
     "output_type": "display_data"
    }
   ],
   "source": [
    "rf_rfe_forest = automateRandomForestModelWithRFEForest()\n",
    "plotAccuracyForModelFeatures(rf_rfe_forest)"
   ]
  },
  {
   "cell_type": "code",
   "execution_count": 174,
   "metadata": {},
   "outputs": [
    {
     "name": "stdout",
     "output_type": "stream",
     "text": [
      "The best accuracy for rfe forest is:  0.8302124834  with  43  features\n"
     ]
    }
   ],
   "source": [
    "print(\"The best accuracy for rfe forest is: \", getMaximumAccuracyFeatures(rf_rfe_forest)[1], \" with \", getMaximumAccuracyFeatures(rf_rfe_forest)[0], \" features\")"
   ]
  },
  {
   "cell_type": "code",
   "execution_count": 175,
   "metadata": {},
   "outputs": [
    {
     "name": "stdout",
     "output_type": "stream",
     "text": [
      "population: 15060\n",
      "P: 3700\n",
      "N: 11360\n",
      "PositiveTest: 4263\n",
      "NegativeTest: 10797\n",
      "TP: 2703\n",
      "TN: 9800\n",
      "FP: 1560\n",
      "FN: 997\n",
      "TPR: 0.730540540541\n",
      "TNR: 0.862676056338\n",
      "PPV: 0.63406052076\n",
      "NPV: 0.907659535056\n",
      "FPR: 0.137323943662\n",
      "FDR: 0.36593947924\n",
      "FNR: 0.269459459459\n",
      "ACC: 0.8302124834\n",
      "F1_score: 0.678889865629\n",
      "MCC: 0.566883875209\n",
      "informedness: 0.593216596879\n",
      "markedness: 0.541720055816\n",
      "prevalence: 0.245683930943\n",
      "LRP: 5.31983367983\n",
      "LRN: 0.312353006067\n",
      "DOR: 17.0314790525\n",
      "FOR: 0.092340464944\n"
     ]
    }
   ],
   "source": [
    "best_feats = getMaximumAccuracyFeatures(rf_rfe_forest)[0]\n",
    "rf_rfe_forest[best_feats]['cm'].print_stats()"
   ]
  },
  {
   "cell_type": "markdown",
   "metadata": {},
   "source": [
    "## NAIVE BAYES"
   ]
  },
  {
   "cell_type": "code",
   "execution_count": 176,
   "metadata": {
    "collapsed": true
   },
   "outputs": [],
   "source": [
    "def runNaiveBayesModel(train_x, train_y, test_x, test_y):\n",
    "    model = GaussianNB()\n",
    "    model.fit(train_x, train_y)\n",
    "    predicted = model.predict(test_x)\n",
    "    report = \"-- CLASSIFICATION REPORT -- \\n\", metrics.classification_report(test_y, predicted), \"-- CONFUSION MATRIX --  \\n\", confusion_matrix(Y_test, predicted), \"\\n\", \"-- ACCURACY SCORE -- \\n \", metrics.accuracy_score(Y_test, predicted), \"\\n\"\n",
    "    accuracy_score = metrics.accuracy_score(Y_test, predicted)\n",
    "    cm = ConfusionMatrix(Y_test, predicted)\n",
    "    return cm, report,accuracy_score\n",
    "\n",
    "def automateNaiveBayesModelWithChi2():\n",
    "    models = {}\n",
    "    for k,v in chi2_features.items():\n",
    "        #print(\"******Chi2 Naive Bayes model with \"+ str(k)+ \" Features!****** \\n\")\n",
    "        train_selected = X[:, v]\n",
    "        test_selected = X_test[:, v]\n",
    "        cm, report, score = runNaiveBayesModel(train_selected, Y, test_selected, Y_test)\n",
    "        models[k] = {\"cm\":cm, \"report\":report, \"accuracy\":score, \"to_plot\":(k,score)}\n",
    "        #print(\"Accuracy: \", score*100, \"%\\n\")\n",
    "    return models\n",
    "\n",
    "def automateNaiveBayesModelWithRFE():\n",
    "    models = {}\n",
    "    for k,v in rfe_features.items():\n",
    "        #print(\"******RFE Naive Bayes with \"+ str(k)+ \" Features!****** \\n\")\n",
    "        train_selected = X[:, v]\n",
    "        test_selected = X_test[:, v]\n",
    "        cm, report, score = runNaiveBayesModel(train_selected, Y, test_selected, Y_test)\n",
    "        models[k] = {\"cm\":cm, \"report\":report, \"accuracy\":score, \"to_plot\":(k,score)}\n",
    "        #print(\"Accuracy: \", score*100, \"%\\n\")\n",
    "    return models\n",
    "\n",
    "def automateNaiveBayesModelWithRFEForest():\n",
    "    models = {}\n",
    "    for k,v in rfe_forest_features.items():\n",
    "        #print(\"******RFE Naive Bayes with \"+ str(k)+ \" Features!****** \\n\")\n",
    "        train_selected = X[:, v]\n",
    "        test_selected = X_test[:, v]\n",
    "        cm, report, score = runNaiveBayesModel(train_selected, Y, test_selected, Y_test)\n",
    "        models[k] = {\"cm\":cm, \"report\":report, \"accuracy\":score,\"to_plot\":(k,score)}\n",
    "        #print(\"Accuracy: \", score*100, \"%\\n\")\n",
    "    return models\n",
    "\n",
    "\n",
    "def trainSetNaiveBayes(train_x, train_y):\n",
    "    model = GaussianNB()    \n",
    "    model.fit(train_x, train_y)\n",
    "    predicted = model.predict(train_x)\n",
    "    report = \"-- CLASSIFICATION REPORT -- \\n\", metrics.classification_report(train_y, predicted), \"-- CONFUSION MATRIX --  \\n\", confusion_matrix(train_y, predicted), \"\\n\", \"-- ACCURACY SCORE -- \\n \", metrics.accuracy_score(train_y, predicted), \"\\n\"\n",
    "    accuracy_score = metrics.accuracy_score(train_y, predicted)\n",
    "    cm = ConfusionMatrix(train_y, predicted)\n",
    "    return cm, report,accuracy_score"
   ]
  },
  {
   "cell_type": "markdown",
   "metadata": {},
   "source": [
    "#### RUN NAIVE BAYES ON DATA WITH ALL FEATURES(80)"
   ]
  },
  {
   "cell_type": "code",
   "execution_count": 177,
   "metadata": {},
   "outputs": [
    {
     "name": "stdout",
     "output_type": "stream",
     "text": [
      "(Test SET) Accuracy when all features are used is:  78.0677290837 %\n",
      "population: 15060\n",
      "P: 3700\n",
      "N: 11360\n",
      "PositiveTest: 5579\n",
      "NegativeTest: 9481\n",
      "TP: 2988\n",
      "TN: 8769\n",
      "FP: 2591\n",
      "FN: 712\n",
      "TPR: 0.807567567568\n",
      "TNR: 0.771919014085\n",
      "PPV: 0.53557985302\n",
      "NPV: 0.924902436452\n",
      "FPR: 0.228080985915\n",
      "FDR: 0.46442014698\n",
      "FNR: 0.192432432432\n",
      "ACC: 0.780677290837\n",
      "F1_score: 0.644034917556\n",
      "MCC: 0.516568783259\n",
      "informedness: 0.579486581652\n",
      "markedness: 0.460482289472\n",
      "prevalence: 0.245683930943\n",
      "LRP: 3.54070535221\n",
      "LRN: 0.249290960478\n",
      "DOR: 14.2031036561\n",
      "FOR: 0.0750975635481\n"
     ]
    }
   ],
   "source": [
    "nb_cm, nb_report, nb_acc = runNaiveBayesModel(X,Y,X_test,Y_test)\n",
    "print(\"(Test SET) Accuracy when all features are used is: \", nb_acc*100, \"%\")\n",
    "nb_cm.print_stats()"
   ]
  },
  {
   "cell_type": "code",
   "execution_count": 178,
   "metadata": {},
   "outputs": [
    {
     "name": "stdout",
     "output_type": "stream",
     "text": [
      "(TRAINING SET) Accuracy when all features are used is:  78.5583733151 %\n",
      "population: 17508\n",
      "P: 7508\n",
      "N: 10000\n",
      "PositiveTest: 8344\n",
      "NegativeTest: 9164\n",
      "TP: 6049\n",
      "TN: 7705\n",
      "FP: 2295\n",
      "FN: 1459\n",
      "TPR: 0.805673947789\n",
      "TNR: 0.7705\n",
      "PPV: 0.724952061361\n",
      "NPV: 0.840790048014\n",
      "FPR: 0.2295\n",
      "FDR: 0.275047938639\n",
      "FNR: 0.194326052211\n",
      "ACC: 0.785583733151\n",
      "F1_score: 0.76318445622\n",
      "MCC: 0.57093420338\n",
      "informedness: 0.576173947789\n",
      "markedness: 0.565742109375\n",
      "prevalence: 0.428832533699\n",
      "LRP: 3.510561864\n",
      "LRN: 0.252207725128\n",
      "DOR: 13.9193272618\n",
      "FOR: 0.159209951986\n"
     ]
    }
   ],
   "source": [
    "nbt_cm, nbt_report, nbt_acc = trainSetNaiveBayes(X,Y)\n",
    "print(\"(TRAINING SET) Accuracy when all features are used is: \", nbt_acc*100, \"%\")\n",
    "nbt_cm.print_stats()"
   ]
  },
  {
   "cell_type": "code",
   "execution_count": 179,
   "metadata": {},
   "outputs": [
    {
     "data": {
      "image/png": "[encoded data removed]",
      "text/plain": [
       "<matplotlib.figure.Figure at 0x116ca2128>"
      ]
     },
     "metadata": {},
     "output_type": "display_data"
    }
   ],
   "source": [
    "nb1 = automateNaiveBayesModelWithChi2()\n",
    "plotAccuracyForModelFeatures(nb1)"
   ]
  },
  {
   "cell_type": "code",
   "execution_count": 180,
   "metadata": {},
   "outputs": [
    {
     "name": "stdout",
     "output_type": "stream",
     "text": [
      "The best accuracy for chi2 is:  0.820185922975  with  12  features\n"
     ]
    }
   ],
   "source": [
    "print(\"The best accuracy for chi2 is: \", getMaximumAccuracyFeatures(nb1)[1], \" with \", getMaximumAccuracyFeatures(nb1)[0], \" features\")"
   ]
  },
  {
   "cell_type": "code",
   "execution_count": 181,
   "metadata": {},
   "outputs": [
    {
     "name": "stdout",
     "output_type": "stream",
     "text": [
      "population: 15060\n",
      "P: 3700\n",
      "N: 11360\n",
      "PositiveTest: 3666\n",
      "NegativeTest: 11394\n",
      "TP: 2329\n",
      "TN: 10023\n",
      "FP: 1337\n",
      "FN: 1371\n",
      "TPR: 0.629459459459\n",
      "TNR: 0.882306338028\n",
      "PPV: 0.635297326787\n",
      "NPV: 0.879673512375\n",
      "FPR: 0.117693661972\n",
      "FDR: 0.364702673213\n",
      "FNR: 0.370540540541\n",
      "ACC: 0.820185922975\n",
      "F1_score: 0.632364919902\n",
      "MCC: 0.513365817119\n",
      "informedness: 0.511765797488\n",
      "markedness: 0.514970839162\n",
      "prevalence: 0.245683930943\n",
      "LRP: 5.34828680588\n",
      "LRN: 0.419968127361\n",
      "DOR: 12.7349826271\n",
      "FOR: 0.120326487625\n"
     ]
    }
   ],
   "source": [
    "best_feats = getMaximumAccuracyFeatures(nb1)[0]\n",
    "nb1[best_feats]['cm'].print_stats()"
   ]
  },
  {
   "cell_type": "code",
   "execution_count": 182,
   "metadata": {},
   "outputs": [
    {
     "name": "stderr",
     "output_type": "stream",
     "text": [
      "/Users/ibrahimdawha/anaconda/lib/python3.6/site-packages/sklearn/metrics/classification.py:1113: UndefinedMetricWarning: Precision and F-score are ill-defined and being set to 0.0 in labels with no predicted samples.\n",
      "  'precision', 'predicted', average, warn_for)\n"
     ]
    },
    {
     "data": {
      "image/png": "[encoded data removed]",
      "text/plain": [
       "<matplotlib.figure.Figure at 0x117c2d518>"
      ]
     },
     "metadata": {},
     "output_type": "display_data"
    }
   ],
   "source": [
    "nb2 = automateNaiveBayesModelWithRFEForest()\n",
    "plotAccuracyForModelFeatures(nb2)"
   ]
  },
  {
   "cell_type": "code",
   "execution_count": 183,
   "metadata": {},
   "outputs": [
    {
     "name": "stdout",
     "output_type": "stream",
     "text": [
      "The best accuracy for rfe (Random Forest) is:  0.817795484728  with  20  features\n"
     ]
    }
   ],
   "source": [
    "print(\"The best accuracy for rfe (Random Forest) is: \", getMaximumAccuracyFeatures(nb2)[1], \" with \", getMaximumAccuracyFeatures(nb2)[0], \" features\")"
   ]
  },
  {
   "cell_type": "code",
   "execution_count": 184,
   "metadata": {},
   "outputs": [
    {
     "name": "stdout",
     "output_type": "stream",
     "text": [
      "population: 15060\n",
      "P: 3700\n",
      "N: 11360\n",
      "PositiveTest: 3312\n",
      "NegativeTest: 11748\n",
      "TP: 2134\n",
      "TN: 10182\n",
      "FP: 1178\n",
      "FN: 1566\n",
      "TPR: 0.576756756757\n",
      "TNR: 0.896302816901\n",
      "PPV: 0.644323671498\n",
      "NPV: 0.866700715015\n",
      "FPR: 0.103697183099\n",
      "FDR: 0.355676328502\n",
      "FNR: 0.423243243243\n",
      "ACC: 0.817795484728\n",
      "F1_score: 0.608670849971\n",
      "MCC: 0.491675684179\n",
      "informedness: 0.473059573658\n",
      "markedness: 0.511024386513\n",
      "prevalence: 0.245683930943\n",
      "LRP: 5.56193273069\n",
      "LRN: 0.472210100495\n",
      "DOR: 11.7785128375\n",
      "FOR: 0.133299284985\n"
     ]
    }
   ],
   "source": [
    "best_feats = getMaximumAccuracyFeatures(nb2)[0]\n",
    "nb2[best_feats]['cm'].print_stats()"
   ]
  },
  {
   "cell_type": "code",
   "execution_count": 185,
   "metadata": {},
   "outputs": [
    {
     "data": {
      "image/png": "[encoded data removed]",
      "text/plain": [
       "<matplotlib.figure.Figure at 0x11d16ce48>"
      ]
     },
     "metadata": {},
     "output_type": "display_data"
    }
   ],
   "source": [
    "nb3 = automateNaiveBayesModelWithRFE()\n",
    "plotAccuracyForModelFeatures(nb3)"
   ]
  },
  {
   "cell_type": "code",
   "execution_count": 186,
   "metadata": {},
   "outputs": [
    {
     "name": "stdout",
     "output_type": "stream",
     "text": [
      "The best accuracy for rfe (Logistic regression) is:  0.780743691899  with  77  features\n"
     ]
    }
   ],
   "source": [
    "print(\"The best accuracy for rfe (Logistic regression) is: \", getMaximumAccuracyFeatures(nb3)[1], \" with \", getMaximumAccuracyFeatures(nb3)[0], \" features\")"
   ]
  },
  {
   "cell_type": "code",
   "execution_count": 187,
   "metadata": {},
   "outputs": [
    {
     "name": "stdout",
     "output_type": "stream",
     "text": [
      "population: 15060\n",
      "P: 3700\n",
      "N: 11360\n",
      "PositiveTest: 5582\n",
      "NegativeTest: 9478\n",
      "TP: 2990\n",
      "TN: 8768\n",
      "FP: 2592\n",
      "FN: 710\n",
      "TPR: 0.808108108108\n",
      "TNR: 0.771830985915\n",
      "PPV: 0.53565030455\n",
      "NPV: 0.925089681367\n",
      "FPR: 0.228169014085\n",
      "FDR: 0.46434969545\n",
      "FNR: 0.191891891892\n",
      "ACC: 0.780743691899\n",
      "F1_score: 0.644257703081\n",
      "MCC: 0.51691501237\n",
      "informedness: 0.579939094024\n",
      "markedness: 0.460739985918\n",
      "prevalence: 0.245683930943\n",
      "LRP: 3.54170837504\n",
      "LRN: 0.248619057013\n",
      "DOR: 14.2455225178\n",
      "FOR: 0.0749103186326\n"
     ]
    }
   ],
   "source": [
    "best_feats = getMaximumAccuracyFeatures(nb3)[0]\n",
    "nb3[best_feats]['cm'].print_stats()"
   ]
  },
  {
   "cell_type": "markdown",
   "metadata": {},
   "source": [
    "## DECISION TREES"
   ]
  },
  {
   "cell_type": "code",
   "execution_count": 188,
   "metadata": {
    "collapsed": true
   },
   "outputs": [],
   "source": [
    "def runDecisionTreeModel(train_x, train_y, test_x, test_y):\n",
    "    model = DecisionTreeClassifier()\n",
    "    model.fit(train_x, train_y)\n",
    "    predicted = model.predict(test_x)\n",
    "    report = \"-- CLASSIFICATION REPORT -- \\n\", metrics.classification_report(test_y, predicted), \"-- CONFUSION MATRIX --  \\n\", confusion_matrix(Y_test, predicted), \"\\n\", \"-- ACCURACY SCORE -- \\n \", metrics.accuracy_score(Y_test, predicted), \"\\n\"\n",
    "    accuracy_score = metrics.accuracy_score(Y_test, predicted)\n",
    "    cm = ConfusionMatrix(Y_test, predicted)\n",
    "    return cm, report,accuracy_score\n",
    "\n",
    "def automateDecisionTreeModelWithChi2():\n",
    "    models = {}\n",
    "    for k,v in chi2_features.items():\n",
    "        #print(\"******Chi2 Support Vector Machine model with \"+ str(k)+ \" Features!****** \\n\")\n",
    "        train_selected = X[:, v]\n",
    "        test_selected = X_test[:, v]\n",
    "        cm, report, score = runDecisionTreeModel(train_selected, Y, test_selected, Y_test)\n",
    "        models[k] = {\"cm\":cm, \"report\":report, \"accuracy\":score,\"to_plot\":(k,score)}\n",
    "        #print(\"Accuracy: \", score*100, \"%\\n\")\n",
    "    return models\n",
    "\n",
    "def automateDecisionTreeModelWithRFE():\n",
    "    models = {}\n",
    "    for k,v in rfe_features.items():\n",
    "        #print(\"******RFE Support Vector Machine with \"+ str(k)+ \" Features!****** \\n\")\n",
    "        train_selected = X[:, v]\n",
    "        test_selected = X_test[:, v]\n",
    "        cm, report, score = runDecisionTreeModel(train_selected, Y, test_selected, Y_test)\n",
    "        models[k] = {\"cm\":cm, \"report\":report, \"accuracy\":score,\"to_plot\":(k,score)}\n",
    "        #print(\"Accuracy: \", score*100, \"%\\n\")\n",
    "    return models\n",
    "\n",
    "\n",
    "def trainSetDecisionTree(train_x, train_y):\n",
    "    model = DecisionTreeClassifier()\n",
    "    model.fit(train_x, train_y)\n",
    "    predicted = model.predict(train_x)\n",
    "    report = \"-- CLASSIFICATION REPORT -- \\n\", metrics.classification_report(train_y, predicted), \"-- CONFUSION MATRIX --  \\n\", confusion_matrix(train_y, predicted), \"\\n\", \"-- ACCURACY SCORE -- \\n \", metrics.accuracy_score(train_y, predicted), \"\\n\"\n",
    "    accuracy_score = metrics.accuracy_score(train_y, predicted)\n",
    "    cm = ConfusionMatrix(train_y, predicted)\n",
    "    return cm, report,accuracy_score\n",
    "\n",
    "def automateDecisionTreeModelWithRFEForest():\n",
    "    models = {}\n",
    "    for k,v in rfe_forest_features.items():\n",
    "        #print(\"******RFE Support Vector Machine with \"+ str(k)+ \" Features!****** \\n\")\n",
    "        train_selected = X[:, v]\n",
    "        test_selected = X_test[:, v]\n",
    "        cm, report, score = runDecisionTreeModel(train_selected, Y, test_selected, Y_test)\n",
    "        models[k] = {\"cm\":cm, \"report\":report, \"accuracy\":score, \"to_plot\":(k,score)}\n",
    "        #print(\"Accuracy: \", score*100, \"%\\n\")\n",
    "    return models"
   ]
  },
  {
   "cell_type": "code",
   "execution_count": 189,
   "metadata": {},
   "outputs": [
    {
     "name": "stdout",
     "output_type": "stream",
     "text": [
      "(TEST SET) Accuracy when all features are used is:  78.4462151394 %\n",
      "population: 15060\n",
      "P: 3700\n",
      "N: 11360\n",
      "PositiveTest: 4968\n",
      "NegativeTest: 10092\n",
      "TP: 2711\n",
      "TN: 9103\n",
      "FP: 2257\n",
      "FN: 989\n",
      "TPR: 0.732702702703\n",
      "TNR: 0.801320422535\n",
      "PPV: 0.545692431562\n",
      "NPV: 0.902001585414\n",
      "FPR: 0.198679577465\n",
      "FDR: 0.454307568438\n",
      "FNR: 0.267297297297\n",
      "ACC: 0.784462151394\n",
      "F1_score: 0.6255191509\n",
      "MCC: 0.488957010478\n",
      "informedness: 0.534023125238\n",
      "markedness: 0.447694016976\n",
      "prevalence: 0.245683930943\n",
      "LRP: 3.68786118861\n",
      "LRN: 0.333571053202\n",
      "DOR: 11.0556990878\n",
      "FOR: 0.0979984145858\n"
     ]
    }
   ],
   "source": [
    "dt_cm, dt_report, dt_acc = runDecisionTreeModel(X,Y,X_test,Y_test)\n",
    "print(\"(TEST SET) Accuracy when all features are used is: \", dt_acc*100, \"%\")\n",
    "dt_cm.print_stats()"
   ]
  },
  {
   "cell_type": "code",
   "execution_count": 190,
   "metadata": {},
   "outputs": [
    {
     "name": "stdout",
     "output_type": "stream",
     "text": [
      "(TRAINING SET) Accuracy when all features are used is:  99.9942883253 %\n",
      "population: 17508\n",
      "P: 7508\n",
      "N: 10000\n",
      "PositiveTest: 7507\n",
      "NegativeTest: 10001\n",
      "TP: 7507\n",
      "TN: 10000\n",
      "FP: 0\n",
      "FN: 1\n",
      "TPR: 0.999866808737\n",
      "TNR: 1.0\n",
      "PPV: 1.0\n",
      "NPV: 0.999900009999\n",
      "FPR: 0.0\n",
      "FDR: 0.0\n",
      "FNR: 0.000133191262653\n",
      "ACC: 0.999942883253\n",
      "F1_score: 0.999933399933\n",
      "MCC: 0.99988340923\n",
      "informedness: 0.999866808737\n",
      "markedness: 0.999900009999\n",
      "prevalence: 0.428832533699\n",
      "LRP: inf\n",
      "LRN: 0.000133191262653\n",
      "DOR: inf\n",
      "FOR: 9.99900009999e-05\n"
     ]
    },
    {
     "name": "stderr",
     "output_type": "stream",
     "text": [
      "/Users/ibrahimdawha/anaconda/lib/python3.6/site-packages/pandas_ml/confusion_matrix/bcm.py:332: RuntimeWarning: divide by zero encountered in double_scalars\n",
      "  return(np.float64(self.TPR) / self.FPR)\n"
     ]
    }
   ],
   "source": [
    "dtt_cm, dtt_report, dtt_acc = trainSetDecisionTree(X,Y)\n",
    "print(\"(TRAINING SET) Accuracy when all features are used is: \", dtt_acc*100, \"%\")\n",
    "dtt_cm.print_stats()"
   ]
  },
  {
   "cell_type": "code",
   "execution_count": 191,
   "metadata": {},
   "outputs": [
    {
     "data": {
      "image/png": "[encoded data removed]",
      "text/plain": [
       "<matplotlib.figure.Figure at 0x11c4f7748>"
      ]
     },
     "metadata": {},
     "output_type": "display_data"
    }
   ],
   "source": [
    "mm = automateDecisionTreeModelWithRFE()\n",
    "plotAccuracyForModelFeatures(mm)"
   ]
  },
  {
   "cell_type": "code",
   "execution_count": 192,
   "metadata": {},
   "outputs": [
    {
     "name": "stdout",
     "output_type": "stream",
     "text": [
      "The best accuracy for rfe (Logistic regression) is:  0.785258964143  with  77  features\n"
     ]
    }
   ],
   "source": [
    "print(\"The best accuracy for rfe (Logistic regression) is: \", getMaximumAccuracyFeatures(mm)[1], \" with \", getMaximumAccuracyFeatures(mm)[0], \" features\")"
   ]
  },
  {
   "cell_type": "code",
   "execution_count": 193,
   "metadata": {},
   "outputs": [
    {
     "name": "stdout",
     "output_type": "stream",
     "text": [
      "population: 15060\n",
      "P: 3700\n",
      "N: 11360\n",
      "PositiveTest: 4970\n",
      "NegativeTest: 10090\n",
      "TP: 2718\n",
      "TN: 9108\n",
      "FP: 2252\n",
      "FN: 982\n",
      "TPR: 0.734594594595\n",
      "TNR: 0.80176056338\n",
      "PPV: 0.546881287726\n",
      "NPV: 0.902675916749\n",
      "FPR: 0.19823943662\n",
      "FDR: 0.453118712274\n",
      "FNR: 0.265405405405\n",
      "ACC: 0.785258964143\n",
      "F1_score: 0.626989619377\n",
      "MCC: 0.491042081115\n",
      "informedness: 0.536355157975\n",
      "markedness: 0.449557204476\n",
      "prevalence: 0.245683930943\n",
      "LRP: 3.70559262637\n",
      "LRN: 0.331028261463\n",
      "DOR: 11.1941881034\n",
      "FOR: 0.0973240832507\n"
     ]
    }
   ],
   "source": [
    "best_feats = getMaximumAccuracyFeatures(mm)[0]\n",
    "mm[best_feats]['cm'].print_stats()"
   ]
  },
  {
   "cell_type": "code",
   "execution_count": 194,
   "metadata": {
    "scrolled": true
   },
   "outputs": [
    {
     "data": {
      "image/png": "[encoded data removed]",
      "text/plain": [
       "<matplotlib.figure.Figure at 0x1169ff860>"
      ]
     },
     "metadata": {},
     "output_type": "display_data"
    }
   ],
   "source": [
    "mm2 = automateDecisionTreeModelWithChi2()\n",
    "plotAccuracyForModelFeatures(mm2)"
   ]
  },
  {
   "cell_type": "code",
   "execution_count": 195,
   "metadata": {
    "scrolled": true
   },
   "outputs": [
    {
     "name": "stdout",
     "output_type": "stream",
     "text": [
      "The best accuracy for chi2 is:  0.831474103586  with  7  features\n"
     ]
    }
   ],
   "source": [
    "print(\"The best accuracy for chi2 is: \", getMaximumAccuracyFeatures(mm2)[1], \" with \", getMaximumAccuracyFeatures(mm2)[0], \" features\")"
   ]
  },
  {
   "cell_type": "code",
   "execution_count": 196,
   "metadata": {},
   "outputs": [
    {
     "name": "stdout",
     "output_type": "stream",
     "text": [
      "population: 15060\n",
      "P: 3700\n",
      "N: 11360\n",
      "PositiveTest: 4400\n",
      "NegativeTest: 10660\n",
      "TP: 2781\n",
      "TN: 9741\n",
      "FP: 1619\n",
      "FN: 919\n",
      "TPR: 0.751621621622\n",
      "TNR: 0.857482394366\n",
      "PPV: 0.632045454545\n",
      "NPV: 0.913789868668\n",
      "FPR: 0.142517605634\n",
      "FDR: 0.367954545455\n",
      "FNR: 0.248378378378\n",
      "ACC: 0.831474103586\n",
      "F1_score: 0.686666666667\n",
      "MCC: 0.576602538528\n",
      "informedness: 0.609104015988\n",
      "markedness: 0.545835323213\n",
      "prevalence: 0.245683930943\n",
      "LRP: 5.27388611589\n",
      "LRN: 0.289660032684\n",
      "DOR: 18.2071584644\n",
      "FOR: 0.0862101313321\n"
     ]
    }
   ],
   "source": [
    "best_feats = getMaximumAccuracyFeatures(mm2)[0]\n",
    "mm2[best_feats]['cm'].print_stats()"
   ]
  },
  {
   "cell_type": "code",
   "execution_count": 197,
   "metadata": {},
   "outputs": [
    {
     "data": {
      "image/png": "[encoded data removed]",
      "text/plain": [
       "<matplotlib.figure.Figure at 0x11c282c18>"
      ]
     },
     "metadata": {},
     "output_type": "display_data"
    }
   ],
   "source": [
    "mm3 = automateDecisionTreeModelWithRFEForest()\n",
    "plotAccuracyForModelFeatures(mm3)"
   ]
  },
  {
   "cell_type": "code",
   "execution_count": 198,
   "metadata": {},
   "outputs": [
    {
     "name": "stdout",
     "output_type": "stream",
     "text": [
      "The best accuracy for rfe (random forest) is:  0.78625498008  with  59  features\n"
     ]
    }
   ],
   "source": [
    "print(\"The best accuracy for rfe (random forest) is: \", getMaximumAccuracyFeatures(mm3)[1], \" with \", getMaximumAccuracyFeatures(mm3)[0], \" features\")"
   ]
  },
  {
   "cell_type": "code",
   "execution_count": 199,
   "metadata": {},
   "outputs": [
    {
     "name": "stdout",
     "output_type": "stream",
     "text": [
      "population: 15060\n",
      "P: 3700\n",
      "N: 11360\n",
      "PositiveTest: 4955\n",
      "NegativeTest: 10105\n",
      "TP: 2718\n",
      "TN: 9123\n",
      "FP: 2237\n",
      "FN: 982\n",
      "TPR: 0.734594594595\n",
      "TNR: 0.803080985915\n",
      "PPV: 0.548536831483\n",
      "NPV: 0.902820385948\n",
      "FPR: 0.196919014085\n",
      "FDR: 0.451463168517\n",
      "FNR: 0.265405405405\n",
      "ACC: 0.78625498008\n",
      "F1_score: 0.628076256499\n",
      "MCC: 0.492629428576\n",
      "informedness: 0.53767558051\n",
      "markedness: 0.451357217431\n",
      "prevalence: 0.245683930943\n",
      "LRP: 3.73044014063\n",
      "LRN: 0.330483986124\n",
      "DOR: 11.2878090838\n",
      "FOR: 0.0971796140524\n"
     ]
    }
   ],
   "source": [
    "best_feats = getMaximumAccuracyFeatures(mm3)[0]\n",
    "mm3[best_feats]['cm'].print_stats()"
   ]
  },
  {
   "cell_type": "markdown",
   "metadata": {},
   "source": [
    "## SUPPORT VECTOR MACHINES"
   ]
  },
  {
   "cell_type": "code",
   "execution_count": 204,
   "metadata": {
    "collapsed": true
   },
   "outputs": [],
   "source": [
    "def runSupportVectorMachineModel(train_x, train_y, test_x, test_y, kernel='rbf'):\n",
    "    svm_model = svm.SVC()\n",
    "    svm_model.fit(train_x, train_y)\n",
    "    predicted = svm_model.predict(test_x)\n",
    "    report = \"-- CLASSIFICATION REPORT -- \\n\", metrics.classification_report(test_y, predicted), \"-- CONFUSION MATRIX --  \\n\", confusion_matrix(Y_test, predicted), \"\\n\", \"-- ACCURACY SCORE -- \\n \", metrics.accuracy_score(Y_test, predicted), \"\\n\"\n",
    "    accuracy_score = metrics.accuracy_score(Y_test, predicted)\n",
    "    cm = ConfusionMatrix(Y_test, predicted)\n",
    "    return cm, report,accuracy_score\n",
    "\n",
    "def automateSVMModelWithChi2():\n",
    "    models = {}\n",
    "    for k,v in chi2_features.items():\n",
    "        #print(\"******Chi2 Support Vector Machine model with \"+ str(k)+ \" Features!****** \\n\")\n",
    "        train_selected = X[:, v]\n",
    "        test_selected = X_test[:, v]\n",
    "        cm, report, score = runSupportVectorMachineModel(train_selected, Y, test_selected, Y_test)\n",
    "        models[k] = {\"cm\":cm, \"report\":report, \"accuracy\":score, \"to_plot\":(k,score)}\n",
    "        #print(\"Accuracy: \", score*100, \"%\\n\")\n",
    "    return models\n",
    "\n",
    "def automateSVMModelWithRFE():\n",
    "    models = {}\n",
    "    for k,v in rfe_svm_features.items():\n",
    "        print(\"******RFE Support Vector Machine with \"+ str(k)+ \" Features!****** \\n\")\n",
    "        train_selected = X[:, v]\n",
    "        test_selected = X_test[:, v]\n",
    "        cm, report, score = runSupportVectorMachineModel(train_selected, Y, test_selected, Y_test)\n",
    "        models[k] = {\"cm\":cm, \"report\":report, \"accuracy\":score,\"to_plot\":(k,score)}\n",
    "        print(\"Accuracy: \", score*100, \"%\\n\")\n",
    "    return models\n",
    "\n",
    "def automateSVMModelWithRFBKernel():\n",
    "    models = {}\n",
    "    #print(\"******RFB Kernel Support Vector Machine ****** \\n\")\n",
    "\n",
    "    cm, report, score = runSupportVectorMachineModel(X, Y, X_test, Y_test)\n",
    "    models = {\"cm\":cm, \"report\":report, \"accuracy\":score}\n",
    "    #print(\"Accuracy: \", score*100, \"%\\n\")\n",
    "    return models\n",
    "\n",
    "def automateSVMModelWithPolyKernel(train_x, train_y, test_x, test_y):\n",
    "    models = {}\n",
    "    #print(\"******Poly Kernel Support Vector Machine ****** \\n\")\n",
    "\n",
    "    cm, report, score = runSupportVectorMachineModel(train_x, train_y, test_x, test_y, kernel='poly')\n",
    "    models = {\"cm\":cm, \"report\":report, \"accuracy\":score}\n",
    "    #print(\"Accuracy: \", score*100, \"%\\n\")\n",
    "    return models\n",
    "\n",
    "\n",
    "def svmOnTrainSet(train_x, train_y):\n",
    "    model = svm.SVC()\n",
    "    model.fit(train_x, train_y)\n",
    "    predicted = model.predict(train_x)\n",
    "    report = \"-- CLASSIFICATION REPORT -- \\n\", metrics.classification_report(train_y, predicted), \"-- CONFUSION MATRIX --  \\n\", confusion_matrix(train_y, predicted), \"\\n\", \"-- ACCURACY SCORE -- \\n \", metrics.accuracy_score(train_y, predicted), \"\\n\"\n",
    "    accuracy_score = metrics.accuracy_score(train_y, predicted)\n",
    "    cm = ConfusionMatrix(train_y, predicted)\n",
    "    return cm, report,accuracy_score\n",
    "\n",
    "def svmOnTrainSetPoly(train_x, train_y):\n",
    "    model = svm.SVC(kernel='poly')\n",
    "    model.fit(train_x, train_y)\n",
    "    predicted = model.predict(train_x)\n",
    "    report = \"-- CLASSIFICATION REPORT -- \\n\", metrics.classification_report(train_y, predicted), \"-- CONFUSION MATRIX --  \\n\", confusion_matrix(train_y, predicted), \"\\n\", \"-- ACCURACY SCORE -- \\n \", metrics.accuracy_score(train_y, predicted), \"\\n\"\n",
    "    accuracy_score = metrics.accuracy_score(train_y, predicted)\n",
    "    cm = ConfusionMatrix(train_y, predicted)\n",
    "    return cm, report,accuracy_score\n",
    "\n",
    "def automateSVMModelWithRFEForest():\n",
    "    models = {}\n",
    "    for k,v in rfe_forest_features.items():\n",
    "        print(\"******RFE Support Vector Machine with \"+ str(k)+ \" Features!****** \\n\")\n",
    "        train_selected = X[:, v]\n",
    "        test_selected = X_test[:, v]\n",
    "        cm, report, score = runSupportVectorMachineModel(train_selected, Y, test_selected, Y_test)\n",
    "        models[k] = {\"cm\":cm, \"report\":report, \"accuracy\":score,\"to_plot\":(k,score)}\n",
    "        print(\"Accuracy: \", score*100, \"%\\n\")\n",
    "    return models"
   ]
  },
  {
   "cell_type": "markdown",
   "metadata": {},
   "source": [
    "#### RUN SVM DATASET WITH ALL FEATURES (80)"
   ]
  },
  {
   "cell_type": "code",
   "execution_count": 201,
   "metadata": {},
   "outputs": [
    {
     "name": "stdout",
     "output_type": "stream",
     "text": [
      "(TEST SET) RBF kernel Accuracy when all features are used is:  82.8552456839 %\n",
      "population: 15060\n",
      "P: 3700\n",
      "N: 11360\n",
      "PositiveTest: 4978\n",
      "NegativeTest: 10082\n",
      "TP: 3048\n",
      "TN: 9430\n",
      "FP: 1930\n",
      "FN: 652\n",
      "TPR: 0.823783783784\n",
      "TNR: 0.830105633803\n",
      "PPV: 0.612294094014\n",
      "NPV: 0.935330291609\n",
      "FPR: 0.169894366197\n",
      "FDR: 0.387705905986\n",
      "FNR: 0.176216216216\n",
      "ACC: 0.828552456839\n",
      "F1_score: 0.702466005992\n",
      "MCC: 0.598402699335\n",
      "informedness: 0.653889417587\n",
      "markedness: 0.547624385622\n",
      "prevalence: 0.245683930943\n",
      "LRP: 4.84879988797\n",
      "LRN: 0.212281677223\n",
      "DOR: 22.8413490575\n",
      "FOR: 0.0646697083912\n"
     ]
    }
   ],
   "source": [
    "svm_cm, svm_report, svm_acc = runSupportVectorMachineModel(X,Y,X_test,Y_test)\n",
    "print(\"(TEST SET) RBF kernel Accuracy when all features are used is: \", svm_acc*100, \"%\")\n",
    "svm_cm.print_stats()"
   ]
  },
  {
   "cell_type": "code",
   "execution_count": 202,
   "metadata": {},
   "outputs": [
    {
     "name": "stdout",
     "output_type": "stream",
     "text": [
      "(TRAINING SET) RBF kernel Accuracy when all features are used is:  82.4194653873 %\n",
      "population: 17508\n",
      "P: 7508\n",
      "N: 10000\n",
      "PositiveTest: 7878\n",
      "NegativeTest: 9630\n",
      "TP: 6154\n",
      "TN: 8276\n",
      "FP: 1724\n",
      "FN: 1354\n",
      "TPR: 0.819659030368\n",
      "TNR: 0.8276\n",
      "PPV: 0.781162731658\n",
      "NPV: 0.859397715472\n",
      "FPR: 0.1724\n",
      "FDR: 0.218837268342\n",
      "FNR: 0.180340969632\n",
      "ACC: 0.824194653873\n",
      "F1_score: 0.79994800468\n",
      "MCC: 0.643901028033\n",
      "informedness: 0.647259030368\n",
      "markedness: 0.64056044713\n",
      "prevalence: 0.428832533699\n",
      "LRP: 4.75440272835\n",
      "LRN: 0.217908373166\n",
      "DOR: 21.8183572263\n",
      "FOR: 0.140602284528\n"
     ]
    }
   ],
   "source": [
    "svmt_cm, svmt_report, svmt_acc = svmOnTrainSet(X,Y)\n",
    "print(\"(TRAINING SET) RBF kernel Accuracy when all features are used is: \", svmt_acc*100, \"%\")\n",
    "svmt_cm.print_stats()"
   ]
  },
  {
   "cell_type": "code",
   "execution_count": 205,
   "metadata": {},
   "outputs": [
    {
     "name": "stdout",
     "output_type": "stream",
     "text": [
      "(Test SET) POLY kernel Accuracy when all features are used is:  accuracyaccuracyaccuracyaccuracyaccuracyaccuracyaccuracyaccuracyaccuracyaccuracyaccuracyaccuracyaccuracyaccuracyaccuracyaccuracyaccuracyaccuracyaccuracyaccuracyaccuracyaccuracyaccuracyaccuracyaccuracyaccuracyaccuracyaccuracyaccuracyaccuracyaccuracyaccuracyaccuracyaccuracyaccuracyaccuracyaccuracyaccuracyaccuracyaccuracyaccuracyaccuracyaccuracyaccuracyaccuracyaccuracyaccuracyaccuracyaccuracyaccuracyaccuracyaccuracyaccuracyaccuracyaccuracyaccuracyaccuracyaccuracyaccuracyaccuracyaccuracyaccuracyaccuracyaccuracyaccuracyaccuracyaccuracyaccuracyaccuracyaccuracyaccuracyaccuracyaccuracyaccuracyaccuracyaccuracyaccuracyaccuracyaccuracyaccuracyaccuracyaccuracyaccuracyaccuracyaccuracyaccuracyaccuracyaccuracyaccuracyaccuracyaccuracyaccuracyaccuracyaccuracyaccuracyaccuracyaccuracyaccuracyaccuracyaccuracy %\n"
     ]
    },
    {
     "ename": "AttributeError",
     "evalue": "'str' object has no attribute 'print_stats'",
     "output_type": "error",
     "traceback": [
      "\u001b[0;31m---------------------------------------------------------------------------\u001b[0m",
      "\u001b[0;31mAttributeError\u001b[0m                            Traceback (most recent call last)",
      "\u001b[0;32m<ipython-input-205-011413c23278>\u001b[0m in \u001b[0;36m<module>\u001b[0;34m()\u001b[0m\n\u001b[1;32m      1\u001b[0m \u001b[0msvm_ply_cm\u001b[0m\u001b[0;34m,\u001b[0m \u001b[0msvm_ply_rep\u001b[0m\u001b[0;34m,\u001b[0m \u001b[0msvm_ply_acc\u001b[0m \u001b[0;34m=\u001b[0m \u001b[0mautomateSVMModelWithPolyKernel\u001b[0m\u001b[0;34m(\u001b[0m\u001b[0;34m)\u001b[0m\u001b[0;34m\u001b[0m\u001b[0m\n\u001b[1;32m      2\u001b[0m \u001b[0mprint\u001b[0m\u001b[0;34m(\u001b[0m\u001b[0;34m\"(Test SET) POLY kernel Accuracy when all features are used is: \"\u001b[0m\u001b[0;34m,\u001b[0m \u001b[0msvm_ply_acc\u001b[0m\u001b[0;34m*\u001b[0m\u001b[0;36m100\u001b[0m\u001b[0;34m,\u001b[0m \u001b[0;34m\"%\"\u001b[0m\u001b[0;34m)\u001b[0m\u001b[0;34m\u001b[0m\u001b[0m\n\u001b[0;32m----> 3\u001b[0;31m \u001b[0msvm_ply_cm\u001b[0m\u001b[0;34m.\u001b[0m\u001b[0mprint_stats\u001b[0m\u001b[0;34m(\u001b[0m\u001b[0;34m)\u001b[0m\u001b[0;34m\u001b[0m\u001b[0m\n\u001b[0m",
      "\u001b[0;31mAttributeError\u001b[0m: 'str' object has no attribute 'print_stats'"
     ]
    }
   ],
   "source": [
    "svm_ply_cm, svm_ply_rep, svm_ply_acc = automateSVMModelWithPolyKernel(X,Y,X_test,Y_test)\n",
    "print(\"(Test SET) POLY kernel Accuracy when all features are used is: \", svm_ply_acc*100, \"%\")\n"
   ]
  },
  {
   "cell_type": "code",
   "execution_count": 206,
   "metadata": {},
   "outputs": [
    {
     "data": {
      "text/plain": [
       "'cm'"
      ]
     },
     "execution_count": 206,
     "metadata": {},
     "output_type": "execute_result"
    }
   ],
   "source": [
    "svm_ply_cm"
   ]
  },
  {
   "cell_type": "code",
   "execution_count": null,
   "metadata": {},
   "outputs": [],
   "source": [
    "svm_ply2_cm, svm_ply2_rep, svm_ply2_acc = svmOnTrainSetPoly(X,Y)\n",
    "print(\"(Train SET) POLY kernel Accuracy when all features are used is: \", svm_ply2_acc*100, \"%\")\n",
    "svm_ply2_cm.print_stats()"
   ]
  },
  {
   "cell_type": "code",
   "execution_count": null,
   "metadata": {},
   "outputs": [],
   "source": [
    "sv_ch = automateSVMModelWithChi2()\n",
    "plotAccuracyForModelFeatures(sv_ch)"
   ]
  },
  {
   "cell_type": "code",
   "execution_count": null,
   "metadata": {},
   "outputs": [],
   "source": [
    "best_feats = getMaximumAccuracyFeatures(sv_ch)[0]\n",
    "sv_ch[best_feats]['cm'].print_stats()"
   ]
  },
  {
   "cell_type": "code",
   "execution_count": null,
   "metadata": {
    "collapsed": true
   },
   "outputs": [],
   "source": []
  }
 ],
 "metadata": {
  "kernelspec": {
   "display_name": "Python 3",
   "language": "python",
   "name": "python3"
  },
  "language_info": {
   "codemirror_mode": {
    "name": "ipython",
    "version": 3
   },
   "file_extension": ".py",
   "mimetype": "text/x-python",
   "name": "python",
   "nbconvert_exporter": "python",
   "pygments_lexer": "ipython3",
   "version": "3.6.1"
  }
 },
 "nbformat": 4,
 "nbformat_minor": 2
}
