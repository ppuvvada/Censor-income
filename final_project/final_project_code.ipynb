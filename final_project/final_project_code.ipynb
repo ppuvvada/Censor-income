{
 "cells": [
  {
   "cell_type": "code",
   "execution_count": 1,
   "metadata": {
    "collapsed": true
   },
   "outputs": [],
   "source": [
    "# Feature Extraction with Univariate Statistical Tests (Chi-squared for classification)\n",
    "import pandas as pd\n",
    "import numpy as np\n",
    "from sklearn.feature_selection import SelectKBest\n",
    "from sklearn.feature_selection import chi2, SelectFpr, f_classif\n",
    "from DataPreprocessor import DataPreprocessor\n",
    "from sklearn.preprocessing import MinMaxScaler\n",
    "from FeatureSelection import FeatureSelection\n",
    "from sklearn.linear_model import LogisticRegression\n",
    "from sklearn import metrics\n",
    "from sklearn.neighbors import KNeighborsClassifier\n",
    "from sklearn.model_selection import cross_val_score\n",
    "from pandas_ml import ConfusionMatrix\n",
    "from sklearn.metrics import confusion_matrix\n",
    "from sklearn.ensemble import RandomForestClassifier\n",
    "from sklearn import svm\n",
    "from sklearn.naive_bayes import GaussianNB\n",
    "from sklearn.tree import DecisionTreeClassifier\n",
    "import sys\n",
    "import operator\n",
    "\n",
    "import matplotlib.pyplot as plt\n",
    "%matplotlib inline"
   ]
  },
  {
   "cell_type": "code",
   "execution_count": 2,
   "metadata": {
    "collapsed": true
   },
   "outputs": [],
   "source": [
    "def update_progress(job_title, progress):\n",
    "    length = 20 # modify this to change the length\n",
    "    block = int(round(length*progress))\n",
    "    msg = \"\\r{0}: [{1}] {2}%\".format(job_title, \"#\"*block + \"-\"*(length-block), round(progress*100, 2))\n",
    "    if progress >= 1: msg += \" DONE\\r\\n\"\n",
    "    sys.stdout.write(msg)\n",
    "    sys.stdout.flush()"
   ]
  },
  {
   "cell_type": "markdown",
   "metadata": {},
   "source": [
    "### READ IN TRAINING AND TEST DATA FROM FILE"
   ]
  },
  {
   "cell_type": "code",
   "execution_count": 3,
   "metadata": {
    "collapsed": true
   },
   "outputs": [],
   "source": [
    "test_df = pd.read_csv(\"census-income.test.csv\", sep=\",\", names=['age', 'workclass', 'fnlwgt', 'education', 'educational-num', 'marital-status','occupation', 'relationship', 'race', 'gender', 'capital-gain', 'capital-loss', 'hours-per-week', 'native-country', 'income'])"
   ]
  },
  {
   "cell_type": "code",
   "execution_count": 4,
   "metadata": {
    "collapsed": true
   },
   "outputs": [],
   "source": [
    "df = pd.read_csv(\"census-income.data.csv\", sep=\",\", names=['age', 'workclass', 'fnlwgt', 'education', 'educational-num', 'marital-status','occupation', 'relationship', 'race', 'gender', 'capital-gain', 'capital-loss', 'hours-per-week', 'native-country', 'income'])"
   ]
  },
  {
   "cell_type": "markdown",
   "metadata": {},
   "source": [
    "#### Preprocess test data and training data by deleting missing values, removing leading and trailing white spaces as well as converting the categorical fields to numeric fields"
   ]
  },
  {
   "cell_type": "code",
   "execution_count": 5,
   "metadata": {
    "collapsed": true
   },
   "outputs": [],
   "source": [
    "dp = DataPreprocessor(test_df)\n",
    "test_df = dp.runTestSetPreprocessor()"
   ]
  },
  {
   "cell_type": "code",
   "execution_count": 6,
   "metadata": {
    "collapsed": true
   },
   "outputs": [],
   "source": [
    "dpp = DataPreprocessor(df)\n",
    "train_df = dpp.runProjectPreprocessor()"
   ]
  },
  {
   "cell_type": "code",
   "execution_count": 7,
   "metadata": {},
   "outputs": [
    {
     "data": {
      "text/plain": [
       "78"
      ]
     },
     "execution_count": 7,
     "metadata": {},
     "output_type": "execute_result"
    }
   ],
   "source": [
    "len(train_df.columns)"
   ]
  },
  {
   "cell_type": "markdown",
   "metadata": {},
   "source": [
    "#### Remove prediction class from both the training data and test data, and convert both to numpy arrays in preparation for feature selection"
   ]
  },
  {
   "cell_type": "code",
   "execution_count": 8,
   "metadata": {
    "collapsed": true
   },
   "outputs": [],
   "source": [
    "Y = train_df['income'].values\n",
    "train_df = train_df.drop('income', axis=1)\n",
    "X = train_df.values"
   ]
  },
  {
   "cell_type": "code",
   "execution_count": 9,
   "metadata": {
    "collapsed": true
   },
   "outputs": [],
   "source": [
    "Y_test = test_df['income'].values\n",
    "test_df = test_df.drop('income', axis=1)\n",
    "X_test = test_df.values"
   ]
  },
  {
   "cell_type": "code",
   "execution_count": 94,
   "metadata": {},
   "outputs": [
    {
     "data": {
      "text/plain": [
       "(17508, 77)"
      ]
     },
     "execution_count": 94,
     "metadata": {},
     "output_type": "execute_result"
    }
   ],
   "source": [
    "X.shape"
   ]
  },
  {
   "cell_type": "markdown",
   "metadata": {},
   "source": [
    "### FEATURE SELECTION\n"
   ]
  },
  {
   "cell_type": "code",
   "execution_count": 10,
   "metadata": {
    "collapsed": true
   },
   "outputs": [],
   "source": [
    "def extractRFEFeatureColumns(data):\n",
    "    outt = []\n",
    "    for i,j in enumerate(data):\n",
    "        if j == True:\n",
    "            outt.append(i)\n",
    "    return outt   \n",
    "\n",
    "fs = FeatureSelection()\n",
    "features_range = list(range(1,81))\n",
    "chi2_features = {}\n",
    "rfe_features = {}\n",
    "rfe_forest_features = {}\n",
    "rfe_dt_features= {}\n",
    "rfe_svm_features = {}\n",
    "rfe_nb_features = {}\n",
    "rfe_knn_features ={}"
   ]
  },
  {
   "cell_type": "markdown",
   "metadata": {},
   "source": [
    "#### Run Feature selection algorithms for range provided above in order to select the best features within said range"
   ]
  },
  {
   "cell_type": "code",
   "execution_count": 11,
   "metadata": {
    "collapsed": true
   },
   "outputs": [],
   "source": [
    "def runChi2FeatureSelection():\n",
    "    for i, feat in enumerate(features_range):\n",
    "        if i > 76:\n",
    "            fit, features_list = fs.runUnivariateSelectionMethod(X,Y,'chi2', 'all')\n",
    "            print (feat)\n",
    "        else:\n",
    "            fit, features_list = fs.runUnivariateSelectionMethod(X,Y,'chi2', feat)\n",
    "        chi2_features[feat] = features_list\n",
    "        update_progress(\"Chi2 Selection Process\", i/len(features_range))\n",
    "    update_progress(\"Chi2 Selection Process\", 1)\n"
   ]
  },
  {
   "cell_type": "code",
   "execution_count": 12,
   "metadata": {
    "collapsed": true
   },
   "outputs": [],
   "source": [
    "def runRFEFeatureSelectionLR():\n",
    "    for i,feat in enumerate(features_range):\n",
    "        fit2 = fs.runRFESelectionMethod(X,Y,feat)\n",
    "        rfe_features[feat] = extractRFEFeatureColumns(fit2.support_)\n",
    "        update_progress(\"RFE Selection Process\", i/len(features_range))\n",
    "    update_progress(\"RFE Selection Process\", 1)"
   ]
  },
  {
   "cell_type": "code",
   "execution_count": 13,
   "metadata": {
    "collapsed": true
   },
   "outputs": [],
   "source": [
    "def runRFEFeatureSelectionRF():\n",
    "    for i,feat in enumerate(features_range):\n",
    "        fit3 = fs.runRFESelectionMethodRF(X,Y,feat)\n",
    "        rfe_forest_features[feat] = extractRFEFeatureColumns(fit3.support_)\n",
    "        update_progress(\"RFE Selection Process\", i/len(features_range))\n",
    "    update_progress(\"RFE Selection Process\", 1)"
   ]
  },
  {
   "cell_type": "code",
   "execution_count": 14,
   "metadata": {},
   "outputs": [
    {
     "name": "stdout",
     "output_type": "stream",
     "text": [
      "Chi2 Selection Process: [###################-] 95.0%%78\n",
      "Chi2 Selection Process: [###################-] 96.25%79\n",
      "Chi2 Selection Process: [####################] 97.5%80\n",
      "Chi2 Selection Process: [####################] 100% DONE\n"
     ]
    }
   ],
   "source": [
    "runChi2FeatureSelection()"
   ]
  },
  {
   "cell_type": "code",
   "execution_count": 15,
   "metadata": {},
   "outputs": [
    {
     "name": "stdout",
     "output_type": "stream",
     "text": [
      "RFE Selection Process: [####################] 100% DONE\n"
     ]
    }
   ],
   "source": [
    "runRFEFeatureSelectionLR()"
   ]
  },
  {
   "cell_type": "code",
   "execution_count": 16,
   "metadata": {},
   "outputs": [
    {
     "name": "stdout",
     "output_type": "stream",
     "text": [
      "RFE Selection Process: [####################] 100% DONE\n"
     ]
    }
   ],
   "source": [
    "runRFEFeatureSelectionRF()"
   ]
  },
  {
   "cell_type": "code",
   "execution_count": null,
   "metadata": {
    "collapsed": true
   },
   "outputs": [],
   "source": []
  },
  {
   "cell_type": "code",
   "execution_count": 17,
   "metadata": {
    "collapsed": true
   },
   "outputs": [],
   "source": [
    "def plotAccuracyForModelFeatures(models):\n",
    "    plot_list = [v['to_plot'] for k,v in models.items()]\n",
    "    plot_list\n",
    "    x = list(zip(*plot_list))[0]\n",
    "    y = list(zip(*plot_list))[1]\n",
    "    plt.plot(x, y)\n",
    "    \n",
    "    \n",
    "def getMaximumAccuracyFeatures(data):\n",
    "    plot_list = [v['to_plot'] for k,v in data.items()]\n",
    "    \n",
    "    return max(plot_list, key=lambda item:item[1])"
   ]
  },
  {
   "cell_type": "markdown",
   "metadata": {},
   "source": [
    "# DATA MODELLING SECTION"
   ]
  },
  {
   "cell_type": "code",
   "execution_count": null,
   "metadata": {
    "collapsed": true
   },
   "outputs": [],
   "source": []
  },
  {
   "cell_type": "markdown",
   "metadata": {},
   "source": [
    "## LOGISTIC REGRESSION\n"
   ]
  },
  {
   "cell_type": "code",
   "execution_count": 18,
   "metadata": {
    "collapsed": true
   },
   "outputs": [],
   "source": [
    "def runLogisticRegressionModel(train_x, train_y, test_x, test_y):\n",
    "    model = LogisticRegression()\n",
    "    model.fit(train_x, train_y)\n",
    "    predicted = model.predict(test_x)\n",
    "    report = \"-- CLASSIFICATION REPORT -- \\n\", metrics.classification_report(test_y, predicted), \"-- CONFUSION MATRIX --  \\n\", confusion_matrix(Y_test, predicted), \"\\n\", \"-- ACCURACY SCORE -- \\n \", metrics.accuracy_score(Y_test, predicted), \"\\n\"\n",
    "    accuracy_score = metrics.accuracy_score(Y_test, predicted)\n",
    "    cm = ConfusionMatrix(Y_test, predicted)\n",
    "    return cm, report,accuracy_score\n",
    "\n",
    "def automateLogisticRegressionWithChi2():\n",
    "    models = {}\n",
    "    for k,v in chi2_features.items():\n",
    "        #print(\"******Chi2 LOGISTIC REGRESSION with \"+ str(k)+ \" Features!****** \\n\")\n",
    "        train_selected = X[:, v]\n",
    "        test_selected = X_test[:, v]\n",
    "        cm, report, score = runLogisticRegressionModel(train_selected, Y, test_selected, Y_test)\n",
    "        models[k] = {\"cm\":cm, \"report\":report, \"accuracy\":score, \"to_plot\":(k,score)}\n",
    "        #print(\"Accuracy: \", score*100, \"%\\n\")\n",
    "    return models\n",
    "\n",
    "def automateLogisticRegressionWithRFE():\n",
    "    models = {}\n",
    "    for k,v in rfe_features.items():\n",
    "        #print(\"******RFE LOGISTIC REGRESSION with \"+ str(k)+ \" Features!****** \\n\")\n",
    "        train_selected = X[:, v]\n",
    "        test_selected = X_test[:, v]\n",
    "        cm, report, score = runLogisticRegressionModel(train_selected, Y, test_selected, Y_test)\n",
    "        models[k] = {\"cm\":cm, \"report\":report, \"accuracy\":score, \"to_plot\":(k,score)}\n",
    "        #print(\"Accuracy: \", score*100, \"%\\n\")\n",
    "    return models\n",
    "\n",
    "def logisticRegressioinTrainSet(train_x, train_y):\n",
    "    \n",
    "    model = LogisticRegression()\n",
    "    model.fit(train_x, train_y)\n",
    "    predicted = model.predict(train_x)\n",
    "    report = \"-- CLASSIFICATION REPORT -- \\n\", metrics.classification_report(train_y, predicted), \"-- CONFUSION MATRIX --  \\n\", confusion_matrix(train_y, predicted), \"\\n\", \"-- ACCURACY SCORE -- \\n \", metrics.accuracy_score(train_y, predicted), \"\\n\"\n",
    "    accuracy_score = metrics.accuracy_score(train_y, predicted)\n",
    "    cm = ConfusionMatrix(train_y, predicted)\n",
    "    return cm, report,accuracy_score\n",
    "\n",
    "def automateLogisticRegressionWithRFEForest():\n",
    "    models = {}\n",
    "    for k,v in rfe_forest_features.items():\n",
    "        #print(\"******RFE LOGISTIC REGRESSION with \"+ str(k)+ \" Features!****** \\n\")\n",
    "        train_selected = X[:, v]\n",
    "        test_selected = X_test[:, v]\n",
    "        cm, report, score = runLogisticRegressionModel(train_selected, Y, test_selected, Y_test)\n",
    "        models[k] = {\"cm\":cm, \"report\":report, \"accuracy\":score, \"to_plot\":(k,score)}\n",
    "        #print(\"Accuracy: \", score*100, \"%\\n\")\n",
    "    return models\n"
   ]
  },
  {
   "cell_type": "code",
   "execution_count": null,
   "metadata": {
    "collapsed": true
   },
   "outputs": [],
   "source": []
  },
  {
   "cell_type": "markdown",
   "metadata": {},
   "source": [
    "#### LOGISTIC REGRESSION USING ALL FEATURES "
   ]
  },
  {
   "cell_type": "code",
   "execution_count": 19,
   "metadata": {},
   "outputs": [
    {
     "name": "stdout",
     "output_type": "stream",
     "text": [
      "(Test SET)Accuracy when all features are used is:  80.5444887118 %\n",
      "population: 15060\n",
      "P: 3700\n",
      "N: 11360\n",
      "PositiveTest: 4888\n",
      "NegativeTest: 10172\n",
      "TP: 2829\n",
      "TN: 9301\n",
      "FP: 2059\n",
      "FN: 871\n",
      "TPR: 0.764594594595\n",
      "TNR: 0.81875\n",
      "PPV: 0.578764320786\n",
      "NPV: 0.914372788046\n",
      "FPR: 0.18125\n",
      "FDR: 0.421235679214\n",
      "FNR: 0.235405405405\n",
      "ACC: 0.805444887118\n",
      "F1_score: 0.658826269213\n",
      "MCC: 0.536347710754\n",
      "informedness: 0.583344594595\n",
      "markedness: 0.493137108831\n",
      "prevalence: 0.245683930943\n",
      "LRP: 4.21845293569\n",
      "LRN: 0.287518052404\n",
      "DOR: 14.6719585098\n",
      "FOR: 0.0856272119544\n",
      "None\n"
     ]
    }
   ],
   "source": [
    "lr_cm, lr_report, lr_acc = runLogisticRegressionModel(X,Y,X_test,Y_test)\n",
    "print(\"(Test SET)Accuracy when all features are used is: \", lr_acc*100, \"%\")\n",
    "print(lr_cm.print_stats())"
   ]
  },
  {
   "cell_type": "code",
   "execution_count": 20,
   "metadata": {},
   "outputs": [
    {
     "name": "stdout",
     "output_type": "stream",
     "text": [
      "(Training SET) Accuracy when all features are used is:  79.7863833676 %\n",
      "population: 17508\n",
      "P: 7508\n",
      "N: 10000\n",
      "PositiveTest: 7749\n",
      "NegativeTest: 9759\n",
      "TP: 5859\n",
      "TN: 8110\n",
      "FP: 1890\n",
      "FN: 1649\n",
      "TPR: 0.780367607885\n",
      "TNR: 0.811\n",
      "PPV: 0.756097560976\n",
      "NPV: 0.831027769239\n",
      "FPR: 0.189\n",
      "FDR: 0.243902439024\n",
      "FNR: 0.219632392115\n",
      "ACC: 0.797863833676\n",
      "F1_score: 0.768040899259\n",
      "MCC: 0.589242651255\n",
      "informedness: 0.591367607885\n",
      "markedness: 0.587125330214\n",
      "prevalence: 0.428832533699\n",
      "LRP: 4.12892914225\n",
      "LRN: 0.270816759698\n",
      "DOR: 15.2462098241\n",
      "FOR: 0.168972230761\n",
      "None\n"
     ]
    },
    {
     "data": {
      "text/plain": [
       "Predicted     0     1  __all__\n",
       "Actual                        \n",
       "0          8110  1890    10000\n",
       "1          1649  5859     7508\n",
       "__all__    9759  7749    17508"
      ]
     },
     "execution_count": 20,
     "metadata": {},
     "output_type": "execute_result"
    }
   ],
   "source": [
    "lrt_cw, lrt_rep, lrt_acc = logisticRegressioinTrainSet(X,Y)\n",
    "print(\"(Training SET) Accuracy when all features are used is: \", lrt_acc*100, \"%\")\n",
    "print(lrt_cw.print_stats())\n",
    "lrt_cw"
   ]
  },
  {
   "cell_type": "code",
   "execution_count": 21,
   "metadata": {},
   "outputs": [
    {
     "name": "stderr",
     "output_type": "stream",
     "text": [
      "/Users/ibrahimdawha/anaconda/lib/python3.6/site-packages/sklearn/metrics/classification.py:1113: UndefinedMetricWarning: Precision and F-score are ill-defined and being set to 0.0 in labels with no predicted samples.\n",
      "  'precision', 'predicted', average, warn_for)\n"
     ]
    }
   ],
   "source": [
    "lr_rfe_models = automateLogisticRegressionWithRFE()\n",
    "lr_chi2_models = automateLogisticRegressionWithChi2()\n",
    "lr_rfe_forest = automateLogisticRegressionWithRFEForest()"
   ]
  },
  {
   "cell_type": "code",
   "execution_count": 22,
   "metadata": {},
   "outputs": [
    {
     "data": {
      "image/png": "[encoded data removed]",
      "text/plain": [
       "<matplotlib.figure.Figure at 0x113fa6cc0>"
      ]
     },
     "metadata": {},
     "output_type": "display_data"
    }
   ],
   "source": [
    "plotAccuracyForModelFeatures(lr_rfe_models)"
   ]
  },
  {
   "cell_type": "code",
   "execution_count": 23,
   "metadata": {},
   "outputs": [
    {
     "name": "stdout",
     "output_type": "stream",
     "text": [
      "The best accuracy for rfe is:  0.805511288181  with  61  features\n"
     ]
    }
   ],
   "source": [
    "print(\"The best accuracy for rfe is: \", getMaximumAccuracyFeatures(lr_rfe_models)[1], \" with \", getMaximumAccuracyFeatures(lr_rfe_models)[0], \" features\")"
   ]
  },
  {
   "cell_type": "code",
   "execution_count": 24,
   "metadata": {},
   "outputs": [
    {
     "name": "stdout",
     "output_type": "stream",
     "text": [
      "population: 15060\n",
      "P: 3700\n",
      "N: 11360\n",
      "PositiveTest: 4877\n",
      "NegativeTest: 10183\n",
      "TP: 2824\n",
      "TN: 9307\n",
      "FP: 2053\n",
      "FN: 876\n",
      "TPR: 0.763243243243\n",
      "TNR: 0.819278169014\n",
      "PPV: 0.579044494566\n",
      "NPV: 0.913974270844\n",
      "FPR: 0.180721830986\n",
      "FDR: 0.420955505434\n",
      "FNR: 0.236756756757\n",
      "ACC: 0.805511288181\n",
      "F1_score: 0.658505304885\n",
      "MCC: 0.535904830633\n",
      "informedness: 0.582521412257\n",
      "markedness: 0.49301876541\n",
      "prevalence: 0.245683930943\n",
      "LRP: 4.22330406393\n",
      "LRN: 0.288982137827\n",
      "DOR: 14.6144121422\n",
      "FOR: 0.0860257291564\n"
     ]
    }
   ],
   "source": [
    "best_feats = getMaximumAccuracyFeatures(lr_rfe_models)[0]\n",
    "lr_rfe_models[best_feats]['cm'].print_stats()"
   ]
  },
  {
   "cell_type": "code",
   "execution_count": 25,
   "metadata": {},
   "outputs": [
    {
     "data": {
      "image/png": "[encoded data removed]",
      "text/plain": [
       "<matplotlib.figure.Figure at 0x113f93908>"
      ]
     },
     "metadata": {},
     "output_type": "display_data"
    }
   ],
   "source": [
    "plotAccuracyForModelFeatures(lr_chi2_models)"
   ]
  },
  {
   "cell_type": "code",
   "execution_count": 26,
   "metadata": {},
   "outputs": [
    {
     "name": "stdout",
     "output_type": "stream",
     "text": [
      "The best accuracy for chi2 is:  0.805644090305  with  76  features\n",
      "population: 15060\n",
      "P: 3700\n",
      "N: 11360\n",
      "PositiveTest: 4887\n",
      "NegativeTest: 10173\n",
      "TP: 2830\n",
      "TN: 9303\n",
      "FP: 2057\n",
      "FN: 870\n",
      "TPR: 0.764864864865\n",
      "TNR: 0.818926056338\n",
      "PPV: 0.579087374667\n",
      "NPV: 0.914479504571\n",
      "FPR: 0.181073943662\n",
      "FDR: 0.420912625333\n",
      "FNR: 0.235135135135\n",
      "ACC: 0.805644090305\n",
      "F1_score: 0.659135903109\n",
      "MCC: 0.536786608538\n",
      "informedness: 0.583790921203\n",
      "markedness: 0.493566879238\n",
      "prevalence: 0.245683930943\n",
      "LRP: 4.22404709036\n",
      "LRN: 0.287126210377\n",
      "DOR: 14.7114646372\n",
      "FOR: 0.0855204954291\n"
     ]
    }
   ],
   "source": [
    "print(\"The best accuracy for chi2 is: \", getMaximumAccuracyFeatures(lr_chi2_models)[1], \" with \", getMaximumAccuracyFeatures(lr_chi2_models)[0], \" features\")\n",
    "best_feats = getMaximumAccuracyFeatures(lr_chi2_models)[0]\n",
    "lr_chi2_models[best_feats]['cm'].print_stats()"
   ]
  },
  {
   "cell_type": "code",
   "execution_count": 27,
   "metadata": {},
   "outputs": [
    {
     "data": {
      "image/png": "[encoded data removed]",
      "text/plain": [
       "<matplotlib.figure.Figure at 0x1131ff208>"
      ]
     },
     "metadata": {},
     "output_type": "display_data"
    }
   ],
   "source": [
    "plotAccuracyForModelFeatures(lr_rfe_forest)"
   ]
  },
  {
   "cell_type": "code",
   "execution_count": 28,
   "metadata": {},
   "outputs": [
    {
     "name": "stdout",
     "output_type": "stream",
     "text": [
      "The best accuracy for RFE (FOREST) is:  0.80577689243  with  33  features\n",
      "population: 15060\n",
      "P: 3700\n",
      "N: 11360\n",
      "PositiveTest: 4881\n",
      "NegativeTest: 10179\n",
      "TP: 2828\n",
      "TN: 9307\n",
      "FP: 2053\n",
      "FN: 872\n",
      "TPR: 0.764324324324\n",
      "TNR: 0.819278169014\n",
      "PPV: 0.579389469371\n",
      "NPV: 0.914333431575\n",
      "FPR: 0.180721830986\n",
      "FDR: 0.420610530629\n",
      "FNR: 0.235675675676\n",
      "ACC: 0.80577689243\n",
      "F1_score: 0.659130637455\n",
      "MCC: 0.536784794876\n",
      "informedness: 0.583602493338\n",
      "markedness: 0.493722900946\n",
      "prevalence: 0.245683930943\n",
      "LRP: 4.22928608102\n",
      "LRN: 0.287662584686\n",
      "DOR: 14.702245986\n",
      "FOR: 0.0856665684252\n"
     ]
    }
   ],
   "source": [
    "print(\"The best accuracy for RFE (FOREST) is: \", getMaximumAccuracyFeatures(lr_rfe_forest)[1], \" with \", getMaximumAccuracyFeatures(lr_rfe_forest)[0], \" features\")\n",
    "best_feats = getMaximumAccuracyFeatures(lr_rfe_forest)[0]\n",
    "lr_rfe_forest[best_feats]['cm'].print_stats()"
   ]
  },
  {
   "cell_type": "markdown",
   "metadata": {},
   "source": [
    "## KNN ALGORITHM"
   ]
  },
  {
   "cell_type": "code",
   "execution_count": 29,
   "metadata": {
    "collapsed": true
   },
   "outputs": [],
   "source": [
    "def runKNNAlgorithmModel(train_x, train_y, test_x, test_y, neighbors=25):\n",
    "    knn = KNeighborsClassifier(n_neighbors=neighbors)\n",
    "    knn.fit(train_x, train_y)\n",
    "    predicted = knn.predict(test_x)\n",
    "    report = \"-- CLASSIFICATION REPORT -- \\n\", metrics.classification_report(test_y, predicted), \"-- CONFUSION MATRIX --  \\n\", confusion_matrix(Y_test, predicted), \"\\n\", \"-- ACCURACY SCORE -- \\n \", metrics.accuracy_score(Y_test, predicted), \"\\n\"\n",
    "    accuracy_score = metrics.accuracy_score(Y_test, predicted)\n",
    "    cm = ConfusionMatrix(Y_test, predicted)\n",
    "    return cm, report,accuracy_score\n",
    "\n",
    "\n",
    "def automateKNNAlgorithmModelWithChi2():\n",
    "    models = {}\n",
    "    total = len(chi2_features)\n",
    "    count=0\n",
    "    for k,v in chi2_features.items():\n",
    "        #print(\"******Chi2 KNN model with \"+ str(k)+ \" Features!****** \\n\")\n",
    "        train_selected = X[:, v]\n",
    "        test_selected = X_test[:, v]\n",
    "        cm, report, score = runKNNAlgorithmModel(train_selected, Y, test_selected, Y_test)\n",
    "        models[k] = {\"cm\":cm, \"report\":report, \"accuracy\":score, \"to_plot\":(k,score)}\n",
    "        #print(\"Accuracy: \", score*100, \"%\\n\")\n",
    "        update_progress(\"KNN 1\", count/total)\n",
    "        count = count+1\n",
    "    update_progress(\"KNN 1\", 1)        \n",
    "    return models\n",
    "\n",
    "def automateKNNAlgorithmModelWithRFE():\n",
    "    models = {}\n",
    "    total = len(rfe_features)\n",
    "    count=0\n",
    "    for k,v in rfe_features.items():\n",
    "        #print(\"******RFE KNN Model with \"+ str(k)+ \" Features!****** \\n\")\n",
    "        train_selected = X[:, v]\n",
    "        test_selected = X_test[:, v]\n",
    "        cm, report, score = runKNNAlgorithmModel(train_selected, Y, test_selected, Y_test)\n",
    "        models[k] = {\"cm\":cm, \"report\":report, \"accuracy\":score, \"to_plot\":(k,score)}\n",
    "        #print(\"Accuracy: \", score*100, \"%\\n\")\n",
    "        update_progress(\"KNN 2\", count/total)\n",
    "        count = count+1\n",
    "    update_progress(\"KNN 3\", 1)        \n",
    "    return models\n",
    "\n",
    "def knnOnTrainSet(train_x, train_y, neighbors=10):\n",
    "    model = KNeighborsClassifier(n_neighbors=neighbors)\n",
    "    model.fit(train_x, train_y)\n",
    "    predicted = model.predict(train_x)\n",
    "    report = \"-- CLASSIFICATION REPORT -- \\n\", metrics.classification_report(train_y, predicted), \"-- CONFUSION MATRIX --  \\n\", confusion_matrix(train_y, predicted), \"\\n\", \"-- ACCURACY SCORE -- \\n \", metrics.accuracy_score(train_y, predicted), \"\\n\"\n",
    "    accuracy_score = metrics.accuracy_score(train_y, predicted)\n",
    "    cm = ConfusionMatrix(train_y, predicted)\n",
    "    return cm, report,accuracy_score\n",
    "def automateKNNAlgorithmModelWithRFEForest():\n",
    "    models = {}\n",
    "    total = len(rfe_forest_features)\n",
    "    count=0\n",
    "    for k,v in rfe_forest_features.items():\n",
    "        #print(\"******RFE KNN Model with \"+ str(k)+ \" Features!****** \\n\")\n",
    "        train_selected = X[:, v]\n",
    "        test_selected = X_test[:, v]\n",
    "        cm, report, score = runKNNAlgorithmModel(train_selected, Y, test_selected, Y_test)\n",
    "        models[k] = {\"cm\":cm, \"report\":report, \"accuracy\":score, \"to_plot\":(k,score)}\n",
    "        \n",
    "        update_progress(\"KNN 3\", count/total)\n",
    "        count = count+1\n",
    "    update_progress(\"KNN 3\", 1)\n",
    "\n",
    "    return models"
   ]
  },
  {
   "cell_type": "code",
   "execution_count": null,
   "metadata": {
    "collapsed": true
   },
   "outputs": [],
   "source": []
  },
  {
   "cell_type": "markdown",
   "metadata": {},
   "source": [
    "#### KNN CROSS VALIDATION (Finding best value for K)"
   ]
  },
  {
   "cell_type": "code",
   "execution_count": 46,
   "metadata": {
    "collapsed": true
   },
   "outputs": [],
   "source": [
    "def knnFindBestValueK(train_x, train_y, k_len):\n",
    "    mylist = list(range(1,k_len))\n",
    "    neigh = list(filter(lambda x: x % 2 != 0, mylist)) ## IT HELPS TO HAVE ODD NUMBER FOR K'S\n",
    "    cv_scores = {}\n",
    "    for i, k in enumerate(neigh):\n",
    "        knn = KNeighborsClassifier(n_neighbors=k)\n",
    "        scores = cross_val_score(knn, train_x, train_y, cv=10, scoring='accuracy')\n",
    "        cv_scores[k] = scores.mean()\n",
    "        update_progress(\"KNN Cross Validation\", i/len(neigh))\n",
    "    update_progress(\"KNN Cross Validation\", 1)\n",
    "        \n",
    "    \n",
    "    best_k=list(cv_scores.items())\n",
    "    plt.plot(*zip(*best_k))\n",
    "    plt.show()\n",
    "    return cv_scores\n",
    "    "
   ]
  },
  {
   "cell_type": "code",
   "execution_count": 47,
   "metadata": {},
   "outputs": [
    {
     "name": "stdout",
     "output_type": "stream",
     "text": [
      "KNN Cross Validation: [####################] 100% DONE\n"
     ]
    },
    {
     "data": {
      "image/png": "[encoded data removed]",
      "text/plain": [
       "<matplotlib.figure.Figure at 0x11340e4e0>"
      ]
     },
     "metadata": {},
     "output_type": "display_data"
    }
   ],
   "source": [
    "mydict = knnFindBestValueK(X,Y,50)"
   ]
  },
  {
   "cell_type": "code",
   "execution_count": 48,
   "metadata": {},
   "outputs": [
    {
     "name": "stdout",
     "output_type": "stream",
     "text": [
      "The best value for K is  [37]\n"
     ]
    }
   ],
   "source": [
    "\n",
    "maxval = max(mydict.items(), key=operator.itemgetter(1))[1]\n",
    "keys = [k for k,v in mydict.items() if v==maxval]\n",
    "print(\"The best value for K is \", keys)"
   ]
  },
  {
   "cell_type": "markdown",
   "metadata": {},
   "source": [
    "#### RUN KNN WITH ALL FEATURES "
   ]
  },
  {
   "cell_type": "code",
   "execution_count": 49,
   "metadata": {},
   "outputs": [
    {
     "name": "stdout",
     "output_type": "stream",
     "text": [
      "(TEST SET) Accuracy when all features are used is:  79.3625498008 %\n",
      "population: 15060\n",
      "P: 3700\n",
      "N: 11360\n",
      "PositiveTest: 5246\n",
      "NegativeTest: 9814\n",
      "TP: 2919\n",
      "TN: 9033\n",
      "FP: 2327\n",
      "FN: 781\n",
      "TPR: 0.788918918919\n",
      "TNR: 0.795158450704\n",
      "PPV: 0.556423942051\n",
      "NPV: 0.920419808437\n",
      "FPR: 0.204841549296\n",
      "FDR: 0.443576057949\n",
      "FNR: 0.211081081081\n",
      "ACC: 0.793625498008\n",
      "F1_score: 0.652582159624\n",
      "MCC: 0.527743918493\n",
      "informedness: 0.584077369623\n",
      "markedness: 0.476843750488\n",
      "prevalence: 0.245683930943\n",
      "LRP: 3.85136180443\n",
      "LRN: 0.265457885651\n",
      "DOR: 14.5083721849\n",
      "FOR: 0.0795801915631\n"
     ]
    }
   ],
   "source": [
    "knn_cm, knn_report, knn_acc = runKNNAlgorithmModel(X,Y,X_test,Y_test)\n",
    "print(\"(TEST SET) Accuracy when all features are used is: \", knn_acc*100, \"%\")\n",
    "knn_cm.print_stats()"
   ]
  },
  {
   "cell_type": "code",
   "execution_count": 50,
   "metadata": {},
   "outputs": [
    {
     "name": "stdout",
     "output_type": "stream",
     "text": [
      "(TRAINING SET) Accuracy when all features are used is:  82.0824765821 %\n",
      "population: 17508\n",
      "P: 7508\n",
      "N: 10000\n",
      "PositiveTest: 7291\n",
      "NegativeTest: 10217\n",
      "TP: 5831\n",
      "TN: 8540\n",
      "FP: 1460\n",
      "FN: 1677\n",
      "TPR: 0.776638252531\n",
      "TNR: 0.854\n",
      "PPV: 0.799753120285\n",
      "NPV: 0.835861798963\n",
      "FPR: 0.146\n",
      "FDR: 0.200246879715\n",
      "FNR: 0.223361747469\n",
      "ACC: 0.820824765821\n",
      "F1_score: 0.788026217988\n",
      "MCC: 0.633121696009\n",
      "informedness: 0.630638252531\n",
      "markedness: 0.635614919248\n",
      "prevalence: 0.428832533699\n",
      "LRP: 5.31944008583\n",
      "LRN: 0.261547713664\n",
      "DOR: 20.3383161386\n",
      "FOR: 0.164138201037\n"
     ]
    }
   ],
   "source": [
    "knn_cmt, knn_reportt, knn_acct = knnOnTrainSet(X,Y)\n",
    "print(\"(TRAINING SET) Accuracy when all features are used is: \", knn_acct*100, \"%\")\n",
    "knn_cmt.print_stats()"
   ]
  },
  {
   "cell_type": "code",
   "execution_count": 51,
   "metadata": {},
   "outputs": [
    {
     "name": "stdout",
     "output_type": "stream",
     "text": [
      "\r",
      "KNN 1: [--------------------] 0.0%"
     ]
    },
    {
     "name": "stderr",
     "output_type": "stream",
     "text": [
      "/Users/ibrahimdawha/anaconda/lib/python3.6/site-packages/sklearn/metrics/classification.py:1113: UndefinedMetricWarning: Precision and F-score are ill-defined and being set to 0.0 in labels with no predicted samples.\n",
      "  'precision', 'predicted', average, warn_for)\n"
     ]
    },
    {
     "name": "stdout",
     "output_type": "stream",
     "text": [
      "KNN 1: [####################] 100% DONE\n"
     ]
    }
   ],
   "source": [
    "knn_model = automateKNNAlgorithmModelWithChi2()\n"
   ]
  },
  {
   "cell_type": "code",
   "execution_count": 52,
   "metadata": {},
   "outputs": [
    {
     "data": {
      "image/png": "[encoded data removed]",
      "text/plain": [
       "<matplotlib.figure.Figure at 0x113e7da20>"
      ]
     },
     "metadata": {},
     "output_type": "display_data"
    }
   ],
   "source": [
    "plotAccuracyForModelFeatures(knn_model)"
   ]
  },
  {
   "cell_type": "code",
   "execution_count": 53,
   "metadata": {},
   "outputs": [
    {
     "name": "stdout",
     "output_type": "stream",
     "text": [
      "The best accuracy for chi2 is:  0.798273572377  with  20  features\n"
     ]
    }
   ],
   "source": [
    "print(\"The best accuracy for chi2 is: \", getMaximumAccuracyFeatures(knn_model)[1], \" with \", getMaximumAccuracyFeatures(knn_model)[0], \" features\")"
   ]
  },
  {
   "cell_type": "code",
   "execution_count": 54,
   "metadata": {},
   "outputs": [
    {
     "name": "stdout",
     "output_type": "stream",
     "text": [
      "population: 15060\n",
      "P: 3700\n",
      "N: 11360\n",
      "PositiveTest: 4856\n",
      "NegativeTest: 10204\n",
      "TP: 2759\n",
      "TN: 9263\n",
      "FP: 2097\n",
      "FN: 941\n",
      "TPR: 0.745675675676\n",
      "TNR: 0.815404929577\n",
      "PPV: 0.568163097199\n",
      "NPV: 0.90778126225\n",
      "FPR: 0.184595070423\n",
      "FDR: 0.431836902801\n",
      "FNR: 0.254324324324\n",
      "ACC: 0.798273572377\n",
      "F1_score: 0.644927536232\n",
      "MCC: 0.516762178634\n",
      "informedness: 0.561080605253\n",
      "markedness: 0.475944359449\n",
      "prevalence: 0.245683930943\n",
      "LRP: 4.03952106613\n",
      "LRN: 0.311899419661\n",
      "DOR: 12.9513580709\n",
      "FOR: 0.0922187377499\n"
     ]
    }
   ],
   "source": [
    "best_feats = getMaximumAccuracyFeatures(knn_model)[0]\n",
    "knn_model[best_feats]['cm'].print_stats()"
   ]
  },
  {
   "cell_type": "code",
   "execution_count": 55,
   "metadata": {},
   "outputs": [
    {
     "name": "stdout",
     "output_type": "stream",
     "text": [
      "KNN 3: [####################] 100% DONE\n"
     ]
    },
    {
     "data": {
      "image/png": "[encoded data removed]",
      "text/plain": [
       "<matplotlib.figure.Figure at 0x11afc52b0>"
      ]
     },
     "metadata": {},
     "output_type": "display_data"
    }
   ],
   "source": [
    "knn_model2 = automateKNNAlgorithmModelWithRFE()\n",
    "plotAccuracyForModelFeatures(knn_model2)"
   ]
  },
  {
   "cell_type": "code",
   "execution_count": 56,
   "metadata": {},
   "outputs": [
    {
     "name": "stdout",
     "output_type": "stream",
     "text": [
      "The best accuracy for rfe is:  0.801527224436  with  12  features\n"
     ]
    }
   ],
   "source": [
    "print(\"The best accuracy for rfe is: \", getMaximumAccuracyFeatures(knn_model2)[1], \" with \", getMaximumAccuracyFeatures(knn_model2)[0], \" features\")"
   ]
  },
  {
   "cell_type": "code",
   "execution_count": 57,
   "metadata": {},
   "outputs": [
    {
     "name": "stdout",
     "output_type": "stream",
     "text": [
      "population: 15060\n",
      "P: 3700\n",
      "N: 11360\n",
      "PositiveTest: 5033\n",
      "NegativeTest: 10027\n",
      "TP: 2872\n",
      "TN: 9199\n",
      "FP: 2161\n",
      "FN: 828\n",
      "TPR: 0.776216216216\n",
      "TNR: 0.809771126761\n",
      "PPV: 0.570633816809\n",
      "NPV: 0.917422958013\n",
      "FPR: 0.190228873239\n",
      "FDR: 0.429366183191\n",
      "FNR: 0.223783783784\n",
      "ACC: 0.801527224436\n",
      "F1_score: 0.657735028055\n",
      "MCC: 0.5347850902\n",
      "informedness: 0.585987342977\n",
      "markedness: 0.488056774822\n",
      "prevalence: 0.245683930943\n",
      "LRP: 4.08043323286\n",
      "LRN: 0.276354362842\n",
      "DOR: 14.7652209681\n",
      "FOR: 0.0825770419866\n"
     ]
    }
   ],
   "source": [
    "best_feats = getMaximumAccuracyFeatures(knn_model2)[0]\n",
    "knn_model2[best_feats]['cm'].print_stats()"
   ]
  },
  {
   "cell_type": "code",
   "execution_count": 99,
   "metadata": {},
   "outputs": [
    {
     "name": "stdout",
     "output_type": "stream",
     "text": [
      "KNN 3: [####################] 100% DONE\n"
     ]
    }
   ],
   "source": [
    "knn_model3 = automateKNNAlgorithmModelWithRFEForest()"
   ]
  },
  {
   "cell_type": "code",
   "execution_count": 100,
   "metadata": {},
   "outputs": [
    {
     "data": {
      "image/png": "[encoded data removed]",
      "text/plain": [
       "<matplotlib.figure.Figure at 0x1133fc278>"
      ]
     },
     "metadata": {},
     "output_type": "display_data"
    }
   ],
   "source": [
    "plotAccuracyForModelFeatures(knn_model3)\n"
   ]
  },
  {
   "cell_type": "code",
   "execution_count": 101,
   "metadata": {},
   "outputs": [
    {
     "name": "stdout",
     "output_type": "stream",
     "text": [
      "The best accuracy for rfe forest is:  0.795484727756  with  32  features\n"
     ]
    }
   ],
   "source": [
    "print(\"The best accuracy for rfe forest is: \", getMaximumAccuracyFeatures(knn_model3)[1], \" with \", getMaximumAccuracyFeatures(knn_model3)[0], \" features\")"
   ]
  },
  {
   "cell_type": "code",
   "execution_count": 102,
   "metadata": {},
   "outputs": [
    {
     "name": "stdout",
     "output_type": "stream",
     "text": [
      "population: 15060\n",
      "P: 3700\n",
      "N: 11360\n",
      "PositiveTest: 5170\n",
      "NegativeTest: 9890\n",
      "TP: 2895\n",
      "TN: 9085\n",
      "FP: 2275\n",
      "FN: 805\n",
      "TPR: 0.782432432432\n",
      "TNR: 0.799735915493\n",
      "PPV: 0.55996131528\n",
      "NPV: 0.918604651163\n",
      "FPR: 0.200264084507\n",
      "FDR: 0.44003868472\n",
      "FNR: 0.217567567568\n",
      "ACC: 0.795484727756\n",
      "F1_score: 0.652762119504\n",
      "MCC: 0.527831372749\n",
      "informedness: 0.582168347925\n",
      "markedness: 0.478565966443\n",
      "prevalence: 0.245683930943\n",
      "LRP: 3.907003267\n",
      "LRN: 0.272049264454\n",
      "DOR: 14.3613814757\n",
      "FOR: 0.0813953488372\n"
     ]
    }
   ],
   "source": [
    "best_feats = getMaximumAccuracyFeatures(knn_model3)[0]\n",
    "knn_model3[best_feats]['cm'].print_stats()"
   ]
  },
  {
   "cell_type": "markdown",
   "metadata": {},
   "source": [
    "## RANDOM FOREST"
   ]
  },
  {
   "cell_type": "code",
   "execution_count": 59,
   "metadata": {
    "collapsed": true
   },
   "outputs": [],
   "source": [
    "def runRandomForestModel(train_x, train_y, test_x, test_y):\n",
    "    rf_model = RandomForestClassifier(n_jobs=2)\n",
    "    rf_model.fit(train_x, train_y)\n",
    "    predicted = rf_model.predict(test_x)\n",
    "    report = \"-- CLASSIFICATION REPORT -- \\n\", metrics.classification_report(test_y, predicted), \"-- CONFUSION MATRIX --  \\n\", confusion_matrix(Y_test, predicted), \"\\n\", \"-- ACCURACY SCORE -- \\n \", metrics.accuracy_score(Y_test, predicted), \"\\n\"\n",
    "    accuracy_score = metrics.accuracy_score(Y_test, predicted)\n",
    "    cm = ConfusionMatrix(Y_test, predicted)\n",
    "    return cm, report,accuracy_score\n",
    "\n",
    "def automateRandomForestModelWithChi2():\n",
    "    models = {}\n",
    "    total = len(chi2_features)\n",
    "    count=0\n",
    "    for k,v in chi2_features.items():\n",
    "        #print(\"******Chi2 Random Forest model with \"+ str(k)+ \" Features!****** \\n\")\n",
    "        train_selected = X[:, v]\n",
    "        test_selected = X_test[:, v]\n",
    "        cm, report, score = runRandomForestModel(train_selected, Y, test_selected, Y_test)\n",
    "        models[k] = {\"cm\":cm, \"report\":report, \"accuracy\":score, \"to_plot\":(k,score)}\n",
    "        #print(\"Accuracy: \", score*100, \"%\\n\")\n",
    "        update_progress(\"Random Forest chi2\", count/total)\n",
    "    update_progress(\"Random Forest chi2\", 1)        \n",
    "    return models\n",
    "\n",
    "def automateRandomForestModelWithRFE():\n",
    "    models = {}\n",
    "    total = len(rfe_features)\n",
    "    count=0    \n",
    "    for k,v in rfe_features.items():\n",
    "        #print(\"******RFE Random Forest Model with \"+ str(k)+ \" Features!****** \\n\")\n",
    "        train_selected = X[:, v]\n",
    "        test_selected = X_test[:, v]\n",
    "        cm, report, score = runRandomForestModel(train_selected, Y, test_selected, Y_test)\n",
    "        models[k] = {\"cm\":cm, \"report\":report, \"accuracy\":score, \"to_plot\":(k,score)}\n",
    "        #print(\"Accuracy: \", score*100, \"%\\n\")\n",
    "        update_progress(\"Random Forest rfe\", count/total)\n",
    "    update_progress(\"Random Forest rfe\", 1)          \n",
    "    return models\n",
    "\n",
    "def randomForestOnTrainSet(train_x, train_y):\n",
    "    model = RandomForestClassifier(n_jobs=2)\n",
    "    model.fit(train_x, train_y)\n",
    "    predicted = model.predict(train_x)\n",
    "    report = \"-- CLASSIFICATION REPORT -- \\n\", metrics.classification_report(train_y, predicted), \"-- CONFUSION MATRIX --  \\n\", confusion_matrix(train_y, predicted), \"\\n\", \"-- ACCURACY SCORE -- \\n \", metrics.accuracy_score(train_y, predicted), \"\\n\"\n",
    "    accuracy_score = metrics.accuracy_score(train_y, predicted)\n",
    "    cm = ConfusionMatrix(train_y, predicted)\n",
    "    return cm, report,accuracy_score\n",
    "\n",
    "\n",
    "def automateRandomForestModelWithRFEForest():\n",
    "    models = {}\n",
    "    total = len(rfe_forest_features)\n",
    "    count=0  \n",
    "    for k,v in rfe_forest_features.items():\n",
    "        #print(\"******RFE Random Forest Model with \"+ str(k)+ \" Features!****** \\n\")\n",
    "        train_selected = X[:, v]\n",
    "        test_selected = X_test[:, v]\n",
    "        cm, report, score = runRandomForestModel(train_selected, Y, test_selected, Y_test)\n",
    "        models[k] = {\"cm\":cm, \"report\":report, \"accuracy\":score, \"to_plot\":(k,score)}\n",
    "        #print(\"Accuracy: \", score*100, \"%\\n\")\n",
    "        update_progress(\"Random Forest rfe Forest\", count/total)\n",
    "    update_progress(\"Random Forest rfe Forest\", 1)          \n",
    "    return models\n"
   ]
  },
  {
   "cell_type": "markdown",
   "metadata": {},
   "source": [
    "#### RANDOM FOREST USING ALL AVAILABLE FEATURES "
   ]
  },
  {
   "cell_type": "code",
   "execution_count": 60,
   "metadata": {},
   "outputs": [
    {
     "name": "stdout",
     "output_type": "stream",
     "text": [
      "(TEST SET) -- Accuracy when all features are used is:  79.833997344 %\n",
      "population: 15060\n",
      "P: 3700\n",
      "N: 11360\n",
      "PositiveTest: 4487\n",
      "NegativeTest: 10573\n",
      "TP: 2575\n",
      "TN: 9448\n",
      "FP: 1912\n",
      "FN: 1125\n",
      "TPR: 0.695945945946\n",
      "TNR: 0.831690140845\n",
      "PPV: 0.573880098061\n",
      "NPV: 0.893596897758\n",
      "FPR: 0.168309859155\n",
      "FDR: 0.426119901939\n",
      "FNR: 0.304054054054\n",
      "ACC: 0.79833997344\n",
      "F1_score: 0.629046048614\n",
      "MCC: 0.496646486687\n",
      "informedness: 0.527636086791\n",
      "markedness: 0.46747699582\n",
      "prevalence: 0.245683930943\n",
      "LRP: 4.13490896754\n",
      "LRN: 0.365585738151\n",
      "DOR: 11.310367271\n",
      "FOR: 0.106403102242\n"
     ]
    }
   ],
   "source": [
    "rf_cm, rf_report, rf_acc = runRandomForestModel(X,Y,X_test,Y_test)\n",
    "print(\"(TEST SET) -- Accuracy when all features are used is: \", rf_acc*100, \"%\")\n",
    "rf_cm.print_stats()"
   ]
  },
  {
   "cell_type": "code",
   "execution_count": 61,
   "metadata": {},
   "outputs": [
    {
     "name": "stdout",
     "output_type": "stream",
     "text": [
      "(TRAINING SET) -- Accuracy when all features are used is:  98.423577793 %\n",
      "population: 17508\n",
      "P: 7508\n",
      "N: 10000\n",
      "PositiveTest: 7390\n",
      "NegativeTest: 10118\n",
      "TP: 7311\n",
      "TN: 9921\n",
      "FP: 79\n",
      "FN: 197\n",
      "TPR: 0.973761321257\n",
      "TNR: 0.9921\n",
      "PPV: 0.989309878214\n",
      "NPV: 0.980529748962\n",
      "FPR: 0.0079\n",
      "FDR: 0.0106901217862\n",
      "FNR: 0.0262386787427\n",
      "ACC: 0.98423577793\n",
      "F1_score: 0.981474023359\n",
      "MCC: 0.967848430134\n",
      "informedness: 0.965861321257\n",
      "markedness: 0.969839627176\n",
      "prevalence: 0.428832533699\n",
      "LRP: 123.260926741\n",
      "LRN: 0.0264476149004\n",
      "DOR: 4660.56872068\n",
      "FOR: 0.0194702510378\n"
     ]
    }
   ],
   "source": [
    "rft_cm, rft_report, rft_acc = randomForestOnTrainSet(X,Y)\n",
    "print(\"(TRAINING SET) -- Accuracy when all features are used is: \", rft_acc*100, \"%\")\n",
    "rft_cm.print_stats()"
   ]
  },
  {
   "cell_type": "code",
   "execution_count": 62,
   "metadata": {},
   "outputs": [
    {
     "name": "stdout",
     "output_type": "stream",
     "text": [
      "Random Forest chi2: [####################] 100% DONE\n"
     ]
    },
    {
     "data": {
      "image/png": "[encoded data removed]",
      "text/plain": [
       "<matplotlib.figure.Figure at 0x11a6d1828>"
      ]
     },
     "metadata": {},
     "output_type": "display_data"
    }
   ],
   "source": [
    "rf_chi2 = automateRandomForestModelWithChi2()\n",
    "plotAccuracyForModelFeatures(rf_chi2)"
   ]
  },
  {
   "cell_type": "code",
   "execution_count": 63,
   "metadata": {},
   "outputs": [
    {
     "name": "stdout",
     "output_type": "stream",
     "text": [
      "The best accuracy for chi2 is:  0.799136786189  with  78  features\n"
     ]
    }
   ],
   "source": [
    "print(\"The best accuracy for chi2 is: \", getMaximumAccuracyFeatures(rf_chi2)[1], \" with \", getMaximumAccuracyFeatures(rf_chi2)[0], \" features\")"
   ]
  },
  {
   "cell_type": "code",
   "execution_count": 64,
   "metadata": {},
   "outputs": [
    {
     "name": "stdout",
     "output_type": "stream",
     "text": [
      "population: 15060\n",
      "P: 3700\n",
      "N: 11360\n",
      "PositiveTest: 4431\n",
      "NegativeTest: 10629\n",
      "TP: 2553\n",
      "TN: 9482\n",
      "FP: 1878\n",
      "FN: 1147\n",
      "TPR: 0.69\n",
      "TNR: 0.834683098592\n",
      "PPV: 0.576167907921\n",
      "NPV: 0.892087684636\n",
      "FPR: 0.165316901408\n",
      "FDR: 0.423832092079\n",
      "FNR: 0.31\n",
      "ACC: 0.799136786189\n",
      "F1_score: 0.627967039725\n",
      "MCC: 0.495667020525\n",
      "informedness: 0.524683098592\n",
      "markedness: 0.468255592558\n",
      "prevalence: 0.245683930943\n",
      "LRP: 4.17380191693\n",
      "LRN: 0.371398439148\n",
      "DOR: 11.2380706998\n",
      "FOR: 0.107912315364\n"
     ]
    }
   ],
   "source": [
    "best_feats = getMaximumAccuracyFeatures(rf_chi2)[0]\n",
    "rf_chi2[best_feats]['cm'].print_stats()"
   ]
  },
  {
   "cell_type": "code",
   "execution_count": 65,
   "metadata": {},
   "outputs": [
    {
     "name": "stdout",
     "output_type": "stream",
     "text": [
      "Random Forest rfe: [####################] 100% DONE\n"
     ]
    },
    {
     "data": {
      "image/png": "[encoded data removed]",
      "text/plain": [
       "<matplotlib.figure.Figure at 0x113fdb278>"
      ]
     },
     "metadata": {},
     "output_type": "display_data"
    }
   ],
   "source": [
    "rf_rfe = automateRandomForestModelWithRFE()\n",
    "plotAccuracyForModelFeatures(rf_rfe)"
   ]
  },
  {
   "cell_type": "code",
   "execution_count": 66,
   "metadata": {},
   "outputs": [
    {
     "name": "stdout",
     "output_type": "stream",
     "text": [
      "The best accuracy for rfe is:  0.799468791501  with  79  features\n"
     ]
    }
   ],
   "source": [
    "print(\"The best accuracy for rfe is: \", getMaximumAccuracyFeatures(rf_rfe)[1], \" with \", getMaximumAccuracyFeatures(rf_rfe)[0], \" features\")"
   ]
  },
  {
   "cell_type": "code",
   "execution_count": 67,
   "metadata": {},
   "outputs": [
    {
     "name": "stdout",
     "output_type": "stream",
     "text": [
      "population: 15060\n",
      "P: 3700\n",
      "N: 11360\n",
      "PositiveTest: 4472\n",
      "NegativeTest: 10588\n",
      "TP: 2576\n",
      "TN: 9464\n",
      "FP: 1896\n",
      "FN: 1124\n",
      "TPR: 0.696216216216\n",
      "TNR: 0.833098591549\n",
      "PPV: 0.57602862254\n",
      "NPV: 0.89384208538\n",
      "FPR: 0.166901408451\n",
      "FDR: 0.42397137746\n",
      "FNR: 0.303783783784\n",
      "ACC: 0.799468791501\n",
      "F1_score: 0.630445423397\n",
      "MCC: 0.498707853795\n",
      "informedness: 0.529314807766\n",
      "markedness: 0.46987070792\n",
      "prevalence: 0.245683930943\n",
      "LRP: 4.17142205497\n",
      "LRN: 0.364643256951\n",
      "DOR: 11.4397345226\n",
      "FOR: 0.10615791462\n"
     ]
    }
   ],
   "source": [
    "best_feats = getMaximumAccuracyFeatures(rf_rfe)[0]\n",
    "rf_rfe[best_feats]['cm'].print_stats()"
   ]
  },
  {
   "cell_type": "code",
   "execution_count": 103,
   "metadata": {},
   "outputs": [
    {
     "name": "stdout",
     "output_type": "stream",
     "text": [
      "Random Forest rfe Forest: [####################] 100% DONE\n"
     ]
    },
    {
     "data": {
      "image/png": "[encoded data removed]",
      "text/plain": [
       "<matplotlib.figure.Figure at 0x113fa7898>"
      ]
     },
     "metadata": {},
     "output_type": "display_data"
    }
   ],
   "source": [
    "rf_rfe_forest = automateRandomForestModelWithRFEForest()\n",
    "plotAccuracyForModelFeatures(rf_rfe_forest)"
   ]
  },
  {
   "cell_type": "code",
   "execution_count": 104,
   "metadata": {},
   "outputs": [
    {
     "name": "stdout",
     "output_type": "stream",
     "text": [
      "The best accuracy for rfe forest is:  0.799867197875  with  54  features\n"
     ]
    }
   ],
   "source": [
    "print(\"The best accuracy for rfe forest is: \", getMaximumAccuracyFeatures(rf_rfe_forest)[1], \" with \", getMaximumAccuracyFeatures(rf_rfe_forest)[0], \" features\")"
   ]
  },
  {
   "cell_type": "code",
   "execution_count": 105,
   "metadata": {},
   "outputs": [
    {
     "name": "stdout",
     "output_type": "stream",
     "text": [
      "population: 15060\n",
      "P: 3700\n",
      "N: 11360\n",
      "PositiveTest: 4412\n",
      "NegativeTest: 10648\n",
      "TP: 2549\n",
      "TN: 9497\n",
      "FP: 1863\n",
      "FN: 1151\n",
      "TPR: 0.688918918919\n",
      "TNR: 0.836003521127\n",
      "PPV: 0.577742520399\n",
      "NPV: 0.89190458302\n",
      "FPR: 0.163996478873\n",
      "FDR: 0.422257479601\n",
      "FNR: 0.311081081081\n",
      "ACC: 0.799867197875\n",
      "F1_score: 0.628451676529\n",
      "MCC: 0.496516166391\n",
      "informedness: 0.524922440046\n",
      "markedness: 0.469647103419\n",
      "prevalence: 0.245683930943\n",
      "LRP: 4.20081530806\n",
      "LRN: 0.372104989058\n",
      "DOR: 11.2893280972\n",
      "FOR: 0.10809541698\n"
     ]
    }
   ],
   "source": [
    "best_feats = getMaximumAccuracyFeatures(rf_rfe_forest)[0]\n",
    "rf_rfe_forest[best_feats]['cm'].print_stats()"
   ]
  },
  {
   "cell_type": "markdown",
   "metadata": {},
   "source": [
    "## NAIVE BAYES"
   ]
  },
  {
   "cell_type": "code",
   "execution_count": 68,
   "metadata": {
    "collapsed": true
   },
   "outputs": [],
   "source": [
    "def runNaiveBayesModel(train_x, train_y, test_x, test_y):\n",
    "    model = GaussianNB()\n",
    "    model.fit(train_x, train_y)\n",
    "    predicted = model.predict(test_x)\n",
    "    report = \"-- CLASSIFICATION REPORT -- \\n\", metrics.classification_report(test_y, predicted), \"-- CONFUSION MATRIX --  \\n\", confusion_matrix(Y_test, predicted), \"\\n\", \"-- ACCURACY SCORE -- \\n \", metrics.accuracy_score(Y_test, predicted), \"\\n\"\n",
    "    accuracy_score = metrics.accuracy_score(Y_test, predicted)\n",
    "    cm = ConfusionMatrix(Y_test, predicted)\n",
    "    return cm, report,accuracy_score\n",
    "\n",
    "def automateNaiveBayesModelWithChi2():\n",
    "    models = {}\n",
    "    for k,v in chi2_features.items():\n",
    "        #print(\"******Chi2 Naive Bayes model with \"+ str(k)+ \" Features!****** \\n\")\n",
    "        train_selected = X[:, v]\n",
    "        test_selected = X_test[:, v]\n",
    "        cm, report, score = runNaiveBayesModel(train_selected, Y, test_selected, Y_test)\n",
    "        models[k] = {\"cm\":cm, \"report\":report, \"accuracy\":score, \"to_plot\":(k,score)}\n",
    "        #print(\"Accuracy: \", score*100, \"%\\n\")\n",
    "    return models\n",
    "\n",
    "def automateNaiveBayesModelWithRFE():\n",
    "    models = {}\n",
    "    for k,v in rfe_features.items():\n",
    "        #print(\"******RFE Naive Bayes with \"+ str(k)+ \" Features!****** \\n\")\n",
    "        train_selected = X[:, v]\n",
    "        test_selected = X_test[:, v]\n",
    "        cm, report, score = runNaiveBayesModel(train_selected, Y, test_selected, Y_test)\n",
    "        models[k] = {\"cm\":cm, \"report\":report, \"accuracy\":score, \"to_plot\":(k,score)}\n",
    "        #print(\"Accuracy: \", score*100, \"%\\n\")\n",
    "    return models\n",
    "\n",
    "def automateNaiveBayesModelWithRFEForest():\n",
    "    models = {}\n",
    "    for k,v in rfe_forest_features.items():\n",
    "        #print(\"******RFE Naive Bayes with \"+ str(k)+ \" Features!****** \\n\")\n",
    "        train_selected = X[:, v]\n",
    "        test_selected = X_test[:, v]\n",
    "        cm, report, score = runNaiveBayesModel(train_selected, Y, test_selected, Y_test)\n",
    "        models[k] = {\"cm\":cm, \"report\":report, \"accuracy\":score,\"to_plot\":(k,score)}\n",
    "        #print(\"Accuracy: \", score*100, \"%\\n\")\n",
    "    return models\n",
    "\n",
    "\n",
    "def trainSetNaiveBayes(train_x, train_y):\n",
    "    model = GaussianNB()    \n",
    "    model.fit(train_x, train_y)\n",
    "    predicted = model.predict(train_x)\n",
    "    report = \"-- CLASSIFICATION REPORT -- \\n\", metrics.classification_report(train_y, predicted), \"-- CONFUSION MATRIX --  \\n\", confusion_matrix(train_y, predicted), \"\\n\", \"-- ACCURACY SCORE -- \\n \", metrics.accuracy_score(train_y, predicted), \"\\n\"\n",
    "    accuracy_score = metrics.accuracy_score(train_y, predicted)\n",
    "    cm = ConfusionMatrix(train_y, predicted)\n",
    "    return cm, report,accuracy_score"
   ]
  },
  {
   "cell_type": "markdown",
   "metadata": {},
   "source": [
    "#### RUN NAIVE BAYES ON DATA WITH ALL FEATURES(77)"
   ]
  },
  {
   "cell_type": "code",
   "execution_count": 69,
   "metadata": {},
   "outputs": [
    {
     "name": "stdout",
     "output_type": "stream",
     "text": [
      "(Test SET) Accuracy when all features are used is:  52.96812749 %\n",
      "population: 15060\n",
      "P: 3700\n",
      "N: 11360\n",
      "PositiveTest: 10329\n",
      "NegativeTest: 4731\n",
      "TP: 3473\n",
      "TN: 4504\n",
      "FP: 6856\n",
      "FN: 227\n",
      "TPR: 0.938648648649\n",
      "TNR: 0.396478873239\n",
      "PPV: 0.336237777132\n",
      "NPV: 0.952018600719\n",
      "FPR: 0.603521126761\n",
      "FDR: 0.663762222868\n",
      "FNR: 0.0613513513514\n",
      "ACC: 0.5296812749\n",
      "F1_score: 0.49511725711\n",
      "MCC: 0.310809661333\n",
      "informedness: 0.335127521888\n",
      "markedness: 0.288256377851\n",
      "prevalence: 0.245683930943\n",
      "LRP: 1.55528714245\n",
      "LRN: 0.154740530939\n",
      "DOR: 10.0509358021\n",
      "FOR: 0.0479813992813\n"
     ]
    }
   ],
   "source": [
    "nb_cm, nb_report, nb_acc = runNaiveBayesModel(X,Y,X_test,Y_test)\n",
    "print(\"(Test SET) Accuracy when all features are used is: \", nb_acc*100, \"%\")\n",
    "nb_cm.print_stats()"
   ]
  },
  {
   "cell_type": "code",
   "execution_count": 70,
   "metadata": {},
   "outputs": [
    {
     "name": "stdout",
     "output_type": "stream",
     "text": [
      "(TRAINING SET) Accuracy when all features are used is:  63.4966872287 %\n",
      "population: 17508\n",
      "P: 7508\n",
      "N: 10000\n",
      "PositiveTest: 13169\n",
      "NegativeTest: 4339\n",
      "TP: 7143\n",
      "TN: 3974\n",
      "FP: 6026\n",
      "FN: 365\n",
      "TPR: 0.951385189132\n",
      "TNR: 0.3974\n",
      "PPV: 0.542410205786\n",
      "NPV: 0.915879234847\n",
      "FPR: 0.6026\n",
      "FDR: 0.457589794214\n",
      "FNR: 0.0486148108684\n",
      "ACC: 0.634966872287\n",
      "F1_score: 0.690912608212\n",
      "MCC: 0.399805664327\n",
      "informedness: 0.348785189132\n",
      "markedness: 0.458289440633\n",
      "prevalence: 0.428832533699\n",
      "LRP: 1.578800513\n",
      "LRN: 0.122332186383\n",
      "DOR: 12.9058472646\n",
      "FOR: 0.0841207651533\n"
     ]
    }
   ],
   "source": [
    "nbt_cm, nbt_report, nbt_acc = trainSetNaiveBayes(X,Y)\n",
    "print(\"(TRAINING SET) Accuracy when all features are used is: \", nbt_acc*100, \"%\")\n",
    "nbt_cm.print_stats()"
   ]
  },
  {
   "cell_type": "code",
   "execution_count": 71,
   "metadata": {},
   "outputs": [
    {
     "data": {
      "image/png": "[encoded data removed]",
      "text/plain": [
       "<matplotlib.figure.Figure at 0x11343b208>"
      ]
     },
     "metadata": {},
     "output_type": "display_data"
    }
   ],
   "source": [
    "nb1 = automateNaiveBayesModelWithChi2()\n",
    "plotAccuracyForModelFeatures(nb1)"
   ]
  },
  {
   "cell_type": "code",
   "execution_count": 72,
   "metadata": {},
   "outputs": [
    {
     "name": "stdout",
     "output_type": "stream",
     "text": [
      "The best accuracy for chi2 is:  0.741367861886  with  23  features\n"
     ]
    }
   ],
   "source": [
    "print(\"The best accuracy for chi2 is: \", getMaximumAccuracyFeatures(nb1)[1], \" with \", getMaximumAccuracyFeatures(nb1)[0], \" features\")"
   ]
  },
  {
   "cell_type": "code",
   "execution_count": 73,
   "metadata": {},
   "outputs": [
    {
     "name": "stdout",
     "output_type": "stream",
     "text": [
      "population: 15060\n",
      "P: 3700\n",
      "N: 11360\n",
      "PositiveTest: 6493\n",
      "NegativeTest: 8567\n",
      "TP: 3149\n",
      "TN: 8016\n",
      "FP: 3344\n",
      "FN: 551\n",
      "TPR: 0.851081081081\n",
      "TNR: 0.705633802817\n",
      "PPV: 0.484983828739\n",
      "NPV: 0.935683436442\n",
      "FPR: 0.294366197183\n",
      "FDR: 0.515016171261\n",
      "FNR: 0.148918918919\n",
      "ACC: 0.741367861886\n",
      "F1_score: 0.617875012263\n",
      "MCC: 0.483933598436\n",
      "informedness: 0.556714883898\n",
      "markedness: 0.420667265181\n",
      "prevalence: 0.245683930943\n",
      "LRP: 2.89123238071\n",
      "LRN: 0.211042779306\n",
      "DOR: 13.6997455692\n",
      "FOR: 0.0643165635578\n"
     ]
    }
   ],
   "source": [
    "best_feats = getMaximumAccuracyFeatures(nb1)[0]\n",
    "nb1[best_feats]['cm'].print_stats()"
   ]
  },
  {
   "cell_type": "code",
   "execution_count": 74,
   "metadata": {},
   "outputs": [
    {
     "name": "stderr",
     "output_type": "stream",
     "text": [
      "/Users/ibrahimdawha/anaconda/lib/python3.6/site-packages/sklearn/metrics/classification.py:1113: UndefinedMetricWarning: Precision and F-score are ill-defined and being set to 0.0 in labels with no predicted samples.\n",
      "  'precision', 'predicted', average, warn_for)\n"
     ]
    },
    {
     "data": {
      "image/png": "[encoded data removed]",
      "text/plain": [
       "<matplotlib.figure.Figure at 0x1131dd860>"
      ]
     },
     "metadata": {},
     "output_type": "display_data"
    }
   ],
   "source": [
    "nb2 = automateNaiveBayesModelWithRFEForest()\n",
    "plotAccuracyForModelFeatures(nb2)"
   ]
  },
  {
   "cell_type": "code",
   "execution_count": 75,
   "metadata": {},
   "outputs": [
    {
     "name": "stdout",
     "output_type": "stream",
     "text": [
      "The best accuracy for rfe (Random Forest) is:  0.775298804781  with  5  features\n"
     ]
    }
   ],
   "source": [
    "print(\"The best accuracy for rfe (Random Forest) is: \", getMaximumAccuracyFeatures(nb2)[1], \" with \", getMaximumAccuracyFeatures(nb2)[0], \" features\")"
   ]
  },
  {
   "cell_type": "code",
   "execution_count": 76,
   "metadata": {},
   "outputs": [
    {
     "name": "stdout",
     "output_type": "stream",
     "text": [
      "population: 15060\n",
      "P: 3700\n",
      "N: 11360\n",
      "PositiveTest: 5638\n",
      "NegativeTest: 9422\n",
      "TP: 2977\n",
      "TN: 8699\n",
      "FP: 2661\n",
      "FN: 723\n",
      "TPR: 0.804594594595\n",
      "TNR: 0.765757042254\n",
      "PPV: 0.528024122029\n",
      "NPV: 0.923264699639\n",
      "FPR: 0.234242957746\n",
      "FDR: 0.471975877971\n",
      "FNR: 0.195405405405\n",
      "ACC: 0.775298804781\n",
      "F1_score: 0.637609766545\n",
      "MCC: 0.507339450595\n",
      "informedness: 0.570351636848\n",
      "markedness: 0.451288821668\n",
      "prevalence: 0.245683930943\n",
      "LRP: 3.43487207613\n",
      "LRN: 0.255179377561\n",
      "DOR: 13.460617817\n",
      "FOR: 0.0767353003609\n"
     ]
    }
   ],
   "source": [
    "best_feats = getMaximumAccuracyFeatures(nb2)[0]\n",
    "nb2[best_feats]['cm'].print_stats()"
   ]
  },
  {
   "cell_type": "code",
   "execution_count": 77,
   "metadata": {},
   "outputs": [
    {
     "data": {
      "image/png": "[encoded data removed]",
      "text/plain": [
       "<matplotlib.figure.Figure at 0x11a97e438>"
      ]
     },
     "metadata": {},
     "output_type": "display_data"
    }
   ],
   "source": [
    "nb3 = automateNaiveBayesModelWithRFE()\n",
    "plotAccuracyForModelFeatures(nb3)"
   ]
  },
  {
   "cell_type": "code",
   "execution_count": 78,
   "metadata": {},
   "outputs": [
    {
     "name": "stdout",
     "output_type": "stream",
     "text": [
      "The best accuracy for rfe (Logistic regression) is:  0.777888446215  with  4  features\n"
     ]
    }
   ],
   "source": [
    "print(\"The best accuracy for rfe (Logistic regression) is: \", getMaximumAccuracyFeatures(nb3)[1], \" with \", getMaximumAccuracyFeatures(nb3)[0], \" features\")"
   ]
  },
  {
   "cell_type": "code",
   "execution_count": 79,
   "metadata": {},
   "outputs": [
    {
     "name": "stdout",
     "output_type": "stream",
     "text": [
      "population: 15060\n",
      "P: 3700\n",
      "N: 11360\n",
      "PositiveTest: 5579\n",
      "NegativeTest: 9481\n",
      "TP: 2967\n",
      "TN: 8748\n",
      "FP: 2612\n",
      "FN: 733\n",
      "TPR: 0.801891891892\n",
      "TNR: 0.770070422535\n",
      "PPV: 0.531815737587\n",
      "NPV: 0.922687480224\n",
      "FPR: 0.229929577465\n",
      "FDR: 0.468184262413\n",
      "FNR: 0.198108108108\n",
      "ACC: 0.777888446215\n",
      "F1_score: 0.639508567734\n",
      "MCC: 0.509861463903\n",
      "informedness: 0.571962314427\n",
      "markedness: 0.454503217811\n",
      "prevalence: 0.245683930943\n",
      "LRP: 3.48755432308\n",
      "LRN: 0.257259728865\n",
      "DOR: 13.5565497891\n",
      "FOR: 0.0773125197764\n"
     ]
    }
   ],
   "source": [
    "best_feats = getMaximumAccuracyFeatures(nb3)[0]\n",
    "nb3[best_feats]['cm'].print_stats()"
   ]
  },
  {
   "cell_type": "markdown",
   "metadata": {},
   "source": [
    "## DECISION TREES"
   ]
  },
  {
   "cell_type": "code",
   "execution_count": 80,
   "metadata": {
    "collapsed": true
   },
   "outputs": [],
   "source": [
    "def runDecisionTreeModel(train_x, train_y, test_x, test_y):\n",
    "    model = DecisionTreeClassifier()\n",
    "    model.fit(train_x, train_y)\n",
    "    predicted = model.predict(test_x)\n",
    "    report = \"-- CLASSIFICATION REPORT -- \\n\", metrics.classification_report(test_y, predicted), \"-- CONFUSION MATRIX --  \\n\", confusion_matrix(Y_test, predicted), \"\\n\", \"-- ACCURACY SCORE -- \\n \", metrics.accuracy_score(Y_test, predicted), \"\\n\"\n",
    "    accuracy_score = metrics.accuracy_score(Y_test, predicted)\n",
    "    cm = ConfusionMatrix(Y_test, predicted)\n",
    "    return cm, report,accuracy_score\n",
    "\n",
    "def automateDecisionTreeModelWithChi2():\n",
    "    models = {}\n",
    "    for k,v in chi2_features.items():\n",
    "        #print(\"******Chi2 Support Vector Machine model with \"+ str(k)+ \" Features!****** \\n\")\n",
    "        train_selected = X[:, v]\n",
    "        test_selected = X_test[:, v]\n",
    "        cm, report, score = runDecisionTreeModel(train_selected, Y, test_selected, Y_test)\n",
    "        models[k] = {\"cm\":cm, \"report\":report, \"accuracy\":score,\"to_plot\":(k,score)}\n",
    "        #print(\"Accuracy: \", score*100, \"%\\n\")\n",
    "    return models\n",
    "\n",
    "def automateDecisionTreeModelWithRFE():\n",
    "    models = {}\n",
    "    for k,v in rfe_features.items():\n",
    "        #print(\"******RFE Support Vector Machine with \"+ str(k)+ \" Features!****** \\n\")\n",
    "        train_selected = X[:, v]\n",
    "        test_selected = X_test[:, v]\n",
    "        cm, report, score = runDecisionTreeModel(train_selected, Y, test_selected, Y_test)\n",
    "        models[k] = {\"cm\":cm, \"report\":report, \"accuracy\":score,\"to_plot\":(k,score)}\n",
    "        #print(\"Accuracy: \", score*100, \"%\\n\")\n",
    "    return models\n",
    "\n",
    "\n",
    "def trainSetDecisionTree(train_x, train_y):\n",
    "    model = DecisionTreeClassifier()\n",
    "    model.fit(train_x, train_y)\n",
    "    predicted = model.predict(train_x)\n",
    "    report = \"-- CLASSIFICATION REPORT -- \\n\", metrics.classification_report(train_y, predicted), \"-- CONFUSION MATRIX --  \\n\", confusion_matrix(train_y, predicted), \"\\n\", \"-- ACCURACY SCORE -- \\n \", metrics.accuracy_score(train_y, predicted), \"\\n\"\n",
    "    accuracy_score = metrics.accuracy_score(train_y, predicted)\n",
    "    cm = ConfusionMatrix(train_y, predicted)\n",
    "    return cm, report,accuracy_score\n",
    "\n",
    "def automateDecisionTreeModelWithRFEForest():\n",
    "    models = {}\n",
    "    for k,v in rfe_forest_features.items():\n",
    "        #print(\"******RFE Support Vector Machine with \"+ str(k)+ \" Features!****** \\n\")\n",
    "        train_selected = X[:, v]\n",
    "        test_selected = X_test[:, v]\n",
    "        cm, report, score = runDecisionTreeModel(train_selected, Y, test_selected, Y_test)\n",
    "        models[k] = {\"cm\":cm, \"report\":report, \"accuracy\":score, \"to_plot\":(k,score)}\n",
    "        #print(\"Accuracy: \", score*100, \"%\\n\")\n",
    "    return models"
   ]
  },
  {
   "cell_type": "code",
   "execution_count": 81,
   "metadata": {},
   "outputs": [
    {
     "name": "stdout",
     "output_type": "stream",
     "text": [
      "(TEST SET) Accuracy when all features are used is:  74.2961487384 %\n",
      "population: 15060\n",
      "P: 3700\n",
      "N: 11360\n",
      "PositiveTest: 5341\n",
      "NegativeTest: 9719\n",
      "TP: 2585\n",
      "TN: 8604\n",
      "FP: 2756\n",
      "FN: 1115\n",
      "TPR: 0.698648648649\n",
      "TNR: 0.757394366197\n",
      "PPV: 0.483991761842\n",
      "NPV: 0.88527626299\n",
      "FPR: 0.242605633803\n",
      "FDR: 0.516008238158\n",
      "FNR: 0.301351351351\n",
      "ACC: 0.742961487384\n",
      "F1_score: 0.571839398297\n",
      "MCC: 0.410368253317\n",
      "informedness: 0.456043014846\n",
      "markedness: 0.369268024832\n",
      "prevalence: 0.245683930943\n",
      "LRP: 2.87977091751\n",
      "LRN: 0.397879050599\n",
      "DOR: 7.23780483836\n",
      "FOR: 0.11472373701\n"
     ]
    }
   ],
   "source": [
    "dt_cm, dt_report, dt_acc = runDecisionTreeModel(X,Y,X_test,Y_test)\n",
    "print(\"(TEST SET) Accuracy when all features are used is: \", dt_acc*100, \"%\")\n",
    "dt_cm.print_stats()"
   ]
  },
  {
   "cell_type": "code",
   "execution_count": 82,
   "metadata": {},
   "outputs": [
    {
     "name": "stdout",
     "output_type": "stream",
     "text": [
      "(TRAINING SET) Accuracy when all features are used is:  99.9885766507 %\n",
      "population: 17508\n",
      "P: 7508\n",
      "N: 10000\n",
      "PositiveTest: 7506\n",
      "NegativeTest: 10002\n",
      "TP: 7506\n",
      "TN: 10000\n",
      "FP: 0\n",
      "FN: 2\n",
      "TPR: 0.999733617475\n",
      "TNR: 1.0\n",
      "PPV: 1.0\n",
      "NPV: 0.999800039992\n",
      "FPR: 0.0\n",
      "FDR: 0.0\n",
      "FNR: 0.000266382525306\n",
      "ACC: 0.999885766507\n",
      "F1_score: 0.999866790995\n",
      "MCC: 0.999766828182\n",
      "informedness: 0.999733617475\n",
      "markedness: 0.999800039992\n",
      "prevalence: 0.428832533699\n",
      "LRP: inf\n",
      "LRN: 0.000266382525306\n",
      "DOR: inf\n",
      "FOR: 0.000199960007998\n"
     ]
    },
    {
     "name": "stderr",
     "output_type": "stream",
     "text": [
      "/Users/ibrahimdawha/anaconda/lib/python3.6/site-packages/pandas_ml/confusion_matrix/bcm.py:332: RuntimeWarning: divide by zero encountered in double_scalars\n",
      "  return(np.float64(self.TPR) / self.FPR)\n"
     ]
    }
   ],
   "source": [
    "dtt_cm, dtt_report, dtt_acc = trainSetDecisionTree(X,Y)\n",
    "print(\"(TRAINING SET) Accuracy when all features are used is: \", dtt_acc*100, \"%\")\n",
    "dtt_cm.print_stats()"
   ]
  },
  {
   "cell_type": "code",
   "execution_count": 83,
   "metadata": {},
   "outputs": [
    {
     "data": {
      "image/png": "[encoded data removed]",
      "text/plain": [
       "<matplotlib.figure.Figure at 0x1125ab9b0>"
      ]
     },
     "metadata": {},
     "output_type": "display_data"
    }
   ],
   "source": [
    "mm = automateDecisionTreeModelWithRFE()\n",
    "plotAccuracyForModelFeatures(mm)"
   ]
  },
  {
   "cell_type": "code",
   "execution_count": 84,
   "metadata": {},
   "outputs": [
    {
     "name": "stdout",
     "output_type": "stream",
     "text": [
      "The best accuracy for rfe (Logistic regression) is:  0.767795484728  with  10  features\n"
     ]
    }
   ],
   "source": [
    "print(\"The best accuracy for rfe (Logistic regression) is: \", getMaximumAccuracyFeatures(mm)[1], \" with \", getMaximumAccuracyFeatures(mm)[0], \" features\")"
   ]
  },
  {
   "cell_type": "code",
   "execution_count": 85,
   "metadata": {},
   "outputs": [
    {
     "name": "stdout",
     "output_type": "stream",
     "text": [
      "population: 15060\n",
      "P: 3700\n",
      "N: 11360\n",
      "PositiveTest: 5149\n",
      "NegativeTest: 9911\n",
      "TP: 2676\n",
      "TN: 8887\n",
      "FP: 2473\n",
      "FN: 1024\n",
      "TPR: 0.723243243243\n",
      "TNR: 0.782306338028\n",
      "PPV: 0.519712565547\n",
      "NPV: 0.896680456059\n",
      "FPR: 0.217693661972\n",
      "FDR: 0.480287434453\n",
      "FNR: 0.276756756757\n",
      "ACC: 0.767795484728\n",
      "F1_score: 0.604814103289\n",
      "MCC: 0.458810764605\n",
      "informedness: 0.505549581271\n",
      "markedness: 0.416393021606\n",
      "prevalence: 0.245683930943\n",
      "LRP: 3.32229811696\n",
      "LRN: 0.353770311326\n",
      "DOR: 9.39111624292\n",
      "FOR: 0.103319543941\n"
     ]
    }
   ],
   "source": [
    "best_feats = getMaximumAccuracyFeatures(mm)[0]\n",
    "mm[best_feats]['cm'].print_stats()"
   ]
  },
  {
   "cell_type": "code",
   "execution_count": 86,
   "metadata": {
    "scrolled": true
   },
   "outputs": [
    {
     "data": {
      "image/png": "[encoded data removed]",
      "text/plain": [
       "<matplotlib.figure.Figure at 0x1133fc828>"
      ]
     },
     "metadata": {},
     "output_type": "display_data"
    }
   ],
   "source": [
    "mm2 = automateDecisionTreeModelWithChi2()\n",
    "plotAccuracyForModelFeatures(mm2)"
   ]
  },
  {
   "cell_type": "code",
   "execution_count": 87,
   "metadata": {
    "scrolled": true
   },
   "outputs": [
    {
     "name": "stdout",
     "output_type": "stream",
     "text": [
      "The best accuracy for chi2 is:  0.762284196547  with  20  features\n"
     ]
    }
   ],
   "source": [
    "print(\"The best accuracy for chi2 is: \", getMaximumAccuracyFeatures(mm2)[1], \" with \", getMaximumAccuracyFeatures(mm2)[0], \" features\")"
   ]
  },
  {
   "cell_type": "code",
   "execution_count": 88,
   "metadata": {},
   "outputs": [
    {
     "name": "stdout",
     "output_type": "stream",
     "text": [
      "population: 15060\n",
      "P: 3700\n",
      "N: 11360\n",
      "PositiveTest: 5110\n",
      "NegativeTest: 9950\n",
      "TP: 2615\n",
      "TN: 8865\n",
      "FP: 2495\n",
      "FN: 1085\n",
      "TPR: 0.706756756757\n",
      "TNR: 0.78036971831\n",
      "PPV: 0.511741682975\n",
      "NPV: 0.890954773869\n",
      "FPR: 0.21963028169\n",
      "FDR: 0.488258317025\n",
      "FNR: 0.293243243243\n",
      "ACC: 0.762284196547\n",
      "F1_score: 0.593643586833\n",
      "MCC: 0.442904171965\n",
      "informedness: 0.487126475067\n",
      "markedness: 0.402696456844\n",
      "prevalence: 0.245683930943\n",
      "LRP: 3.21793857986\n",
      "LRN: 0.375774759531\n",
      "DOR: 8.56347718478\n",
      "FOR: 0.109045226131\n"
     ]
    }
   ],
   "source": [
    "best_feats = getMaximumAccuracyFeatures(mm2)[0]\n",
    "mm2[best_feats]['cm'].print_stats()"
   ]
  },
  {
   "cell_type": "code",
   "execution_count": 106,
   "metadata": {},
   "outputs": [
    {
     "data": {
      "image/png": "[encoded data removed]",
      "text/plain": [
       "<matplotlib.figure.Figure at 0x11b092940>"
      ]
     },
     "metadata": {},
     "output_type": "display_data"
    }
   ],
   "source": [
    "mm3 = automateDecisionTreeModelWithRFEForest()\n",
    "plotAccuracyForModelFeatures(mm3)"
   ]
  },
  {
   "cell_type": "code",
   "execution_count": 107,
   "metadata": {},
   "outputs": [
    {
     "name": "stdout",
     "output_type": "stream",
     "text": [
      "The best accuracy for rfe (random forest) is:  0.745019920319  with  20  features\n"
     ]
    }
   ],
   "source": [
    "print(\"The best accuracy for rfe (random forest) is: \", getMaximumAccuracyFeatures(mm3)[1], \" with \", getMaximumAccuracyFeatures(mm3)[0], \" features\")"
   ]
  },
  {
   "cell_type": "code",
   "execution_count": 108,
   "metadata": {},
   "outputs": [
    {
     "name": "stdout",
     "output_type": "stream",
     "text": [
      "population: 15060\n",
      "P: 3700\n",
      "N: 11360\n",
      "PositiveTest: 5182\n",
      "NegativeTest: 9878\n",
      "TP: 2521\n",
      "TN: 8699\n",
      "FP: 2661\n",
      "FN: 1179\n",
      "TPR: 0.681351351351\n",
      "TNR: 0.765757042254\n",
      "PPV: 0.486491702046\n",
      "NPV: 0.880643855031\n",
      "FPR: 0.234242957746\n",
      "FDR: 0.513508297954\n",
      "FNR: 0.318648648649\n",
      "ACC: 0.745019920319\n",
      "F1_score: 0.567664940329\n",
      "MCC: 0.405153537761\n",
      "informedness: 0.447108393605\n",
      "markedness: 0.367135557077\n",
      "prevalence: 0.245683930943\n",
      "LRP: 2.90873782463\n",
      "LRN: 0.416122387475\n",
      "DOR: 6.99010173973\n",
      "FOR: 0.119356144969\n"
     ]
    }
   ],
   "source": [
    "best_feats = getMaximumAccuracyFeatures(mm3)[0]\n",
    "mm3[best_feats]['cm'].print_stats()"
   ]
  },
  {
   "cell_type": "markdown",
   "metadata": {},
   "source": [
    "## SUPPORT VECTOR MACHINES"
   ]
  },
  {
   "cell_type": "code",
   "execution_count": 89,
   "metadata": {
    "collapsed": true
   },
   "outputs": [],
   "source": [
    "def runSupportVectorMachineModel(train_x, train_y, test_x, test_y, kernel='rbf'):\n",
    "    svm_model = svm.SVC()\n",
    "    svm_model.fit(train_x, train_y)\n",
    "    predicted = svm_model.predict(test_x)\n",
    "    report = \"-- CLASSIFICATION REPORT -- \\n\", metrics.classification_report(test_y, predicted), \"-- CONFUSION MATRIX --  \\n\", confusion_matrix(Y_test, predicted), \"\\n\", \"-- ACCURACY SCORE -- \\n \", metrics.accuracy_score(Y_test, predicted), \"\\n\"\n",
    "    accuracy_score = metrics.accuracy_score(Y_test, predicted)\n",
    "    cm = ConfusionMatrix(Y_test, predicted)\n",
    "    return cm, report,accuracy_score\n",
    "\n",
    "def automateSVMModelWithChi2():\n",
    "    models = {}\n",
    "    total = len(chi2_features)\n",
    "    count = 0    \n",
    "    for k,v in chi2_features.items():\n",
    "        #print(\"******Chi2 Support Vector Machine model with \"+ str(k)+ \" Features!****** \\n\")\n",
    "        train_selected = X[:, v]\n",
    "        test_selected = X_test[:, v]\n",
    "        cm, report, score = runSupportVectorMachineModel(train_selected, Y, test_selected, Y_test)\n",
    "        models[k] = {\"cm\":cm, \"report\":report, \"accuracy\":score, \"to_plot\":(k,score)}\n",
    "        #print(\"Accuracy: \", score*100, \"%\\n\")\n",
    "        update_progress('SVM chi2', count/total)\n",
    "        count = count + 1\n",
    "    update_progress('SVM chi2', 1)\n",
    "    return models\n",
    "\n",
    "def automateSVMModelWithRFE():\n",
    "    models = {}\n",
    "    total = len(rfe_features)\n",
    "    count = 0\n",
    "    for k,v in rfe_features.items():\n",
    "        #print(\"******RFE Support Vector Machine with \"+ str(k)+ \" Features!****** \\n\")\n",
    "        train_selected = X[:, v]\n",
    "        test_selected = X_test[:, v]\n",
    "        cm, report, score = runSupportVectorMachineModel(train_selected, Y, test_selected, Y_test)\n",
    "        models[k] = {\"cm\":cm, \"report\":report, \"accuracy\":score,\"to_plot\":(k,score)}\n",
    "        #print(\"Accuracy: \", score*100, \"%\\n\")\n",
    "        update_progress('SVM rfe', count/total)\n",
    "        count = count + 1\n",
    "    update_progress('SVM rfe', 1)\n",
    "\n",
    "    return models\n",
    "\n",
    "def automateSVMModelWithRFBKernel():\n",
    "    models = {}\n",
    "    #print(\"******RFB Kernel Support Vector Machine ****** \\n\")\n",
    "\n",
    "    cm, report, score = runSupportVectorMachineModel(X, Y, X_test, Y_test)\n",
    "    models = {\"cm\":cm, \"report\":report, \"accuracy\":score}\n",
    "    #print(\"Accuracy: \", score*100, \"%\\n\")\n",
    "    return models\n",
    "\n",
    "def automateSVMModelWithPolyKernel(train_x, train_y, test_x, test_y):\n",
    "    models = {}\n",
    "    #print(\"******Poly Kernel Support Vector Machine ****** \\n\")\n",
    "\n",
    "    cm, report, score = runSupportVectorMachineModel(train_x, train_y, test_x, test_y, kernel='poly')\n",
    "    models = {\"cm\":cm, \"report\":report, \"accuracy\":score}\n",
    "    #print(\"Accuracy: \", score*100, \"%\\n\")\n",
    "    return models\n",
    "\n",
    "\n",
    "def svmOnTrainSet(train_x, train_y):\n",
    "    model = svm.SVC()\n",
    "    model.fit(train_x, train_y)\n",
    "    predicted = model.predict(train_x)\n",
    "    report = \"-- CLASSIFICATION REPORT -- \\n\", metrics.classification_report(train_y, predicted), \"-- CONFUSION MATRIX --  \\n\", confusion_matrix(train_y, predicted), \"\\n\", \"-- ACCURACY SCORE -- \\n \", metrics.accuracy_score(train_y, predicted), \"\\n\"\n",
    "    accuracy_score = metrics.accuracy_score(train_y, predicted)\n",
    "    cm = ConfusionMatrix(train_y, predicted)\n",
    "    return cm, report,accuracy_score\n",
    "\n",
    "def svmOnTrainSetPoly(train_x, train_y):\n",
    "    model = svm.SVC(kernel='poly')\n",
    "    model.fit(train_x, train_y)\n",
    "    predicted = model.predict(train_x)\n",
    "    report = \"-- CLASSIFICATION REPORT -- \\n\", metrics.classification_report(train_y, predicted), \"-- CONFUSION MATRIX --  \\n\", confusion_matrix(train_y, predicted), \"\\n\", \"-- ACCURACY SCORE -- \\n \", metrics.accuracy_score(train_y, predicted), \"\\n\"\n",
    "    accuracy_score = metrics.accuracy_score(train_y, predicted)\n",
    "    cm = ConfusionMatrix(train_y, predicted)\n",
    "    return cm, report,accuracy_score\n",
    "\n",
    "def automateSVMModelWithRFEForest():\n",
    "    models = {}\n",
    "    for k,v in rfe_forest_features.items():\n",
    "        #print(\"******RFE Support Vector Machine with \"+ str(k)+ \" Features!****** \\n\")\n",
    "        train_selected = X[:, v]\n",
    "        test_selected = X_test[:, v]\n",
    "        cm, report, score = runSupportVectorMachineModel(train_selected, Y, test_selected, Y_test)\n",
    "        models[k] = {\"cm\":cm, \"report\":report, \"accuracy\":score,\"to_plot\":(k,score)}\n",
    "        #print(\"Accuracy: \", score*100, \"%\\n\")\n",
    "    return models"
   ]
  },
  {
   "cell_type": "markdown",
   "metadata": {},
   "source": [
    "#### RUN SVM DATASET WITH ALL FEATURES (77)"
   ]
  },
  {
   "cell_type": "code",
   "execution_count": 90,
   "metadata": {},
   "outputs": [
    {
     "name": "stdout",
     "output_type": "stream",
     "text": [
      "(TEST SET) RBF kernel Accuracy when all features are used is:  77.2377158035 %\n",
      "population: 15060\n",
      "P: 3700\n",
      "N: 11360\n",
      "PositiveTest: 5516\n",
      "NegativeTest: 9544\n",
      "TP: 2894\n",
      "TN: 8738\n",
      "FP: 2622\n",
      "FN: 806\n",
      "TPR: 0.782162162162\n",
      "TNR: 0.769190140845\n",
      "PPV: 0.524655547498\n",
      "NPV: 0.915549036044\n",
      "FPR: 0.230809859155\n",
      "FDR: 0.475344452502\n",
      "FNR: 0.217837837838\n",
      "ACC: 0.772377158035\n",
      "F1_score: 0.628038194444\n",
      "MCC: 0.492653844936\n",
      "informedness: 0.551352303007\n",
      "markedness: 0.440204583542\n",
      "prevalence: 0.245683930943\n",
      "LRP: 3.38877275445\n",
      "LRN: 0.283204147155\n",
      "DOR: 11.9658302624\n",
      "FOR: 0.0844509639564\n"
     ]
    }
   ],
   "source": [
    "svm_cm, svm_report, svm_acc = runSupportVectorMachineModel(X,Y,X_test,Y_test)\n",
    "print(\"(TEST SET) RBF kernel Accuracy when all features are used is: \", svm_acc*100, \"%\")\n",
    "svm_cm.print_stats()"
   ]
  },
  {
   "cell_type": "code",
   "execution_count": 91,
   "metadata": {},
   "outputs": [
    {
     "name": "stdout",
     "output_type": "stream",
     "text": [
      "(TRAINING SET) RBF kernel Accuracy when all features are used is:  77.016221156 %\n",
      "population: 17508\n",
      "P: 7508\n",
      "N: 10000\n",
      "PositiveTest: 8234\n",
      "NegativeTest: 9274\n",
      "TP: 5859\n",
      "TN: 7625\n",
      "FP: 2375\n",
      "FN: 1649\n",
      "TPR: 0.780367607885\n",
      "TNR: 0.7625\n",
      "PPV: 0.711561816857\n",
      "NPV: 0.822191071814\n",
      "FPR: 0.2375\n",
      "FDR: 0.288438183143\n",
      "FNR: 0.219632392115\n",
      "ACC: 0.77016221156\n",
      "F1_score: 0.744378096811\n",
      "MCC: 0.538290956523\n",
      "informedness: 0.542867607885\n",
      "markedness: 0.533752888671\n",
      "prevalence: 0.428832533699\n",
      "LRP: 3.28575834899\n",
      "LRN: 0.288042481462\n",
      "DOR: 11.4072005362\n",
      "FOR: 0.177808928186\n"
     ]
    }
   ],
   "source": [
    "svmt_cm, svmt_report, svmt_acc = svmOnTrainSet(X,Y)\n",
    "print(\"(TRAINING SET) RBF kernel Accuracy when all features are used is: \", svmt_acc*100, \"%\")\n",
    "svmt_cm.print_stats()"
   ]
  },
  {
   "cell_type": "code",
   "execution_count": 109,
   "metadata": {},
   "outputs": [
    {
     "name": "stdout",
     "output_type": "stream",
     "text": [
      "(Test SET) POLY kernel Accuracy when all features are used is:  accuracyaccuracyaccuracyaccuracyaccuracyaccuracyaccuracyaccuracyaccuracyaccuracyaccuracyaccuracyaccuracyaccuracyaccuracyaccuracyaccuracyaccuracyaccuracyaccuracyaccuracyaccuracyaccuracyaccuracyaccuracyaccuracyaccuracyaccuracyaccuracyaccuracyaccuracyaccuracyaccuracyaccuracyaccuracyaccuracyaccuracyaccuracyaccuracyaccuracyaccuracyaccuracyaccuracyaccuracyaccuracyaccuracyaccuracyaccuracyaccuracyaccuracyaccuracyaccuracyaccuracyaccuracyaccuracyaccuracyaccuracyaccuracyaccuracyaccuracyaccuracyaccuracyaccuracyaccuracyaccuracyaccuracyaccuracyaccuracyaccuracyaccuracyaccuracyaccuracyaccuracyaccuracyaccuracyaccuracyaccuracyaccuracyaccuracyaccuracyaccuracyaccuracyaccuracyaccuracyaccuracyaccuracyaccuracyaccuracyaccuracyaccuracyaccuracyaccuracyaccuracyaccuracyaccuracyaccuracyaccuracyaccuracyaccuracyaccuracy %\n"
     ]
    }
   ],
   "source": [
    "svm_ply_cm, svm_ply_rep, svm_ply_acc = automateSVMModelWithPolyKernel(X,Y,X_test,Y_test)\n",
    "print(\"(Test SET) POLY kernel Accuracy when all features are used is: \", svm_ply_acc*100, \"%\")\n"
   ]
  },
  {
   "cell_type": "code",
   "execution_count": 110,
   "metadata": {},
   "outputs": [
    {
     "data": {
      "text/plain": [
       "'cm'"
      ]
     },
     "execution_count": 110,
     "metadata": {},
     "output_type": "execute_result"
    }
   ],
   "source": [
    "svm_ply_cm"
   ]
  },
  {
   "cell_type": "code",
   "execution_count": 111,
   "metadata": {},
   "outputs": [
    {
     "name": "stdout",
     "output_type": "stream",
     "text": [
      "(Train SET) POLY kernel Accuracy when all features are used is:  73.0237605666 %\n",
      "population: 17508\n",
      "P: 7508\n",
      "N: 10000\n",
      "PositiveTest: 8181\n",
      "NegativeTest: 9327\n",
      "TP: 5483\n",
      "TN: 7302\n",
      "FP: 2698\n",
      "FN: 2025\n",
      "TPR: 0.730287693127\n",
      "TNR: 0.7302\n",
      "PPV: 0.670211465591\n",
      "NPV: 0.782888388549\n",
      "FPR: 0.2698\n",
      "FDR: 0.329788534409\n",
      "FNR: 0.269712306873\n",
      "ACC: 0.730237605666\n",
      "F1_score: 0.698961055517\n",
      "MCC: 0.456778837721\n",
      "informedness: 0.460487693127\n",
      "markedness: 0.45309985414\n",
      "prevalence: 0.428832533699\n",
      "LRP: 2.70677425177\n",
      "LRN: 0.369367716889\n",
      "DOR: 7.32812892952\n",
      "FOR: 0.217111611451\n"
     ]
    }
   ],
   "source": [
    "svm_ply2_cm, svm_ply2_rep, svm_ply2_acc = svmOnTrainSetPoly(X,Y)\n",
    "print(\"(Train SET) POLY kernel Accuracy when all features are used is: \", svm_ply2_acc*100, \"%\")\n",
    "svm_ply2_cm.print_stats()"
   ]
  },
  {
   "cell_type": "code",
   "execution_count": 92,
   "metadata": {},
   "outputs": [
    {
     "name": "stdout",
     "output_type": "stream",
     "text": [
      "SVM chi2: [####################] 100% DONE\n"
     ]
    },
    {
     "data": {
      "image/png": "[encoded data removed]",
      "text/plain": [
       "<matplotlib.figure.Figure at 0x11a4bd240>"
      ]
     },
     "metadata": {},
     "output_type": "display_data"
    }
   ],
   "source": [
    "sv_ch = automateSVMModelWithChi2()\n",
    "plotAccuracyForModelFeatures(sv_ch)"
   ]
  },
  {
   "cell_type": "code",
   "execution_count": 93,
   "metadata": {},
   "outputs": [
    {
     "name": "stdout",
     "output_type": "stream",
     "text": [
      "population: 15060\n",
      "P: 3700\n",
      "N: 11360\n",
      "PositiveTest: 5458\n",
      "NegativeTest: 9602\n",
      "TP: 2886\n",
      "TN: 8788\n",
      "FP: 2572\n",
      "FN: 814\n",
      "TPR: 0.78\n",
      "TNR: 0.773591549296\n",
      "PPV: 0.528765115427\n",
      "NPV: 0.915225994584\n",
      "FPR: 0.226408450704\n",
      "FDR: 0.471234884573\n",
      "FNR: 0.22\n",
      "ACC: 0.775166002656\n",
      "F1_score: 0.630268617602\n",
      "MCC: 0.495771849206\n",
      "informedness: 0.553591549296\n",
      "markedness: 0.443991110011\n",
      "prevalence: 0.245683930943\n",
      "LRP: 3.44510108865\n",
      "LRN: 0.284387801548\n",
      "DOR: 12.1140958575\n",
      "FOR: 0.0847740054155\n"
     ]
    }
   ],
   "source": [
    "best_feats = getMaximumAccuracyFeatures(sv_ch)[0]\n",
    "sv_ch[best_feats]['cm'].print_stats()"
   ]
  },
  {
   "cell_type": "code",
   "execution_count": 95,
   "metadata": {},
   "outputs": [
    {
     "name": "stdout",
     "output_type": "stream",
     "text": [
      "The best accuracy for chi2 is:  0.775166002656  with  35  features\n"
     ]
    }
   ],
   "source": [
    "print(\"The best accuracy for chi2 is: \", getMaximumAccuracyFeatures(sv_ch)[1], \" with \", getMaximumAccuracyFeatures(sv_ch)[0], \" features\")"
   ]
  },
  {
   "cell_type": "code",
   "execution_count": 96,
   "metadata": {},
   "outputs": [
    {
     "name": "stdout",
     "output_type": "stream",
     "text": [
      "SVM rfe: [####################] 100% DONE\n"
     ]
    },
    {
     "data": {
      "image/png": "[encoded data removed]",
      "text/plain": [
       "<matplotlib.figure.Figure at 0x11ac4eac8>"
      ]
     },
     "metadata": {},
     "output_type": "display_data"
    }
   ],
   "source": [
    "sv_rfe = automateSVMModelWithRFE()\n",
    "plotAccuracyForModelFeatures(sv_rfe)"
   ]
  },
  {
   "cell_type": "code",
   "execution_count": 97,
   "metadata": {},
   "outputs": [
    {
     "name": "stdout",
     "output_type": "stream",
     "text": [
      "population: 15060\n",
      "P: 3700\n",
      "N: 11360\n",
      "PositiveTest: 5470\n",
      "NegativeTest: 9590\n",
      "TP: 2893\n",
      "TN: 8783\n",
      "FP: 2577\n",
      "FN: 807\n",
      "TPR: 0.781891891892\n",
      "TNR: 0.773151408451\n",
      "PPV: 0.528884826325\n",
      "NPV: 0.915849843587\n",
      "FPR: 0.226848591549\n",
      "FDR: 0.471115173675\n",
      "FNR: 0.218108108108\n",
      "ACC: 0.775298804781\n",
      "F1_score: 0.630970556161\n",
      "MCC: 0.49683699436\n",
      "informedness: 0.555043300343\n",
      "markedness: 0.444734669912\n",
      "prevalence: 0.245683930943\n",
      "LRP: 3.44675665188\n",
      "LRN: 0.282102710703\n",
      "DOR: 12.2180912168\n",
      "FOR: 0.0841501564129\n"
     ]
    }
   ],
   "source": [
    "best_feats = getMaximumAccuracyFeatures(sv_rfe)[0]\n",
    "sv_rfe[best_feats]['cm'].print_stats()"
   ]
  },
  {
   "cell_type": "code",
   "execution_count": 98,
   "metadata": {},
   "outputs": [
    {
     "name": "stdout",
     "output_type": "stream",
     "text": [
      "The best accuracy for RFE is:  0.775298804781  with  63  features\n"
     ]
    }
   ],
   "source": [
    "print(\"The best accuracy for RFE is: \", getMaximumAccuracyFeatures(sv_rfe)[1], \" with \", getMaximumAccuracyFeatures(sv_rfe)[0], \" features\")"
   ]
  },
  {
   "cell_type": "code",
   "execution_count": null,
   "metadata": {
    "collapsed": true
   },
   "outputs": [],
   "source": []
  }
 ],
 "metadata": {
  "kernelspec": {
   "display_name": "Python 3",
   "language": "python",
   "name": "python3"
  },
  "language_info": {
   "codemirror_mode": {
    "name": "ipython",
    "version": 3
   },
   "file_extension": ".py",
   "mimetype": "text/x-python",
   "name": "python",
   "nbconvert_exporter": "python",
   "pygments_lexer": "ipython3",
   "version": "3.6.1"
  }
 },
 "nbformat": 4,
 "nbformat_minor": 2
}
